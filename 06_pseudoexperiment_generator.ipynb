{
 "cells": [
  {
   "cell_type": "code",
   "execution_count": 20,
   "id": "086d386c",
   "metadata": {},
   "outputs": [],
   "source": [
    "import pandas as pd\n",
    "import numpy as np\n",
    "from matplotlib import pyplot as plt\n",
    "import pathlib\n",
    "from lb2jpsil import lorentz\n",
    "import random"
   ]
  },
  {
   "cell_type": "code",
   "execution_count": 4,
   "id": "8b17767c",
   "metadata": {},
   "outputs": [],
   "source": [
    "## Self explanatory\n",
    "save_plots = False"
   ]
  },
  {
   "cell_type": "code",
   "execution_count": 54,
   "id": "975fb4e7",
   "metadata": {},
   "outputs": [],
   "source": [
    "class Generator:\n",
    "    \n",
    "    def __init__(self,\n",
    "        event_number: int, \n",
    "        random_state: int = 2022\n",
    "    ):\n",
    "        self._event_number = event_number\n",
    "        self._random_state = random_state\n",
    "        random.seed(random_state)\n",
    "    \n",
    "    ## Getter and setter methods\n",
    "    @property\n",
    "    def event_number(self):\n",
    "        return self._event_number\n",
    "    \n",
    "    @event_number.setter\n",
    "    def event_number(self, n):\n",
    "        self._event_number = n\n",
    "    \n",
    "    @property\n",
    "    def random_state(self):\n",
    "        return self._random_state\n",
    "    \n",
    "    @random_state.setter\n",
    "    def random_state(self, n):\n",
    "        self._random_state = n\n",
    "        random.seed(n)\n",
    "        \n",
    "    ## Individual generators\n",
    "    def generate_omega(self):\n",
    "        theta = random.uniform(0,2*np.pi)\n",
    "        phi = random.uniform(-np.pi,np.pi)\n",
    "        return theta, phi\n",
    "        \n",
    "    def generate_event(self):\n",
    "        own_vertex = [0,0, random.uniform(0,1000)]\n",
    "        momentum = [100,100,random.uniform(0,10000)]\n",
    "        decay_length = random.uniform(0,5000)\n",
    "        \n",
    "        end_vertex = [0,0,random.uniform(0,5500)]\n",
    "        theta, phi = self.generate_omega()\n",
    "        \n",
    "        event_dict = {\n",
    "            'L_OWNVERTEX_X': own_vertex[0],\n",
    "            'L_OWNVERTEX_Y': own_vertex[1],\n",
    "            'L_OWNVERTEX_Z': own_vertex[2],\n",
    "            'L_PX': momentum[0],\n",
    "            'L_PY': momentum[1],\n",
    "            'L_PZ': momentum[2],\n",
    "            'L_DECAYLENGTH': decay_length,\n",
    "            'L_ENDVERTEX_X': end_vertex[0],\n",
    "            'L_ENDVERTEX_Y': end_vertex[1],\n",
    "            'L_ENDVERTEX_Z': end_vertex[2],\n",
    "            'THETA': theta,\n",
    "            'PHI': phi\n",
    "        }\n",
    "        \n",
    "        return event_dict"
   ]
  },
  {
   "cell_type": "code",
   "execution_count": 55,
   "id": "e2db43c8",
   "metadata": {},
   "outputs": [
    {
     "data": {
      "text/plain": [
       "{'L_OWNVERTEX_X': 0,\n",
       " 'L_OWNVERTEX_Y': 0,\n",
       " 'L_OWNVERTEX_Z': 531.625749833213,\n",
       " 'L_PX': 100,\n",
       " 'L_PY': 100,\n",
       " 'L_PZ': 4426.059614551084,\n",
       " 'L_DECAYLENGTH': 1550.2678448656459,\n",
       " 'L_ENDVERTEX_X': 0,\n",
       " 'L_ENDVERTEX_Y': 0,\n",
       " 'L_ENDVERTEX_Z': 334.3441735947938,\n",
       " 'THETA': 4.923663173632757,\n",
       " 'PHI': 3.028669688968481}"
      ]
     },
     "execution_count": 55,
     "metadata": {},
     "output_type": "execute_result"
    }
   ],
   "source": [
    "pseudo_experiment_generator = Generator(10, random_state=2022)\n",
    "pseudo_experiment_generator.generate_event()"
   ]
  },
  {
   "cell_type": "code",
   "execution_count": 56,
   "id": "1d7f35a7",
   "metadata": {},
   "outputs": [
    {
     "data": {
      "text/plain": [
       "{'L_OWNVERTEX_X': 0,\n",
       " 'L_OWNVERTEX_Y': 0,\n",
       " 'L_OWNVERTEX_Z': 412.3676395792203,\n",
       " 'L_PX': 100,\n",
       " 'L_PY': 100,\n",
       " 'L_PZ': 6340.4357666716205,\n",
       " 'L_DECAYLENGTH': 4054.396041194167,\n",
       " 'L_ENDVERTEX_X': 0,\n",
       " 'L_ENDVERTEX_Y': 0,\n",
       " 'L_ENDVERTEX_Z': 4735.953140201935,\n",
       " 'THETA': 4.7815080177212135,\n",
       " 'PHI': -1.2026024268541948}"
      ]
     },
     "execution_count": 56,
     "metadata": {},
     "output_type": "execute_result"
    }
   ],
   "source": [
    "pseudo_experiment_generator.generate_event()"
   ]
  },
  {
   "cell_type": "code",
   "execution_count": null,
   "id": "cbb99930",
   "metadata": {},
   "outputs": [],
   "source": []
  }
 ],
 "metadata": {
  "kernelspec": {
   "display_name": "Python 3",
   "language": "python",
   "name": "python3"
  },
  "language_info": {
   "codemirror_mode": {
    "name": "ipython",
    "version": 3
   },
   "file_extension": ".py",
   "mimetype": "text/x-python",
   "name": "python",
   "nbconvert_exporter": "python",
   "pygments_lexer": "ipython3",
   "version": "3.6.8"
  }
 },
 "nbformat": 4,
 "nbformat_minor": 5
}
