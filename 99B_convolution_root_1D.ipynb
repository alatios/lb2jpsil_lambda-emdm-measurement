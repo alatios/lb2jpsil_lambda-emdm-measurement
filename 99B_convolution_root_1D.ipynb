{
 "cells": [
  {
   "cell_type": "code",
   "execution_count": 1,
   "id": "7c7a3bf8",
   "metadata": {},
   "outputs": [
    {
     "name": "stdout",
     "output_type": "stream",
     "text": [
      "Welcome to JupyROOT 6.24/06\n"
     ]
    }
   ],
   "source": [
    "import pandas as pd\n",
    "import numpy as np\n",
    "from matplotlib import pyplot as plt\n",
    "import pathlib\n",
    "from lb2jpsil import lorentz\n",
    "import random\n",
    "from typing import Tuple\n",
    "from scipy import optimize, integrate, stats\n",
    "import time\n",
    "import ROOT"
   ]
  },
  {
   "cell_type": "markdown",
   "id": "2156e9c9",
   "metadata": {},
   "source": [
    "# Create the PDF\n",
    "You only need to this once, so it's commented."
   ]
  },
  {
   "cell_type": "code",
   "execution_count": 2,
   "id": "d058a1ba",
   "metadata": {},
   "outputs": [],
   "source": [
    "#ROOT.RooClassFactory.makePdf(\"AngularDistribution\", \"ctheta,phi,sx,sz,alpha\", \"\",\n",
    "#                             \"1+ alpha * (sx * sqrt(1-pow(ctheta,2)) * cos(phi) + sz * ctheta)\"\n",
    "#                            )"
   ]
  },
  {
   "cell_type": "markdown",
   "id": "691f4ab1",
   "metadata": {},
   "source": [
    "# Load the PDF"
   ]
  },
  {
   "cell_type": "code",
   "execution_count": 3,
   "id": "e06cb197",
   "metadata": {},
   "outputs": [
    {
     "data": {
      "text/plain": [
       "0"
      ]
     },
     "execution_count": 3,
     "metadata": {},
     "output_type": "execute_result"
    },
    {
     "name": "stdout",
     "output_type": "stream",
     "text": [
      "\n",
      "\u001b[1mRooFit v3.60 -- Developed by Wouter Verkerke and David Kirkby\u001b[0m \n",
      "                Copyright (C) 2000-2013 NIKHEF, University of California & Stanford University\n",
      "                All rights reserved, please read http://roofit.sourceforge.net/license.txt\n",
      "\n"
     ]
    }
   ],
   "source": [
    "ROOT.gSystem.Load('libAngularDistribution.so')"
   ]
  },
  {
   "cell_type": "markdown",
   "id": "3ce88664",
   "metadata": {},
   "source": [
    "# Unconvoluted PDF"
   ]
  },
  {
   "cell_type": "code",
   "execution_count": 4,
   "id": "5678f12b",
   "metadata": {},
   "outputs": [],
   "source": [
    "ctheta = ROOT.RooRealVar(\"ctheta\", \"ctheta\", 0., -1., 1.)\n",
    "phi = ROOT.RooRealVar(\"phi\", \"phi\", 0., -np.pi, np.pi)\n",
    "g = ROOT.RooRealVar(\"g\", \"g\", 1.226, 0., 1e2)"
   ]
  },
  {
   "cell_type": "code",
   "execution_count": 5,
   "id": "98c6bd72",
   "metadata": {},
   "outputs": [],
   "source": [
    "angular_pdf = ROOT.AngularDistribution(\"pdf\", \"pdf\", ctheta, phi, g)"
   ]
  },
  {
   "cell_type": "code",
   "execution_count": 6,
   "id": "fd675f9a",
   "metadata": {},
   "outputs": [
    {
     "data": {
      "text/plain": [
       "0.551977425457729"
      ]
     },
     "execution_count": 6,
     "metadata": {},
     "output_type": "execute_result"
    }
   ],
   "source": [
    "angular_pdf.evaluate()"
   ]
  },
  {
   "cell_type": "code",
   "execution_count": 7,
   "id": "d4e52788",
   "metadata": {},
   "outputs": [
    {
     "name": "stdout",
     "output_type": "stream",
     "text": [
      "[#1] INFO:NumericIntegration -- RooRealIntegral::init(pdf_Int[ctheta,phi]) using numeric integrator RooAdaptiveIntegratorND to calculate Int(ctheta,phi)\n",
      "[#1] INFO:DataHandling -- RooDataSet::write(pdfData) writing ASCII file unconvoluted_test.dat\n"
     ]
    }
   ],
   "source": [
    "data_noconv = angular_pdf.generate(ROOT.RooArgSet(ctheta, phi), 100000)\n",
    "data_noconv.write(\"unconvoluted_test.dat\")\n",
    "df_noconv = pd.read_csv('unconvoluted_test.dat', sep=\" \", header=None)\n",
    "df_noconv.drop(columns=[2], inplace=True)\n",
    "df_noconv.rename(columns={0: 'cos_theta', 1: 'phi'}, inplace=True)"
   ]
  },
  {
   "cell_type": "code",
   "execution_count": 8,
   "id": "fd2b5be9",
   "metadata": {},
   "outputs": [
    {
     "data": {
      "text/html": [
       "<div>\n",
       "<style scoped>\n",
       "    .dataframe tbody tr th:only-of-type {\n",
       "        vertical-align: middle;\n",
       "    }\n",
       "\n",
       "    .dataframe tbody tr th {\n",
       "        vertical-align: top;\n",
       "    }\n",
       "\n",
       "    .dataframe thead th {\n",
       "        text-align: right;\n",
       "    }\n",
       "</style>\n",
       "<table border=\"1\" class=\"dataframe\">\n",
       "  <thead>\n",
       "    <tr style=\"text-align: right;\">\n",
       "      <th></th>\n",
       "      <th>cos_theta</th>\n",
       "      <th>phi</th>\n",
       "    </tr>\n",
       "  </thead>\n",
       "  <tbody>\n",
       "    <tr>\n",
       "      <th>0</th>\n",
       "      <td>-0.092542</td>\n",
       "      <td>-1.748670</td>\n",
       "    </tr>\n",
       "    <tr>\n",
       "      <th>1</th>\n",
       "      <td>0.786748</td>\n",
       "      <td>1.515830</td>\n",
       "    </tr>\n",
       "    <tr>\n",
       "      <th>2</th>\n",
       "      <td>0.097034</td>\n",
       "      <td>-2.604970</td>\n",
       "    </tr>\n",
       "    <tr>\n",
       "      <th>3</th>\n",
       "      <td>-0.504857</td>\n",
       "      <td>-1.772200</td>\n",
       "    </tr>\n",
       "    <tr>\n",
       "      <th>4</th>\n",
       "      <td>0.826671</td>\n",
       "      <td>-1.061240</td>\n",
       "    </tr>\n",
       "    <tr>\n",
       "      <th>...</th>\n",
       "      <td>...</td>\n",
       "      <td>...</td>\n",
       "    </tr>\n",
       "    <tr>\n",
       "      <th>99995</th>\n",
       "      <td>-0.700661</td>\n",
       "      <td>0.933466</td>\n",
       "    </tr>\n",
       "    <tr>\n",
       "      <th>99996</th>\n",
       "      <td>0.723367</td>\n",
       "      <td>1.805950</td>\n",
       "    </tr>\n",
       "    <tr>\n",
       "      <th>99997</th>\n",
       "      <td>-0.509533</td>\n",
       "      <td>1.967210</td>\n",
       "    </tr>\n",
       "    <tr>\n",
       "      <th>99998</th>\n",
       "      <td>0.472264</td>\n",
       "      <td>2.378940</td>\n",
       "    </tr>\n",
       "    <tr>\n",
       "      <th>99999</th>\n",
       "      <td>0.657804</td>\n",
       "      <td>-2.028420</td>\n",
       "    </tr>\n",
       "  </tbody>\n",
       "</table>\n",
       "<p>100000 rows × 2 columns</p>\n",
       "</div>"
      ],
      "text/plain": [
       "       cos_theta       phi\n",
       "0      -0.092542 -1.748670\n",
       "1       0.786748  1.515830\n",
       "2       0.097034 -2.604970\n",
       "3      -0.504857 -1.772200\n",
       "4       0.826671 -1.061240\n",
       "...          ...       ...\n",
       "99995  -0.700661  0.933466\n",
       "99996   0.723367  1.805950\n",
       "99997  -0.509533  1.967210\n",
       "99998   0.472264  2.378940\n",
       "99999   0.657804 -2.028420\n",
       "\n",
       "[100000 rows x 2 columns]"
      ]
     },
     "execution_count": 8,
     "metadata": {},
     "output_type": "execute_result"
    }
   ],
   "source": [
    "df_noconv"
   ]
  },
  {
   "cell_type": "code",
   "execution_count": 9,
   "id": "687d2571",
   "metadata": {},
   "outputs": [
    {
     "data": {
      "image/png": "[encoded data removed]",
      "text/plain": [
       "<Figure size 432x288 with 1 Axes>"
      ]
     },
     "metadata": {
      "needs_background": "light"
     },
     "output_type": "display_data"
    }
   ],
   "source": [
    "plt.hist(df_noconv['cos_theta'],bins=100)\n",
    "plt.show()"
   ]
  },
  {
   "cell_type": "code",
   "execution_count": 10,
   "id": "ca78b2e7",
   "metadata": {},
   "outputs": [
    {
     "data": {
      "image/png": "[encoded data removed]",
      "text/plain": [
       "<Figure size 432x288 with 1 Axes>"
      ]
     },
     "metadata": {
      "needs_background": "light"
     },
     "output_type": "display_data"
    }
   ],
   "source": [
    "plt.hist(df_noconv['phi'],bins=100)\n",
    "plt.show()"
   ]
  },
  {
   "cell_type": "code",
   "execution_count": 11,
   "id": "919cc78c",
   "metadata": {},
   "outputs": [
    {
     "data": {
      "image/png": "[encoded data removed]",
      "text/plain": [
       "<Figure size 432x288 with 2 Axes>"
      ]
     },
     "metadata": {
      "needs_background": "light"
     },
     "output_type": "display_data"
    }
   ],
   "source": [
    "plt.hist2d(df_noconv['cos_theta'], df_noconv['phi'],bins=50, cmap='turbo')\n",
    "plt.colorbar()\n",
    "plt.show()"
   ]
  },
  {
   "cell_type": "markdown",
   "id": "9be81ab5",
   "metadata": {},
   "source": [
    "# $\\theta$-convoluted PDF"
   ]
  },
  {
   "cell_type": "code",
   "execution_count": 12,
   "id": "e32433b9",
   "metadata": {},
   "outputs": [],
   "source": [
    "theta_resolution = 0.097\n",
    "#theta_resolution = 1e-3"
   ]
  },
  {
   "cell_type": "code",
   "execution_count": 13,
   "id": "76306464",
   "metadata": {},
   "outputs": [],
   "source": [
    "sigma_theta = ROOT.RooFit.RooConst(theta_resolution)\n",
    "mu_theta = ROOT.RooFit.RooConst(0.)"
   ]
  },
  {
   "cell_type": "code",
   "execution_count": 14,
   "id": "6311ad9a",
   "metadata": {},
   "outputs": [],
   "source": [
    "gaussian_theta = ROOT.RooGaussian(\"gaussian_theta\", \"gaussian_theta\", ctheta, mu_theta, sigma_theta)"
   ]
  },
  {
   "cell_type": "code",
   "execution_count": 15,
   "id": "671581c4",
   "metadata": {},
   "outputs": [
    {
     "name": "stdout",
     "output_type": "stream",
     "text": [
      "[#1] INFO:Caching -- Changing internal binning of variable 'ctheta' in FFT 'pdf_theta_conv' from 100 to 930 to improve the precision of the numerical FFT. This can be done manually by setting an additional binning named 'cache'.\n"
     ]
    }
   ],
   "source": [
    "pdf_theta_conv = ROOT.RooFFTConvPdf(\"pdf_theta_conv\", \"pdf_theta_conv\", ctheta, angular_pdf, gaussian_theta)"
   ]
  },
  {
   "cell_type": "code",
   "execution_count": 16,
   "id": "96a7dc94",
   "metadata": {},
   "outputs": [
    {
     "data": {
      "text/plain": [
       "0.1"
      ]
     },
     "execution_count": 16,
     "metadata": {},
     "output_type": "execute_result"
    }
   ],
   "source": [
    "pdf_theta_conv.bufferFraction()"
   ]
  },
  {
   "cell_type": "code",
   "execution_count": 17,
   "id": "17a09944",
   "metadata": {},
   "outputs": [],
   "source": [
    "#pdf_theta_conv.setBufferFraction(0.)\n",
    "#pdf_theta_conv.bufferFraction()"
   ]
  },
  {
   "cell_type": "code",
   "execution_count": 18,
   "id": "021b97a2",
   "metadata": {},
   "outputs": [
    {
     "data": {
      "text/plain": [
       "0"
      ]
     },
     "execution_count": 18,
     "metadata": {},
     "output_type": "execute_result"
    }
   ],
   "source": [
    "pdf_theta_conv.bufferStrategy()"
   ]
  },
  {
   "cell_type": "code",
   "execution_count": 19,
   "id": "63dfa7df",
   "metadata": {
    "scrolled": false
   },
   "outputs": [
    {
     "data": {
      "text/plain": [
       "2"
      ]
     },
     "execution_count": 19,
     "metadata": {},
     "output_type": "execute_result"
    }
   ],
   "source": [
    "pdf_theta_conv.setBufferStrategy(2)\n",
    "pdf_theta_conv.bufferStrategy()"
   ]
  },
  {
   "cell_type": "code",
   "execution_count": 20,
   "id": "7c80856b",
   "metadata": {},
   "outputs": [
    {
     "name": "stdout",
     "output_type": "stream",
     "text": [
      "44.44670385681093\n",
      "[#1] INFO:Eval -- RooRealVar::setRange(ctheta) new range named 'refrange_fft_pdf_theta_conv' created with bounds [-1,1]\n",
      "[#1] INFO:NumericIntegration -- RooRealIntegral::init(pdf_Int[ctheta]) using numeric integrator RooIntegrator1D to calculate Int(ctheta)\n",
      "[#1] INFO:Caching -- RooAbsCachedPdf::getCache(pdf_theta_conv) creating new cache 0x8f4aef0 with pdf pdf_CONV_gaussian_theta_CACHE_Obs[ctheta]_NORM_ctheta_phi for nset (ctheta,phi) with code 0\n",
      "[#1] INFO:NumericIntegration -- RooRealIntegral::init(pdf_CONV_gaussian_theta_CACHE_Obs[ctheta]_NORM_ctheta_phi_Int[ctheta,phi]) using numeric integrator RooIntegrator1D to calculate Int(phi)\n",
      "[#1] INFO:NumericIntegration -- RooRealIntegral::init(pdf_Int[ctheta]) using numeric integrator RooIntegrator1D to calculate Int(ctheta)\n",
      "[#1] INFO:Caching -- RooAbsCachedPdf::getCache(pdf_theta_conv) creating new cache 0x8fdb240 with pdf pdf_CONV_gaussian_theta_CACHE_Obs[ctheta]_NORM_ctheta_phi for nset (ctheta,phi) with code 0\n",
      "[#1] INFO:NumericIntegration -- RooRealIntegral::init(pdf_CONV_gaussian_theta_CACHE_Obs[ctheta]_NORM_ctheta_phi_Int[ctheta,phi]) using numeric integrator RooIntegrator1D to calculate Int(phi)\n"
     ]
    }
   ],
   "source": [
    "tick = time.perf_counter()\n",
    "data_theta_conv = pdf_theta_conv.generate(ROOT.RooArgSet(ctheta, phi), 10000)\n",
    "#data_theta_conv = pdf_theta_conv.generate(ctheta, 100000)\n",
    "tock = time.perf_counter()\n",
    "print(tock - tick)\n",
    "#data_theta_conv = pdf_theta_conv.generate(ctheta, 10000)"
   ]
  },
  {
   "cell_type": "code",
   "execution_count": 21,
   "id": "3ca1aef3",
   "metadata": {},
   "outputs": [
    {
     "name": "stdout",
     "output_type": "stream",
     "text": [
      "[#1] INFO:DataHandling -- RooDataSet::write(pdf_theta_convData) writing ASCII file theta_conv_test.dat\n"
     ]
    }
   ],
   "source": [
    "data_theta_conv.write(\"theta_conv_test.dat\")\n",
    "df_theta_conv = pd.read_csv('theta_conv_test.dat', sep=\" \", header=None)\n",
    "df_theta_conv.drop(columns=[2], inplace=True)\n",
    "#df_theta_conv.drop(columns=[1], inplace=True)\n",
    "df_theta_conv.rename(columns={0: 'cos_theta', 1: 'phi'}, inplace=True)"
   ]
  },
  {
   "cell_type": "code",
   "execution_count": 22,
   "id": "280b4eb8",
   "metadata": {},
   "outputs": [
    {
     "data": {
      "text/html": [
       "<div>\n",
       "<style scoped>\n",
       "    .dataframe tbody tr th:only-of-type {\n",
       "        vertical-align: middle;\n",
       "    }\n",
       "\n",
       "    .dataframe tbody tr th {\n",
       "        vertical-align: top;\n",
       "    }\n",
       "\n",
       "    .dataframe thead th {\n",
       "        text-align: right;\n",
       "    }\n",
       "</style>\n",
       "<table border=\"1\" class=\"dataframe\">\n",
       "  <thead>\n",
       "    <tr style=\"text-align: right;\">\n",
       "      <th></th>\n",
       "      <th>cos_theta</th>\n",
       "      <th>phi</th>\n",
       "    </tr>\n",
       "  </thead>\n",
       "  <tbody>\n",
       "    <tr>\n",
       "      <th>0</th>\n",
       "      <td>0.953940</td>\n",
       "      <td>-3.132340</td>\n",
       "    </tr>\n",
       "    <tr>\n",
       "      <th>1</th>\n",
       "      <td>-0.720874</td>\n",
       "      <td>-1.996080</td>\n",
       "    </tr>\n",
       "    <tr>\n",
       "      <th>2</th>\n",
       "      <td>0.859159</td>\n",
       "      <td>2.362570</td>\n",
       "    </tr>\n",
       "    <tr>\n",
       "      <th>3</th>\n",
       "      <td>0.755553</td>\n",
       "      <td>0.854252</td>\n",
       "    </tr>\n",
       "    <tr>\n",
       "      <th>4</th>\n",
       "      <td>0.832146</td>\n",
       "      <td>1.148780</td>\n",
       "    </tr>\n",
       "    <tr>\n",
       "      <th>...</th>\n",
       "      <td>...</td>\n",
       "      <td>...</td>\n",
       "    </tr>\n",
       "    <tr>\n",
       "      <th>9995</th>\n",
       "      <td>0.380525</td>\n",
       "      <td>-1.674330</td>\n",
       "    </tr>\n",
       "    <tr>\n",
       "      <th>9996</th>\n",
       "      <td>0.873994</td>\n",
       "      <td>2.908630</td>\n",
       "    </tr>\n",
       "    <tr>\n",
       "      <th>9997</th>\n",
       "      <td>-0.172294</td>\n",
       "      <td>-3.078760</td>\n",
       "    </tr>\n",
       "    <tr>\n",
       "      <th>9998</th>\n",
       "      <td>0.034133</td>\n",
       "      <td>2.526630</td>\n",
       "    </tr>\n",
       "    <tr>\n",
       "      <th>9999</th>\n",
       "      <td>0.811268</td>\n",
       "      <td>-2.042780</td>\n",
       "    </tr>\n",
       "  </tbody>\n",
       "</table>\n",
       "<p>10000 rows × 2 columns</p>\n",
       "</div>"
      ],
      "text/plain": [
       "      cos_theta       phi\n",
       "0      0.953940 -3.132340\n",
       "1     -0.720874 -1.996080\n",
       "2      0.859159  2.362570\n",
       "3      0.755553  0.854252\n",
       "4      0.832146  1.148780\n",
       "...         ...       ...\n",
       "9995   0.380525 -1.674330\n",
       "9996   0.873994  2.908630\n",
       "9997  -0.172294 -3.078760\n",
       "9998   0.034133  2.526630\n",
       "9999   0.811268 -2.042780\n",
       "\n",
       "[10000 rows x 2 columns]"
      ]
     },
     "execution_count": 22,
     "metadata": {},
     "output_type": "execute_result"
    }
   ],
   "source": [
    "df_theta_conv"
   ]
  },
  {
   "cell_type": "code",
   "execution_count": 23,
   "id": "410c709f",
   "metadata": {},
   "outputs": [
    {
     "data": {
      "image/png": "[encoded data removed]",
      "text/plain": [
       "<Figure size 432x288 with 1 Axes>"
      ]
     },
     "metadata": {
      "needs_background": "light"
     },
     "output_type": "display_data"
    }
   ],
   "source": [
    "plt.hist(df_theta_conv['cos_theta'],bins=100)\n",
    "plt.show()"
   ]
  },
  {
   "cell_type": "code",
   "execution_count": 24,
   "id": "8b252a2c",
   "metadata": {},
   "outputs": [],
   "source": [
    "#plt.hist(df_theta_conv['phi'],bins=100)\n",
    "#plt.show()"
   ]
  },
  {
   "cell_type": "code",
   "execution_count": 25,
   "id": "d0c0dbc8",
   "metadata": {
    "scrolled": true
   },
   "outputs": [],
   "source": [
    "#plt.hist2d(df_theta_conv['cos_theta'], df_theta_conv['phi'],bins=50, cmap='turbo')\n",
    "#plt.xlim(-1,1)\n",
    "#plt.ylim(-np.pi,np.pi)\n",
    "#plt.colorbar()\n",
    "#plt.show()"
   ]
  },
  {
   "cell_type": "markdown",
   "id": "f2b5cca4",
   "metadata": {},
   "source": [
    "## Fit & plot"
   ]
  },
  {
   "cell_type": "code",
   "execution_count": 26,
   "id": "639a0f17",
   "metadata": {},
   "outputs": [
    {
     "data": {
      "text/plain": [
       "<cppyy.gbl.TCanvas object at 0x9477b90>"
      ]
     },
     "execution_count": 26,
     "metadata": {},
     "output_type": "execute_result"
    }
   ],
   "source": [
    "c = ROOT.TCanvas(\"rf101_basics\", \"rf101_basics\", 800, 400)\n",
    "c.cd()"
   ]
  },
  {
   "cell_type": "code",
   "execution_count": 27,
   "id": "590aa7fd",
   "metadata": {},
   "outputs": [],
   "source": [
    "ctheta_frame = ctheta.frame()"
   ]
  },
  {
   "cell_type": "code",
   "execution_count": 28,
   "id": "ba868d6d",
   "metadata": {},
   "outputs": [
    {
     "data": {
      "text/plain": [
       "<cppyy.gbl.RooPlot object at 0x94eb8e0>"
      ]
     },
     "execution_count": 28,
     "metadata": {},
     "output_type": "execute_result"
    }
   ],
   "source": [
    "data_theta_conv.plotOn(ctheta_frame)"
   ]
  },
  {
   "cell_type": "code",
   "execution_count": 29,
   "id": "1a5b797b",
   "metadata": {},
   "outputs": [],
   "source": [
    "ctheta_frame.Draw()"
   ]
  },
  {
   "cell_type": "code",
   "execution_count": 30,
   "id": "1ce990ac",
   "metadata": {},
   "outputs": [
    {
     "name": "stderr",
     "output_type": "stream",
     "text": [
      "Info in <TCanvas::Print>: pdf file filename.pdf has been created\n"
     ]
    }
   ],
   "source": [
    "c.Print(\"filename.pdf\")"
   ]
  },
  {
   "cell_type": "code",
   "execution_count": 31,
   "id": "ff200654",
   "metadata": {},
   "outputs": [],
   "source": [
    "tick =time.perf_counter()"
   ]
  },
  {
   "cell_type": "code",
   "execution_count": 32,
   "id": "a3970757",
   "metadata": {},
   "outputs": [],
   "source": [
    "g.setVal(10.)"
   ]
  },
  {
   "cell_type": "code",
   "execution_count": null,
   "id": "d1d2cbab",
   "metadata": {},
   "outputs": [],
   "source": [
    "pdf_theta_conv.fitTo(data_theta_conv)"
   ]
  },
  {
   "cell_type": "code",
   "execution_count": null,
   "id": "68952aaf",
   "metadata": {},
   "outputs": [],
   "source": [
    "tock = time.perf_counter()\n",
    "tock - tick"
   ]
  },
  {
   "cell_type": "markdown",
   "id": "a31af4a2",
   "metadata": {},
   "source": [
    "# $\\phi$-convoluted PDF"
   ]
  },
  {
   "cell_type": "code",
   "execution_count": null,
   "id": "ec1f6776",
   "metadata": {},
   "outputs": [],
   "source": [
    "phi_resolution = 0.332\n",
    "#phi_resolution = 1e-3"
   ]
  },
  {
   "cell_type": "code",
   "execution_count": null,
   "id": "638b02e6",
   "metadata": {},
   "outputs": [],
   "source": [
    "sigma_phi = ROOT.RooFit.RooConst(phi_resolution)\n",
    "mu_phi = ROOT.RooFit.RooConst(0.)"
   ]
  },
  {
   "cell_type": "code",
   "execution_count": null,
   "id": "e8684f74",
   "metadata": {},
   "outputs": [],
   "source": [
    "gaussian_phi = ROOT.RooGaussian(\"gaussian_phi\", \"gaussian_phi\", phi, mu_phi, sigma_phi)"
   ]
  },
  {
   "cell_type": "code",
   "execution_count": null,
   "id": "a10046d9",
   "metadata": {},
   "outputs": [],
   "source": [
    "pdf_theta_phi_conv = ROOT.RooFFTConvPdf(\"pdf_theta_phi_conv\", \"pdf_theta_phi_conv\", phi, angular_pdf, gaussian_phi)"
   ]
  },
  {
   "cell_type": "code",
   "execution_count": null,
   "id": "6e269a72",
   "metadata": {
    "scrolled": false
   },
   "outputs": [],
   "source": [
    "pdf_theta_phi_conv.setBufferStrategy(2)"
   ]
  },
  {
   "cell_type": "code",
   "execution_count": null,
   "id": "95d26083",
   "metadata": {},
   "outputs": [],
   "source": [
    "tick = time.perf_counter()\n",
    "data_theta_phi_conv = pdf_theta_phi_conv.generate(ROOT.RooArgSet(ctheta, phi), 100000)\n",
    "tock = time.perf_counter()\n",
    "print(tock - tick)"
   ]
  },
  {
   "cell_type": "code",
   "execution_count": null,
   "id": "db7dd3c0",
   "metadata": {},
   "outputs": [],
   "source": [
    "data_theta_phi_conv.write(\"theta_phi_conv_test.dat\")\n",
    "df_theta_phi_conv = pd.read_csv('theta_phi_conv_test.dat', sep=\" \", header=None)\n",
    "df_theta_phi_conv.drop(columns=[2], inplace=True)\n",
    "df_theta_phi_conv.rename(columns={0: 'cos_theta', 1: 'phi'}, inplace=True)"
   ]
  },
  {
   "cell_type": "code",
   "execution_count": null,
   "id": "a404659a",
   "metadata": {},
   "outputs": [],
   "source": [
    "df_theta_phi_conv"
   ]
  },
  {
   "cell_type": "code",
   "execution_count": null,
   "id": "3307f40d",
   "metadata": {},
   "outputs": [],
   "source": [
    "plt.hist(df_theta_phi_conv['cos_theta'],bins=100)\n",
    "plt.show()"
   ]
  },
  {
   "cell_type": "code",
   "execution_count": null,
   "id": "c270b1a3",
   "metadata": {},
   "outputs": [],
   "source": [
    "plt.hist(df_theta_phi_conv['phi'],bins=100)\n",
    "plt.show()"
   ]
  },
  {
   "cell_type": "code",
   "execution_count": null,
   "id": "b094c0c4",
   "metadata": {
    "scrolled": true
   },
   "outputs": [],
   "source": [
    "plt.hist2d(df_theta_phi_conv['cos_theta'], df_theta_phi_conv['phi'],bins=50, cmap='turbo')\n",
    "plt.xlim(-1,1)\n",
    "plt.ylim(-np.pi,np.pi)\n",
    "plt.colorbar()\n",
    "plt.show()"
   ]
  },
  {
   "cell_type": "code",
   "execution_count": null,
   "id": "eb19134b",
   "metadata": {},
   "outputs": [],
   "source": []
  }
 ],
 "metadata": {
  "kernelspec": {
   "display_name": "Python 3",
   "language": "python",
   "name": "python3"
  },
  "language_info": {
   "codemirror_mode": {
    "name": "ipython",
    "version": 3
   },
   "file_extension": ".py",
   "mimetype": "text/x-python",
   "name": "python",
   "nbconvert_exporter": "python",
   "pygments_lexer": "ipython3",
   "version": "3.6.8"
  }
 },
 "nbformat": 4,
 "nbformat_minor": 5
}
