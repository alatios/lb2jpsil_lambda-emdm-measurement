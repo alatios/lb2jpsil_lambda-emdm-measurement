{
 "cells": [
  {
   "cell_type": "code",
   "execution_count": 1,
   "id": "4fc86e71",
   "metadata": {},
   "outputs": [],
   "source": [
    "import pandas as pd\n",
    "import numpy as np\n",
    "import scipy.stats as ss\n",
    "from matplotlib import pyplot as plt\n",
    "import pathlib\n",
    "import joblib\n",
    "from lb2jpsil import lorentz"
   ]
  },
  {
   "cell_type": "code",
   "execution_count": 2,
   "id": "12c54fe8",
   "metadata": {},
   "outputs": [],
   "source": [
    "## Self explanatory\n",
    "save_plots = True\n",
    "\n",
    "## Toggle plot titles (off for thesis and papers, generally speaking)\n",
    "show_titles = False\n",
    "\n",
    "## Toggle plot grid\n",
    "show_grid = True\n",
    "\n",
    "## Black and white?\n",
    "black_and_white = True\n",
    "\n",
    "## Drop event if DTF_FixJPsiLambda failed?\n",
    "dtf_success = True\n",
    "\n",
    "## Veto physical background\n",
    "b0_veto = True\n",
    "\n",
    "## Select signal region ([5508.5, 5731.8] MeV/c^2)\n",
    "only_sig_region = True"
   ]
  },
  {
   "cell_type": "code",
   "execution_count": 3,
   "id": "49274cb4",
   "metadata": {},
   "outputs": [],
   "source": [
    "saved_models = {\n",
    "    ## BALANCE\n",
    "    ## Higher overtraining. Slightly better performance in test (fractions of percentage)\n",
    "    'sachiel': {\n",
    "        'daughter_momenta': 'DTF',\n",
    "        'dataset_type': 'balance',\n",
    "        'learning_rate' : 0.010,\n",
    "        'max_leaf_nodes' : 200,\n",
    "        'max_iter' : 5000,\n",
    "        'soft_threshold': 0.7,\n",
    "        'hard_threshold': 0.9924\n",
    "    },\n",
    "    ## Lower ovetraining. Looks better under K-S test. Slightly worse performance in test (fractions of percentage)\n",
    "    'shamshel': {\n",
    "        'daughter_momenta': 'DTF',\n",
    "        'dataset_type': 'balance',\n",
    "        'learning_rate' : 0.003,\n",
    "        'max_leaf_nodes' : 100,\n",
    "        'max_iter' : 2500,\n",
    "        'soft_threshold': 0.7,\n",
    "        'hard_threshold': 0.985\n",
    "    },\n",
    "    ## BKGSKEW\n",
    "    ## From an overtraining standpoint, this is the better one of the bkgskew\n",
    "    'ramiel': {\n",
    "        'daughter_momenta': 'DTF',\n",
    "        'dataset_type': 'bkgskew',\n",
    "        'learning_rate' : 0.003,\n",
    "        'max_leaf_nodes' : 100,\n",
    "        'max_iter' : 1500,\n",
    "        'soft_threshold': 0.1,\n",
    "        'hard_threshold': 0.656\n",
    "    },\n",
    "    ## This has quite more overtraining, but loses less signal\n",
    "    'israfel': {\n",
    "        'daughter_momenta': 'DTF',\n",
    "        'dataset_type': 'bkgskew',\n",
    "        'learning_rate' : 0.015,\n",
    "        'max_leaf_nodes' : 100,\n",
    "        'max_iter' : 1500,\n",
    "        'soft_threshold': 0.1,\n",
    "        'hard_threshold': 0.714\n",
    "    },\n",
    "    ## Salvatore's HBDT, for performance comparison.\n",
    "    ## Somewhat similar to israfel, does not match his original HBDT\n",
    "    'sandalphon': {\n",
    "        'daughter_momenta': 'DTF',\n",
    "        'dataset_type': 'bkgskew',\n",
    "        'learning_rate' : 0.01,\n",
    "        'max_leaf_nodes' : 100,\n",
    "        'max_iter' : 2500,\n",
    "        'soft_threshold': 0.1,\n",
    "        'hard_threshold': 0.637\n",
    "    }\n",
    "}"
   ]
  },
  {
   "cell_type": "code",
   "execution_count": 4,
   "id": "b4757c20",
   "metadata": {},
   "outputs": [],
   "source": [
    "## Either one of the names in list(saved_models) or 'temp' for custom new model\n",
    "model_to_use = 'shamshel'\n",
    "\n",
    "if model_to_use in saved_models:\n",
    "    daughter_momenta = saved_models[model_to_use]['daughter_momenta']\n",
    "    dataset_type = saved_models[model_to_use]['dataset_type']\n",
    "    training_params = {key: saved_models[model_to_use][key] for key in ['learning_rate', 'max_leaf_nodes', 'max_iter']}\n",
    "    hard_threshold = saved_models[model_to_use]['hard_threshold']\n",
    "elif model_to_use == 'temp':\n",
    "    ## Proton and pion momenta\n",
    "    ## 'VF': use VF momenta\n",
    "    ## 'DTF': use DTF momenta w/ JPsi m.c.\n",
    "    ## 'DTFL': use DTF momenta w/ JPsi and Lambda m.c.\n",
    "    ## 'NO': don't use any momenta for Lambda daughter particles\n",
    "    daughter_momenta = 'DTF'\n",
    "\n",
    "    ## Two options:\n",
    "    ## 'balance': same number of training events for signal and bkg\n",
    "    ## 'bkgskew' uses 4 mln events of bkg, 500k of signal\n",
    "    dataset_type = 'bkgskew'\n",
    "\n",
    "    training_params = {\n",
    "        'learning_rate' : 0.003,\n",
    "        'max_leaf_nodes' : 100,\n",
    "        'max_iter' : 5000\n",
    "    }\n",
    "    \n",
    "    hard_threshold = 0.9\n",
    "else:\n",
    "    raise ValueError"
   ]
  },
  {
   "cell_type": "code",
   "execution_count": 5,
   "id": "c75bb610",
   "metadata": {},
   "outputs": [],
   "source": [
    "if dataset_type not in ['balance', 'bkgskew']:\n",
    "    raise ValueError"
   ]
  },
  {
   "cell_type": "code",
   "execution_count": 6,
   "id": "497014ee",
   "metadata": {},
   "outputs": [],
   "source": [
    "if daughter_momenta == 'VF':\n",
    "    p_momenta = ['p_PT', 'p_PZ']\n",
    "    pim_momenta = ['pim_PT', 'pim_PZ']\n",
    "elif daughter_momenta == 'DTF':\n",
    "    p_momenta = ['DTF_FixJPsi_p_PT', 'DTF_FixJPsi_p_PZ']\n",
    "    pim_momenta = ['DTF_FixJPsi_pim_PT', 'DTF_FixJPsi_pim_PZ']\n",
    "elif daughter_momenta == 'DTFL':\n",
    "    p_momenta = ['DTF_FixJPsiLambda_p_PT', 'DTF_FixJPsiLambda_p_PZ']\n",
    "    pim_momenta = ['DTF_FixJPsiLambda_pim_PT', 'DTF_FixJPsiLambda_pim_PZ']\n",
    "elif daughter_momenta == 'NO':\n",
    "    p_momenta = []\n",
    "    pim_momenta = []\n",
    "else:\n",
    "    raise ValueError(daughter_momenta + \" is not a valid option for momenta usage.\")"
   ]
  },
  {
   "cell_type": "code",
   "execution_count": 7,
   "id": "0ec27650",
   "metadata": {},
   "outputs": [
    {
     "data": {
      "text/plain": [
       "'HBDT_DTF_0.003_100_2500_BAL'"
      ]
     },
     "execution_count": 7,
     "metadata": {},
     "output_type": "execute_result"
    }
   ],
   "source": [
    "if dataset_type == 'balance':\n",
    "    dataset_suffix = 'BAL'\n",
    "else:\n",
    "    dataset_suffix = 'SKEW'\n",
    "\n",
    "classifier_dump_filename = (\n",
    "    'HBDT_'\n",
    "    + daughter_momenta\n",
    "    + '_' + str(training_params['learning_rate'])\n",
    "    + '_' + str(training_params['max_leaf_nodes'])\n",
    "    + '_' + str(training_params['max_iter'])\n",
    "    + '_' + dataset_suffix\n",
    ")\n",
    "\n",
    "classifier_dump_filename"
   ]
  },
  {
   "cell_type": "code",
   "execution_count": 8,
   "id": "bf242e5e",
   "metadata": {},
   "outputs": [],
   "source": [
    "## Create plots directory, if missing\n",
    "repo_directory = str(pathlib.Path.home()) + '/lambda-emdm-measurement/'\n",
    "state_directory = str(pathlib.Path.home()) + '/classifier-studies/' + '20_HBDT/' + 'saved_states/'\n",
    "\n",
    "plot_directory = (\n",
    "    repo_directory + 'plots/'\n",
    "    + 'proton_angle_resolutions/'\n",
    ")\n",
    "\n",
    "pathlib.Path(plot_directory).mkdir(parents=True, exist_ok=True)"
   ]
  },
  {
   "cell_type": "code",
   "execution_count": 9,
   "id": "634534b4",
   "metadata": {},
   "outputs": [],
   "source": [
    "path_to_hd5_files = str(pathlib.Path.home()) + '/data/'\n",
    "input_mc = path_to_hd5_files + 'LHCbMC_2016-2017-2018_MagUpDown_Lb2JPsiL_Ttracks_v12.h5'\n",
    "input_data = path_to_hd5_files + 'LHCbData_2016-2017-2018_MagUpDown_Dimuon_Ttracks_v2.h5'"
   ]
  },
  {
   "cell_type": "markdown",
   "id": "0214a586",
   "metadata": {},
   "source": [
    "# Data prepping\n",
    "## Import Monte Carlo data"
   ]
  },
  {
   "cell_type": "code",
   "execution_count": 10,
   "id": "ac3c8ee0",
   "metadata": {},
   "outputs": [],
   "source": [
    "def p_modulus(px, py, pz):\n",
    "    return np.sqrt(px**2 + py**2 + pz**2)\n",
    "\n",
    "def transverse_p_modulus(px, py):\n",
    "    return np.sqrt(px**2 + py**2)"
   ]
  },
  {
   "cell_type": "code",
   "execution_count": 11,
   "id": "19c5a141",
   "metadata": {},
   "outputs": [],
   "source": [
    "df_reco = pd.read_hdf(input_mc, key='LHCbMC_Lb')\n",
    "df_truth = pd.read_hdf(input_mc, key='LHCbMCTruth_Lb')\n",
    "df_mc = pd.merge(df_truth.loc[df_truth['Rec_key'] >= 0], df_reco, left_index=True, right_on='MC_key')\n",
    "df_mc = df_mc.loc[(df_mc['MC_key'] >= 0) & (df_mc['Rec_key'] >= 0)]\n",
    "\n",
    "#del(df_reco, df_truth)\n",
    "del(df_reco)"
   ]
  },
  {
   "cell_type": "code",
   "execution_count": 12,
   "id": "d8427abc",
   "metadata": {},
   "outputs": [],
   "source": [
    "jpsi_pdg_mass = 3096.900\n",
    "b0_pdg_mass = 5279.61\n",
    "b0_veto_threshold = 70"
   ]
  },
  {
   "cell_type": "code",
   "execution_count": 13,
   "id": "15477aad",
   "metadata": {},
   "outputs": [],
   "source": [
    "## Missing \"combined\" invariant masses (for Lambda->p pim and Lambdab->JPsi Lambda)\n",
    "## These are the AM in the DaVinci config file. Did Salvatore implement them somewhere?\n",
    "\n",
    "pion_p_cuts = (\n",
    "    (p_modulus(df_mc['pim_PX'], df_mc['pim_PY'], df_mc['pim_PZ']) > 2000)\n",
    "    & (p_modulus(df_mc['pim_PX'], df_mc['pim_PY'], df_mc['pim_PZ']) < 5e5)\n",
    ")\n",
    "\n",
    "proton_p_cuts = (\n",
    "    (p_modulus(df_mc['p_PX'], df_mc['p_PY'], df_mc['p_PZ']) > 10000)\n",
    "    & (p_modulus(df_mc['p_PX'], df_mc['p_PY'], df_mc['p_PZ']) < 5e5)\n",
    ")\n",
    "\n",
    "proton_pt_cuts = transverse_p_modulus(df_mc['p_PX'], df_mc['p_PY']) > 400\n",
    "\n",
    "lambda_m_cuts = (df_mc['L_M'] > 600) & (df_mc['L_M'] < 1500)\n",
    "lambda_mm_cuts = df_mc['L_MM'] < 1500\n",
    "lambda_z_cuts = (df_mc['L_ENDVERTEX_Z'] > 5500) & (df_mc['L_ENDVERTEX_Z'] < 8500)\n",
    "lambda_dira_cuts = df_mc['L_BPVDIRA'] > 0.9999\n",
    "lambda_ipchi2_cuts = df_mc['L_BPVIPCHI2'] < 200\n",
    "lambda_vdchi2_cuts = df_mc['L_BPVVDCHI2'] < 2e7\n",
    "lambda_chi2_cuts = df_mc['L_VFASPF_CHI2_VDOF'] < 750\n",
    "lambda_pt_cuts = transverse_p_modulus(df_mc['L_PX'], df_mc['L_PY']) > 450\n",
    "\n",
    "jpsi_m_cuts = abs(df_mc['Jpsi_M'] - jpsi_pdg_mass) < 90\n",
    "\n",
    "lambdab_m_cuts = df_mc['Lb_M'] < 8500\n",
    "lambdab_dira_cuts = abs(df_mc['Lb_BPVDIRA']) > 0.99\n",
    "lambdab_ipchi2_cuts = df_mc['Lb_BPVIPCHI2'] < 1750\n",
    "lambdab_chi2_cuts = df_mc['Lb_VFASPF_CHI2_VDOF'] < 150\n",
    "\n",
    "dtf_success_cuts = df_mc['DTF_FixJPsiLambda_status'] == 'Success'\n",
    "\n",
    "b0_veto_cuts = (df_mc['DTF_FixJPsiLambda_PIDSubs_status'] != 'Success') | (np.abs(df_mc['DTF_FixJPsiLambda_PIDSubs_Lb_M'] - b0_pdg_mass) > b0_veto_threshold)"
   ]
  },
  {
   "cell_type": "code",
   "execution_count": 14,
   "id": "12d3010e",
   "metadata": {},
   "outputs": [],
   "source": [
    "pre_selection_cuts = (\n",
    "    pion_p_cuts &\n",
    "    proton_p_cuts &\n",
    "    proton_pt_cuts &\n",
    "    lambda_m_cuts &\n",
    "    lambda_mm_cuts &\n",
    "    lambda_z_cuts &\n",
    "    lambda_dira_cuts &\n",
    "    lambda_ipchi2_cuts &\n",
    "    lambda_vdchi2_cuts &\n",
    "    lambda_chi2_cuts &\n",
    "    lambda_pt_cuts &\n",
    "    jpsi_m_cuts &\n",
    "    lambdab_m_cuts &\n",
    "    lambdab_dira_cuts &\n",
    "    lambdab_ipchi2_cuts &\n",
    "    lambdab_chi2_cuts\n",
    ")\n",
    "\n",
    "if dtf_success:\n",
    "    pre_selection_cuts = pre_selection_cuts & dtf_success_cuts\n",
    "    \n",
    "if b0_veto:\n",
    "    pre_selection_cuts = pre_selection_cuts & b0_veto_cuts\n",
    "\n",
    "#df_mc[pre_selection_cuts]"
   ]
  },
  {
   "cell_type": "markdown",
   "id": "aff47cdb",
   "metadata": {},
   "source": [
    "## Add derived variables"
   ]
  },
  {
   "cell_type": "code",
   "execution_count": 15,
   "id": "fd200abd",
   "metadata": {},
   "outputs": [],
   "source": [
    "def add_derived_variables(\n",
    "    df: pd.DataFrame\n",
    ") -> None:\n",
    "    df['p_PT'] = transverse_p_modulus(df['p_PX'], df['p_PY'])\n",
    "    df['DTF_FixJPsi_p_PT'] = transverse_p_modulus(df['DTF_FixJPsi_p_PX'], df['DTF_FixJPsi_p_PY'])\n",
    "    df['DTF_FixJPsiLambda_p_PT'] = transverse_p_modulus(df['DTF_FixJPsiLambda_p_PX'], df['DTF_FixJPsiLambda_p_PY'])\n",
    "    df['pim_PT'] = transverse_p_modulus(df['pim_PX'], df['pim_PY'])\n",
    "    df['DTF_FixJPsi_pim_PT'] = transverse_p_modulus(df['DTF_FixJPsi_pim_PX'], df['DTF_FixJPsi_pim_PY'])\n",
    "    df['DTF_FixJPsiLambda_pim_PT'] = transverse_p_modulus(df['DTF_FixJPsiLambda_pim_PX'], df['DTF_FixJPsiLambda_pim_PY'])\n",
    "    df['Jpsi_PT'] = transverse_p_modulus(df['Jpsi_PX'], df['Jpsi_PY'])\n",
    "    \n",
    "    dtf_success_mapper = {\n",
    "        'Success': 0.0,\n",
    "        'Failed': 1.0,\n",
    "        'NonConverged': 3.0\n",
    "    }\n",
    "\n",
    "    df.replace({'DTF_FixJPsi_status': dtf_success_mapper}, inplace=True)\n",
    "    df.replace({'DTF_FixJPsiLambda_status': dtf_success_mapper}, inplace=True)"
   ]
  },
  {
   "cell_type": "code",
   "execution_count": 16,
   "id": "cdae44b2",
   "metadata": {},
   "outputs": [],
   "source": [
    "add_derived_variables(df_mc)"
   ]
  },
  {
   "cell_type": "markdown",
   "id": "ab87e42e",
   "metadata": {},
   "source": [
    "## Drop events not passing the prefilter"
   ]
  },
  {
   "cell_type": "code",
   "execution_count": 17,
   "id": "70b08331",
   "metadata": {},
   "outputs": [],
   "source": [
    "df_mc.drop(df_mc[~pre_selection_cuts].index, inplace=True)"
   ]
  },
  {
   "cell_type": "markdown",
   "id": "b2a7ad9a",
   "metadata": {},
   "source": [
    "## Score HBDT and keep events above hard threshold"
   ]
  },
  {
   "cell_type": "code",
   "execution_count": 18,
   "id": "05ef8458",
   "metadata": {},
   "outputs": [],
   "source": [
    "saved_state_file = state_directory + classifier_dump_filename + '.joblib'\n",
    "HBDT = joblib.load(saved_state_file)"
   ]
  },
  {
   "cell_type": "code",
   "execution_count": 19,
   "id": "dc4d05d7",
   "metadata": {},
   "outputs": [],
   "source": [
    "fixed_features = [\n",
    "    'Jpsi_PT',\n",
    "    'Jpsi_PZ',\n",
    "    'L_ENDVERTEX_X',\n",
    "    'L_ENDVERTEX_Y',\n",
    "    'L_ENDVERTEX_Z',\n",
    "    'L_BPVDIRA',\n",
    "    'Lb_BPVDIRA',\n",
    "    'L_VFASPF_CHI2_VDOF',\n",
    "    'Lb_VFASPF_CHI2_VDOF',\n",
    "    'L_BPVIPCHI2',\n",
    "    'Lb_BPVIPCHI2',\n",
    "    'L_BPVVDCHI2',\n",
    "    'Lb_BPVVDCHI2',\n",
    "    'DTF_FixJPsi_status',\n",
    "    'DTF_FixJPsiLambda_status'\n",
    "]\n",
    "\n",
    "features = p_momenta + pim_momenta + fixed_features"
   ]
  },
  {
   "cell_type": "code",
   "execution_count": 20,
   "id": "9c9be807",
   "metadata": {},
   "outputs": [],
   "source": [
    "mc_predicted = HBDT.predict_proba(df_mc.loc[:, features].to_numpy())[:,1]\n",
    "df_mc['HBDT'] = mc_predicted\n",
    "mc_pass_threshold = df_mc['HBDT'] > hard_threshold"
   ]
  },
  {
   "cell_type": "code",
   "execution_count": 21,
   "id": "5463c112",
   "metadata": {},
   "outputs": [],
   "source": [
    "df_mc.drop(df_mc[~mc_pass_threshold].index, inplace=True)\n",
    "\n",
    "del(mc_predicted)"
   ]
  },
  {
   "cell_type": "markdown",
   "id": "bc778ead",
   "metadata": {},
   "source": [
    "One last thing: excise events outside of the desired invariant mass window."
   ]
  },
  {
   "cell_type": "code",
   "execution_count": 22,
   "id": "79c626b6",
   "metadata": {},
   "outputs": [],
   "source": [
    "if only_sig_region:\n",
    "    lower_limit_mass = 5496.2\n",
    "    upper_limit_mass = 5744\n",
    "else:\n",
    "    lower_limit_mass = 5000\n",
    "    upper_limit_mass = 6200\n",
    "\n",
    "mc_Lb_invmass_cut = ((df_mc['DTF_FixJPsiLambda_Lb_M'] > lower_limit_mass) & (df_mc['DTF_FixJPsiLambda_Lb_M'] < upper_limit_mass))"
   ]
  },
  {
   "cell_type": "code",
   "execution_count": 23,
   "id": "75b9c1fd",
   "metadata": {},
   "outputs": [],
   "source": [
    "df_mc.drop(df_mc[~mc_Lb_invmass_cut].index, inplace=True)"
   ]
  },
  {
   "cell_type": "code",
   "execution_count": 24,
   "id": "c60d84bb",
   "metadata": {
    "scrolled": false
   },
   "outputs": [
    {
     "data": {
      "text/html": [
       "<div>\n",
       "<style scoped>\n",
       "    .dataframe tbody tr th:only-of-type {\n",
       "        vertical-align: middle;\n",
       "    }\n",
       "\n",
       "    .dataframe tbody tr th {\n",
       "        vertical-align: top;\n",
       "    }\n",
       "\n",
       "    .dataframe thead th {\n",
       "        text-align: right;\n",
       "    }\n",
       "</style>\n",
       "<table border=\"1\" class=\"dataframe\">\n",
       "  <thead>\n",
       "    <tr style=\"text-align: right;\">\n",
       "      <th></th>\n",
       "      <th>MCTRUTH_Lb_ENDVERTEX_X</th>\n",
       "      <th>MCTRUTH_Lb_ENDVERTEX_Y</th>\n",
       "      <th>MCTRUTH_Lb_ENDVERTEX_Z</th>\n",
       "      <th>MCTRUTH_L_ENDVERTEX_X</th>\n",
       "      <th>MCTRUTH_L_ENDVERTEX_Y</th>\n",
       "      <th>MCTRUTH_L_ENDVERTEX_Z</th>\n",
       "      <th>MCTRUTH_p_PX</th>\n",
       "      <th>MCTRUTH_p_PY</th>\n",
       "      <th>MCTRUTH_p_PZ</th>\n",
       "      <th>MCTRUTH_pim_PX</th>\n",
       "      <th>...</th>\n",
       "      <th>TrackType_y</th>\n",
       "      <th>MC_key</th>\n",
       "      <th>p_PT</th>\n",
       "      <th>DTF_FixJPsi_p_PT</th>\n",
       "      <th>DTF_FixJPsiLambda_p_PT</th>\n",
       "      <th>pim_PT</th>\n",
       "      <th>DTF_FixJPsi_pim_PT</th>\n",
       "      <th>DTF_FixJPsiLambda_pim_PT</th>\n",
       "      <th>Jpsi_PT</th>\n",
       "      <th>HBDT</th>\n",
       "    </tr>\n",
       "    <tr>\n",
       "      <th>Rec_key</th>\n",
       "      <th></th>\n",
       "      <th></th>\n",
       "      <th></th>\n",
       "      <th></th>\n",
       "      <th></th>\n",
       "      <th></th>\n",
       "      <th></th>\n",
       "      <th></th>\n",
       "      <th></th>\n",
       "      <th></th>\n",
       "      <th></th>\n",
       "      <th></th>\n",
       "      <th></th>\n",
       "      <th></th>\n",
       "      <th></th>\n",
       "      <th></th>\n",
       "      <th></th>\n",
       "      <th></th>\n",
       "      <th></th>\n",
       "      <th></th>\n",
       "      <th></th>\n",
       "    </tr>\n",
       "  </thead>\n",
       "  <tbody>\n",
       "    <tr>\n",
       "      <th>14</th>\n",
       "      <td>0.9904</td>\n",
       "      <td>-0.2075</td>\n",
       "      <td>-9.769600</td>\n",
       "      <td>224.561996</td>\n",
       "      <td>56.081600</td>\n",
       "      <td>5921.048828</td>\n",
       "      <td>2894.560059</td>\n",
       "      <td>699.140015</td>\n",
       "      <td>74302.851562</td>\n",
       "      <td>293.929993</td>\n",
       "      <td>...</td>\n",
       "      <td>T</td>\n",
       "      <td>367</td>\n",
       "      <td>3138.222168</td>\n",
       "      <td>2606.361572</td>\n",
       "      <td>2835.955811</td>\n",
       "      <td>563.971436</td>\n",
       "      <td>397.024719</td>\n",
       "      <td>499.553711</td>\n",
       "      <td>1183.876953</td>\n",
       "      <td>0.993490</td>\n",
       "    </tr>\n",
       "    <tr>\n",
       "      <th>25</th>\n",
       "      <td>1.4204</td>\n",
       "      <td>0.1756</td>\n",
       "      <td>6.183100</td>\n",
       "      <td>113.135696</td>\n",
       "      <td>223.900299</td>\n",
       "      <td>7097.245117</td>\n",
       "      <td>1002.729980</td>\n",
       "      <td>2151.709961</td>\n",
       "      <td>69297.921875</td>\n",
       "      <td>246.179993</td>\n",
       "      <td>...</td>\n",
       "      <td>T</td>\n",
       "      <td>619</td>\n",
       "      <td>3129.654541</td>\n",
       "      <td>2471.828369</td>\n",
       "      <td>2450.595215</td>\n",
       "      <td>501.604156</td>\n",
       "      <td>426.218414</td>\n",
       "      <td>421.343781</td>\n",
       "      <td>3530.665527</td>\n",
       "      <td>0.995001</td>\n",
       "    </tr>\n",
       "    <tr>\n",
       "      <th>36</th>\n",
       "      <td>0.6354</td>\n",
       "      <td>-0.1720</td>\n",
       "      <td>-26.184099</td>\n",
       "      <td>83.245796</td>\n",
       "      <td>126.276802</td>\n",
       "      <td>7588.293457</td>\n",
       "      <td>520.130005</td>\n",
       "      <td>653.900024</td>\n",
       "      <td>45147.179688</td>\n",
       "      <td>61.330002</td>\n",
       "      <td>...</td>\n",
       "      <td>T</td>\n",
       "      <td>798</td>\n",
       "      <td>984.302063</td>\n",
       "      <td>885.361511</td>\n",
       "      <td>888.376526</td>\n",
       "      <td>262.376190</td>\n",
       "      <td>259.310089</td>\n",
       "      <td>252.252304</td>\n",
       "      <td>3836.018311</td>\n",
       "      <td>0.988892</td>\n",
       "    </tr>\n",
       "    <tr>\n",
       "      <th>56</th>\n",
       "      <td>1.0630</td>\n",
       "      <td>-0.1569</td>\n",
       "      <td>14.631200</td>\n",
       "      <td>-16.393600</td>\n",
       "      <td>-267.315704</td>\n",
       "      <td>7429.070312</td>\n",
       "      <td>19.139999</td>\n",
       "      <td>-1164.579956</td>\n",
       "      <td>32903.449219</td>\n",
       "      <td>-108.959999</td>\n",
       "      <td>...</td>\n",
       "      <td>T</td>\n",
       "      <td>1391</td>\n",
       "      <td>1677.147461</td>\n",
       "      <td>1222.470947</td>\n",
       "      <td>1180.346313</td>\n",
       "      <td>260.234802</td>\n",
       "      <td>254.823410</td>\n",
       "      <td>243.301285</td>\n",
       "      <td>2582.130859</td>\n",
       "      <td>0.986191</td>\n",
       "    </tr>\n",
       "    <tr>\n",
       "      <th>71</th>\n",
       "      <td>1.8416</td>\n",
       "      <td>-1.3280</td>\n",
       "      <td>21.833700</td>\n",
       "      <td>628.105896</td>\n",
       "      <td>-929.930481</td>\n",
       "      <td>7475.404785</td>\n",
       "      <td>3879.139893</td>\n",
       "      <td>-5898.799805</td>\n",
       "      <td>47200.421875</td>\n",
       "      <td>1059.250000</td>\n",
       "      <td>...</td>\n",
       "      <td>T</td>\n",
       "      <td>1897</td>\n",
       "      <td>5397.982422</td>\n",
       "      <td>6764.600098</td>\n",
       "      <td>6947.719238</td>\n",
       "      <td>1786.030396</td>\n",
       "      <td>1679.542480</td>\n",
       "      <td>1734.952637</td>\n",
       "      <td>6626.127441</td>\n",
       "      <td>0.997901</td>\n",
       "    </tr>\n",
       "    <tr>\n",
       "      <th>...</th>\n",
       "      <td>...</td>\n",
       "      <td>...</td>\n",
       "      <td>...</td>\n",
       "      <td>...</td>\n",
       "      <td>...</td>\n",
       "      <td>...</td>\n",
       "      <td>...</td>\n",
       "      <td>...</td>\n",
       "      <td>...</td>\n",
       "      <td>...</td>\n",
       "      <td>...</td>\n",
       "      <td>...</td>\n",
       "      <td>...</td>\n",
       "      <td>...</td>\n",
       "      <td>...</td>\n",
       "      <td>...</td>\n",
       "      <td>...</td>\n",
       "      <td>...</td>\n",
       "      <td>...</td>\n",
       "      <td>...</td>\n",
       "      <td>...</td>\n",
       "    </tr>\n",
       "    <tr>\n",
       "      <th>366267</th>\n",
       "      <td>1.4960</td>\n",
       "      <td>0.4462</td>\n",
       "      <td>-21.932100</td>\n",
       "      <td>171.948593</td>\n",
       "      <td>299.047791</td>\n",
       "      <td>7071.188477</td>\n",
       "      <td>1051.619995</td>\n",
       "      <td>1886.640015</td>\n",
       "      <td>46525.289062</td>\n",
       "      <td>303.820007</td>\n",
       "      <td>...</td>\n",
       "      <td>T</td>\n",
       "      <td>8918745</td>\n",
       "      <td>2245.093506</td>\n",
       "      <td>1952.591919</td>\n",
       "      <td>2039.183350</td>\n",
       "      <td>553.135132</td>\n",
       "      <td>510.911560</td>\n",
       "      <td>556.640259</td>\n",
       "      <td>4791.497559</td>\n",
       "      <td>0.993085</td>\n",
       "    </tr>\n",
       "    <tr>\n",
       "      <th>366268</th>\n",
       "      <td>0.9817</td>\n",
       "      <td>-0.2910</td>\n",
       "      <td>-13.832300</td>\n",
       "      <td>402.671509</td>\n",
       "      <td>16.624701</td>\n",
       "      <td>8214.584961</td>\n",
       "      <td>1634.530029</td>\n",
       "      <td>26.360001</td>\n",
       "      <td>33188.000000</td>\n",
       "      <td>113.620003</td>\n",
       "      <td>...</td>\n",
       "      <td>T</td>\n",
       "      <td>8918751</td>\n",
       "      <td>2154.688965</td>\n",
       "      <td>1975.448608</td>\n",
       "      <td>1626.364014</td>\n",
       "      <td>105.307137</td>\n",
       "      <td>119.006645</td>\n",
       "      <td>118.100471</td>\n",
       "      <td>2818.800293</td>\n",
       "      <td>0.986714</td>\n",
       "    </tr>\n",
       "    <tr>\n",
       "      <th>366313</th>\n",
       "      <td>0.4253</td>\n",
       "      <td>-0.0151</td>\n",
       "      <td>-0.922200</td>\n",
       "      <td>-159.258698</td>\n",
       "      <td>-53.847301</td>\n",
       "      <td>5842.161133</td>\n",
       "      <td>-2971.840088</td>\n",
       "      <td>-964.760010</td>\n",
       "      <td>105195.726562</td>\n",
       "      <td>-334.529999</td>\n",
       "      <td>...</td>\n",
       "      <td>T</td>\n",
       "      <td>8919632</td>\n",
       "      <td>4219.451660</td>\n",
       "      <td>3628.397949</td>\n",
       "      <td>3111.473877</td>\n",
       "      <td>156.685303</td>\n",
       "      <td>316.524811</td>\n",
       "      <td>366.231476</td>\n",
       "      <td>3196.120117</td>\n",
       "      <td>0.996885</td>\n",
       "    </tr>\n",
       "    <tr>\n",
       "      <th>366327</th>\n",
       "      <td>0.1985</td>\n",
       "      <td>-0.1576</td>\n",
       "      <td>-19.471500</td>\n",
       "      <td>-207.092300</td>\n",
       "      <td>-37.506302</td>\n",
       "      <td>6777.450195</td>\n",
       "      <td>-2266.669922</td>\n",
       "      <td>-458.640015</td>\n",
       "      <td>76301.921875</td>\n",
       "      <td>-294.079987</td>\n",
       "      <td>...</td>\n",
       "      <td>T</td>\n",
       "      <td>8920122</td>\n",
       "      <td>3295.345459</td>\n",
       "      <td>2353.676270</td>\n",
       "      <td>2249.364990</td>\n",
       "      <td>164.354309</td>\n",
       "      <td>178.532379</td>\n",
       "      <td>177.722122</td>\n",
       "      <td>4791.321777</td>\n",
       "      <td>0.992794</td>\n",
       "    </tr>\n",
       "    <tr>\n",
       "      <th>366333</th>\n",
       "      <td>1.1884</td>\n",
       "      <td>-0.0951</td>\n",
       "      <td>69.203400</td>\n",
       "      <td>111.651604</td>\n",
       "      <td>74.976997</td>\n",
       "      <td>6779.822754</td>\n",
       "      <td>1028.930054</td>\n",
       "      <td>635.940002</td>\n",
       "      <td>62082.968750</td>\n",
       "      <td>293.480011</td>\n",
       "      <td>...</td>\n",
       "      <td>T</td>\n",
       "      <td>8920398</td>\n",
       "      <td>1303.318359</td>\n",
       "      <td>1326.679565</td>\n",
       "      <td>1221.635986</td>\n",
       "      <td>339.316467</td>\n",
       "      <td>383.608398</td>\n",
       "      <td>369.885040</td>\n",
       "      <td>3285.190186</td>\n",
       "      <td>0.993737</td>\n",
       "    </tr>\n",
       "  </tbody>\n",
       "</table>\n",
       "<p>20614 rows × 227 columns</p>\n",
       "</div>"
      ],
      "text/plain": [
       "         MCTRUTH_Lb_ENDVERTEX_X  MCTRUTH_Lb_ENDVERTEX_Y  \\\n",
       "Rec_key                                                   \n",
       "14                       0.9904                 -0.2075   \n",
       "25                       1.4204                  0.1756   \n",
       "36                       0.6354                 -0.1720   \n",
       "56                       1.0630                 -0.1569   \n",
       "71                       1.8416                 -1.3280   \n",
       "...                         ...                     ...   \n",
       "366267                   1.4960                  0.4462   \n",
       "366268                   0.9817                 -0.2910   \n",
       "366313                   0.4253                 -0.0151   \n",
       "366327                   0.1985                 -0.1576   \n",
       "366333                   1.1884                 -0.0951   \n",
       "\n",
       "         MCTRUTH_Lb_ENDVERTEX_Z  MCTRUTH_L_ENDVERTEX_X  MCTRUTH_L_ENDVERTEX_Y  \\\n",
       "Rec_key                                                                         \n",
       "14                    -9.769600             224.561996              56.081600   \n",
       "25                     6.183100             113.135696             223.900299   \n",
       "36                   -26.184099              83.245796             126.276802   \n",
       "56                    14.631200             -16.393600            -267.315704   \n",
       "71                    21.833700             628.105896            -929.930481   \n",
       "...                         ...                    ...                    ...   \n",
       "366267               -21.932100             171.948593             299.047791   \n",
       "366268               -13.832300             402.671509              16.624701   \n",
       "366313                -0.922200            -159.258698             -53.847301   \n",
       "366327               -19.471500            -207.092300             -37.506302   \n",
       "366333                69.203400             111.651604              74.976997   \n",
       "\n",
       "         MCTRUTH_L_ENDVERTEX_Z  MCTRUTH_p_PX  MCTRUTH_p_PY   MCTRUTH_p_PZ  \\\n",
       "Rec_key                                                                     \n",
       "14                 5921.048828   2894.560059    699.140015   74302.851562   \n",
       "25                 7097.245117   1002.729980   2151.709961   69297.921875   \n",
       "36                 7588.293457    520.130005    653.900024   45147.179688   \n",
       "56                 7429.070312     19.139999  -1164.579956   32903.449219   \n",
       "71                 7475.404785   3879.139893  -5898.799805   47200.421875   \n",
       "...                        ...           ...           ...            ...   \n",
       "366267             7071.188477   1051.619995   1886.640015   46525.289062   \n",
       "366268             8214.584961   1634.530029     26.360001   33188.000000   \n",
       "366313             5842.161133  -2971.840088   -964.760010  105195.726562   \n",
       "366327             6777.450195  -2266.669922   -458.640015   76301.921875   \n",
       "366333             6779.822754   1028.930054    635.940002   62082.968750   \n",
       "\n",
       "         MCTRUTH_pim_PX  ...  TrackType_y   MC_key         p_PT  \\\n",
       "Rec_key                  ...                                      \n",
       "14           293.929993  ...            T      367  3138.222168   \n",
       "25           246.179993  ...            T      619  3129.654541   \n",
       "36            61.330002  ...            T      798   984.302063   \n",
       "56          -108.959999  ...            T     1391  1677.147461   \n",
       "71          1059.250000  ...            T     1897  5397.982422   \n",
       "...                 ...  ...          ...      ...          ...   \n",
       "366267       303.820007  ...            T  8918745  2245.093506   \n",
       "366268       113.620003  ...            T  8918751  2154.688965   \n",
       "366313      -334.529999  ...            T  8919632  4219.451660   \n",
       "366327      -294.079987  ...            T  8920122  3295.345459   \n",
       "366333       293.480011  ...            T  8920398  1303.318359   \n",
       "\n",
       "         DTF_FixJPsi_p_PT  DTF_FixJPsiLambda_p_PT       pim_PT  \\\n",
       "Rec_key                                                          \n",
       "14            2606.361572             2835.955811   563.971436   \n",
       "25            2471.828369             2450.595215   501.604156   \n",
       "36             885.361511              888.376526   262.376190   \n",
       "56            1222.470947             1180.346313   260.234802   \n",
       "71            6764.600098             6947.719238  1786.030396   \n",
       "...                   ...                     ...          ...   \n",
       "366267        1952.591919             2039.183350   553.135132   \n",
       "366268        1975.448608             1626.364014   105.307137   \n",
       "366313        3628.397949             3111.473877   156.685303   \n",
       "366327        2353.676270             2249.364990   164.354309   \n",
       "366333        1326.679565             1221.635986   339.316467   \n",
       "\n",
       "         DTF_FixJPsi_pim_PT  DTF_FixJPsiLambda_pim_PT      Jpsi_PT      HBDT  \n",
       "Rec_key                                                                       \n",
       "14               397.024719                499.553711  1183.876953  0.993490  \n",
       "25               426.218414                421.343781  3530.665527  0.995001  \n",
       "36               259.310089                252.252304  3836.018311  0.988892  \n",
       "56               254.823410                243.301285  2582.130859  0.986191  \n",
       "71              1679.542480               1734.952637  6626.127441  0.997901  \n",
       "...                     ...                       ...          ...       ...  \n",
       "366267           510.911560                556.640259  4791.497559  0.993085  \n",
       "366268           119.006645                118.100471  2818.800293  0.986714  \n",
       "366313           316.524811                366.231476  3196.120117  0.996885  \n",
       "366327           178.532379                177.722122  4791.321777  0.992794  \n",
       "366333           383.608398                369.885040  3285.190186  0.993737  \n",
       "\n",
       "[20614 rows x 227 columns]"
      ]
     },
     "execution_count": 24,
     "metadata": {},
     "output_type": "execute_result"
    }
   ],
   "source": [
    "df_mc"
   ]
  },
  {
   "cell_type": "code",
   "execution_count": 25,
   "id": "18ef9297",
   "metadata": {},
   "outputs": [
    {
     "data": {
      "image/png": "[encoded data removed]",
      "text/plain": [
       "<Figure size 432x288 with 1 Axes>"
      ]
     },
     "metadata": {
      "needs_background": "light"
     },
     "output_type": "display_data"
    }
   ],
   "source": [
    "common_plot_params = {\n",
    "    'bins': 87,\n",
    "    'histtype': 'stepfilled',\n",
    "    'facecolor': 'none',\n",
    "    'edgecolor': 'black',\n",
    "    'hatch': '//'\n",
    "}\n",
    "\n",
    "xlabel = \"$m(J/\\psi~\\Lambda^0)$ (MeV/$c^2$)\"\n",
    "ylabel = 'Events'\n",
    "\n",
    "plt.hist(df_mc['DTF_FixJPsiLambda_Lb_M'], **common_plot_params)\n",
    "plt.xlabel(xlabel)\n",
    "plt.ylabel(ylabel)\n",
    "plt.show()"
   ]
  },
  {
   "cell_type": "markdown",
   "id": "edad1f0f",
   "metadata": {},
   "source": [
    "# Compute proton helicity angles"
   ]
  },
  {
   "cell_type": "code",
   "execution_count": 26,
   "id": "1d24bdec",
   "metadata": {},
   "outputs": [],
   "source": [
    "def norm(v):\n",
    "    return np.sqrt(v[0]**2 + v[1]**2 + v[2]**2)"
   ]
  },
  {
   "cell_type": "code",
   "execution_count": 27,
   "id": "f1101f7c",
   "metadata": {},
   "outputs": [],
   "source": [
    "def calculate_helicity_angle(\n",
    "    df: pd.DataFrame,\n",
    "    daughter: str,\n",
    "    mother: str,\n",
    "    daughter_suffix: str,\n",
    "    mother_suffix: str,\n",
    "    angle_suffix: str = None\n",
    "):\n",
    "    if angle_suffix is not None:\n",
    "        angle_suffix = '_' + angle_suffix\n",
    "    else:\n",
    "        angle_suffix = ''\n",
    "    \n",
    "    daughter_p = np.array([\n",
    "        df[f'{daughter}_PX_{daughter_suffix}'],\n",
    "        df[f'{daughter}_PY_{daughter_suffix}'],\n",
    "        df[f'{daughter}_PZ_{daughter_suffix}']])\n",
    "    mother_p = np.array([\n",
    "        df[f'{mother}_PX_{mother_suffix}'],\n",
    "        df[f'{mother}_PY_{mother_suffix}'],\n",
    "        df[f'{mother}_PZ_{mother_suffix}']])\n",
    "    angle = lorentz.cos_angle(mother_p, daughter_p)\n",
    "    df[f'{daughter}_Theta{angle_suffix}'] = angle\n",
    "\n",
    "## What it does: computes momenta in Lambda frame and Lambdab frames\n",
    "## Then computes angle between p(p) in Lambda frame and p(Lambda) in Lambdab frame \n",
    "def calculate_proton_lambda_helicity_angle(df, prefix):\n",
    "    calculate_at_rest_kine(df, {\n",
    "        f'{prefix}p' : 938.27208816,\n",
    "        f'{prefix}pim' : 139.57018,\n",
    "    }, suffix_end='LambdaFrame')\n",
    "    calculate_at_rest_kine(df, {\n",
    "        f'{prefix}p' : 938.27208816,\n",
    "        f'{prefix}pim' : 139.57018,\n",
    "        f'{prefix}mup' : 105.6583755,\n",
    "        f'{prefix}mum' : 105.6583755,\n",
    "    }, suffix_end='LambdabFrame')\n",
    "    for coord in ['X', 'Y', 'Z']:\n",
    "        df[f'{prefix}L_P{coord}_LambdabFrame'] = df[f'{prefix}p_P{coord}_LambdabFrame'] + df[f'{prefix}pim_P{coord}_LambdabFrame']\n",
    "    calculate_helicity_angle(df, f'{prefix}p', f'{prefix}L',\n",
    "                             daughter_suffix='LambdaFrame', mother_suffix='LambdabFrame')\n",
    "\n",
    "## Same thing as above, but use LambdaFromLambdabFrame for the p frame. Instead of going lab->Lambda,\n",
    "## we do lab->Lambdab->Lambda for the proton\n",
    "def calculate_proton_lambda_helicity_angle_from_lambdab_frame(df, prefix):\n",
    "    calculate_at_rest_kine(df, {\n",
    "        f'{prefix}p' : 938.27208816,\n",
    "        f'{prefix}pim' : 139.57018,\n",
    "        f'{prefix}mup' : 105.6583755,\n",
    "        f'{prefix}mum' : 105.6583755,\n",
    "    }, suffix_end='LambdabFrame')\n",
    "\n",
    "    for coord in ['X', 'Y', 'Z']:\n",
    "        df[f'{prefix}L_P{coord}_LambdabFrame'] = df[f'{prefix}p_P{coord}_LambdabFrame'] + df[f'{prefix}pim_P{coord}_LambdabFrame']\n",
    "\n",
    "    calculate_at_rest_kine(df, {\n",
    "        f'{prefix}p' : 938.27208816,\n",
    "        f'{prefix}pim' : 139.57018,\n",
    "    }, suffix_start='LambdabFrame', suffix_end='LambdaFromLambdabFrame')\n",
    "        \n",
    "    calculate_helicity_angle(\n",
    "        df, f'{prefix}p', f'{prefix}L',\n",
    "        daughter_suffix='LambdaFromLambdabFrame', mother_suffix='LambdabFrame', angle_suffix='IFM')"
   ]
  },
  {
   "cell_type": "code",
   "execution_count": 28,
   "id": "64882089",
   "metadata": {},
   "outputs": [],
   "source": [
    "def scalar_product(v1, v2):\n",
    "    return v1[0] * v2[0] + v1[1] * v2[1] + v1[2] * v2[2]"
   ]
  },
  {
   "cell_type": "code",
   "execution_count": 29,
   "id": "f0289b6e",
   "metadata": {},
   "outputs": [],
   "source": [
    "def cross_product(v1, v2):\n",
    "    u0 = v1[1] * v2[2] - v1[2] * v2[1]\n",
    "    u1 = v1[2] * v2[0] - v1[0] * v2[2]\n",
    "    u2 = v1[0] * v2[1] - v1[1] * v2[0]\n",
    "    \n",
    "    return np.array([u0, u1, u2])"
   ]
  },
  {
   "cell_type": "code",
   "execution_count": 30,
   "id": "8f998acc",
   "metadata": {},
   "outputs": [],
   "source": [
    "def calculate_at_rest_kine(\n",
    "    df: pd.DataFrame,\n",
    "    daughters: dict,\n",
    "    suffix_start: str = None,\n",
    "    suffix_end: str = 'Star'\n",
    "):\n",
    "    \n",
    "    if suffix_start is not None:\n",
    "        suffix_start = '_' + suffix_start\n",
    "    else:\n",
    "        suffix_start = ''\n",
    "    \n",
    "    daughters_p = {\n",
    "        part_name: lorentz.four_vector_from_PXPYPZM(\n",
    "            df[f'{part_name}_PX{suffix_start}'],\n",
    "            df[f'{part_name}_PY{suffix_start}'],\n",
    "            df[f'{part_name}_PZ{suffix_start}'],\n",
    "            part_mass)\n",
    "        for part_name, part_mass in daughters.items()\n",
    "    }\n",
    "    \n",
    "    mother_p = sum(daughters_p.values())\n",
    "    daughters_p_star = {\n",
    "        part_name: lorentz.boost_from_mom(part_p, mother_p)\n",
    "        for part_name, part_p in daughters_p.items()\n",
    "    }\n",
    "    \n",
    "    for part_name, p_star in daughters_p_star.items():\n",
    "        df[f'{part_name}_PX_{suffix_end}'] = p_star[0]\n",
    "        df[f'{part_name}_PY_{suffix_end}'] = p_star[1]\n",
    "        df[f'{part_name}_PZ_{suffix_end}'] = p_star[2]\n",
    "        df[f'{part_name}_P_{suffix_end}'] = np.sqrt(p_star[0]**2 + p_star[1]**2 + p_star[2]**2)"
   ]
  },
  {
   "cell_type": "code",
   "execution_count": 31,
   "id": "4318e19f",
   "metadata": {},
   "outputs": [],
   "source": [
    "def calculate_proton_lambda_angular_distribution(df, prefix):\n",
    "    calculate_at_rest_kine(df, {\n",
    "        f'{prefix}p' : 938.27208816,\n",
    "        f'{prefix}pim' : 139.57018,\n",
    "        f'{prefix}mup' : 105.6583755,\n",
    "        f'{prefix}mum' : 105.6583755,\n",
    "    }, suffix_end='LambdabFrame')\n",
    "    \n",
    "    for coord in ['X', 'Y', 'Z']:\n",
    "        df[f'{prefix}L_P{coord}_LambdabFrame'] = df[f'{prefix}p_P{coord}_LambdabFrame'] + df[f'{prefix}pim_P{coord}_LambdabFrame']\n",
    "    \n",
    "    calculate_at_rest_kine(df, {\n",
    "        f'{prefix}p' : 938.27208816,\n",
    "        f'{prefix}pim' : 139.57018,\n",
    "    }, suffix_start='LambdabFrame', suffix_end='LambdaFromLambdabFrame')\n",
    "    \n",
    "\n",
    "    Lambda_p_in_Lambdab_frame = np.array([\n",
    "        df[f'{prefix}L_PX_LambdabFrame'],\n",
    "        df[f'{prefix}L_PY_LambdabFrame'],\n",
    "        df[f'{prefix}L_PZ_LambdabFrame']\n",
    "    ])\n",
    "    \n",
    "    Lambda_p_in_Lambdab_frame_hat = lorentz.unit_vector(Lambda_p_in_Lambdab_frame)\n",
    "    \n",
    "    for coord in ['X', 'Y', 'Z']:\n",
    "        df[f'{prefix}Lb_P{coord}'] = (\n",
    "            df[f'{prefix}p_P{coord}']\n",
    "            + df[f'{prefix}pim_P{coord}']\n",
    "            + df[f'{prefix}mum_P{coord}']\n",
    "            + df[f'{prefix}mup_P{coord}']\n",
    "        )\n",
    "    \n",
    "    z0_in_Lambdab_frame = lorentz.unit_vector(np.array([df[f'{prefix}Lb_P{coord}'] for coord in ['X', 'Y', 'Z']]))\n",
    "    z0_in_Lambdab_frame_parallel = scalar_product(z0_in_Lambdab_frame, Lambda_p_in_Lambdab_frame_hat)\n",
    "    \n",
    "    b_z0PerpLambda = z0_in_Lambdab_frame - z0_in_Lambdab_frame_parallel * Lambda_p_in_Lambdab_frame_hat\n",
    "    x2_in_Lambdab_frame = - b_z0PerpLambda / norm(b_z0PerpLambda)\n",
    "    \n",
    "    x0_in_Lambda_frame = x2_in_Lambdab_frame\n",
    "    z0_in_Lambda_frame = Lambda_p_in_Lambdab_frame_hat\n",
    "    y0_in_Lambda_frame = cross_product(z0_in_Lambda_frame, x0_in_Lambda_frame)\n",
    "    \n",
    "    proton_p_IFM = np.array([\n",
    "        df[f'{prefix}p_PX_LambdaFromLambdabFrame'],\n",
    "        df[f'{prefix}p_PY_LambdaFromLambdabFrame'],\n",
    "        df[f'{prefix}p_PZ_LambdaFromLambdabFrame']])\n",
    "    \n",
    "    proton_p_IFM_hat = lorentz.unit_vector(proton_p_IFM)\n",
    "    \n",
    "    proton_y_projection = scalar_product(proton_p_IFM_hat, y0_in_Lambda_frame)\n",
    "    proton_x_projection = scalar_product(proton_p_IFM_hat, x0_in_Lambda_frame)\n",
    "    \n",
    "    theta = scalar_product(proton_p_IFM_hat, z0_in_Lambda_frame)\n",
    "    phi = np.arctan2(proton_y_projection, proton_x_projection)\n",
    "    \n",
    "    df[f'{prefix}p_Phi'] = phi\n",
    "    df[f'{prefix}p_CosTheta'] = theta"
   ]
  },
  {
   "cell_type": "code",
   "execution_count": 32,
   "id": "8089e596",
   "metadata": {},
   "outputs": [],
   "source": [
    "calculate_proton_lambda_angular_distribution(df_truth, 'MCTRUTH_')"
   ]
  },
  {
   "cell_type": "code",
   "execution_count": 33,
   "id": "5129d8dc",
   "metadata": {},
   "outputs": [],
   "source": [
    "calculate_proton_lambda_angular_distribution(df_mc, 'MCTRUTH_')\n",
    "calculate_proton_lambda_angular_distribution(df_mc, 'DTF_FixJPsiLambda_')"
   ]
  },
  {
   "cell_type": "markdown",
   "id": "b06b5492",
   "metadata": {},
   "source": [
    "# Proton $\\theta$ angle resolution"
   ]
  },
  {
   "cell_type": "markdown",
   "id": "1da19da6",
   "metadata": {},
   "source": [
    "## Migration matrix"
   ]
  },
  {
   "cell_type": "code",
   "execution_count": 34,
   "id": "460c6077",
   "metadata": {},
   "outputs": [],
   "source": [
    "theta_edges = np.linspace(-1,1,9)\n",
    "theta_bins = [(l,r) for l, r in zip(theta_edges[:-1], theta_edges[1:])] "
   ]
  },
  {
   "cell_type": "code",
   "execution_count": 35,
   "id": "0285d250",
   "metadata": {},
   "outputs": [],
   "source": [
    "theta_migration_matrix = []\n",
    "\n",
    "for bin_true in theta_bins:\n",
    "    bin_true_selection = (\n",
    "        (df_mc['MCTRUTH_p_CosTheta'] >= bin_true[0])\n",
    "        & (df_mc['MCTRUTH_p_CosTheta'] < bin_true[1])\n",
    "    )\n",
    "    events_in_bin_true = sum(bin_true_selection)\n",
    "    row = []\n",
    "    for bin_reco in theta_bins:\n",
    "        bin_reco_selection = (\n",
    "            bin_true_selection\n",
    "            & (df_mc['DTF_FixJPsiLambda_p_CosTheta'] >= bin_reco[0])\n",
    "            & (df_mc['DTF_FixJPsiLambda_p_CosTheta'] < bin_reco[1])\n",
    "        )\n",
    "        events_in_bin_reco_and_bin_true = sum(bin_reco_selection)\n",
    "        row.append(events_in_bin_reco_and_bin_true/events_in_bin_true)\n",
    "        \n",
    "    theta_migration_matrix.insert(0, row)\n",
    "    \n",
    "theta_migration_matrix = np.array(theta_migration_matrix)"
   ]
  },
  {
   "cell_type": "code",
   "execution_count": 58,
   "id": "e6ed1a60",
   "metadata": {},
   "outputs": [
    {
     "data": {
      "image/png": "[encoded data removed]",
      "text/plain": [
       "<Figure size 432x288 with 2 Axes>"
      ]
     },
     "metadata": {
      "needs_background": "light"
     },
     "output_type": "display_data"
    }
   ],
   "source": [
    "fig, ax = plt.subplots()\n",
    "\n",
    "plt.imshow(theta_migration_matrix, cmap='binary', vmin=0, vmax=1)\n",
    "\n",
    "plt.colorbar(label='Probability')\n",
    "ax.xaxis.set(ticks=np.arange(-0.5, len(theta_edges)-1), ticklabels=[f'${\"{:.1f}\".format(i)}$' for i in theta_edges])\n",
    "ax.yaxis.set(ticks=np.arange(-0.5, len(theta_edges)-1), ticklabels=[f'${\"{:.1f}\".format(i)}$' for i in theta_edges[::-1]])\n",
    "plt.xlabel(r'$\\cos(\\theta_p^\\mathrm{DTF})$')\n",
    "plt.ylabel(r'$\\cos(\\theta_p^\\mathrm{true})$')\n",
    "plt.xticks(rotation=90)\n",
    "\n",
    "if show_titles:\n",
    "    plt.title(r\"Proton $\\theta$ helicity angle migration matrix\" + \"\\n\" + \"(MC simulation, reco sample)\")\n",
    "\n",
    "if save_plots:\n",
    "    plt.savefig(plot_directory + 'MCRECO_p_theta_migration' + '.pdf', bbox_inches = 'tight')\n",
    "\n",
    "plt.show()"
   ]
  },
  {
   "cell_type": "markdown",
   "id": "8e6dd213",
   "metadata": {},
   "source": [
    "## Resolution"
   ]
  },
  {
   "cell_type": "code",
   "execution_count": 37,
   "id": "542afded",
   "metadata": {},
   "outputs": [
    {
     "data": {
      "text/html": [
       "<div>\n",
       "<style scoped>\n",
       "    .dataframe tbody tr th:only-of-type {\n",
       "        vertical-align: middle;\n",
       "    }\n",
       "\n",
       "    .dataframe tbody tr th {\n",
       "        vertical-align: top;\n",
       "    }\n",
       "\n",
       "    .dataframe thead th {\n",
       "        text-align: right;\n",
       "    }\n",
       "</style>\n",
       "<table border=\"1\" class=\"dataframe\">\n",
       "  <thead>\n",
       "    <tr style=\"text-align: right;\">\n",
       "      <th></th>\n",
       "      <th>theta_mean</th>\n",
       "      <th>theta_error</th>\n",
       "      <th>resolution_mean</th>\n",
       "      <th>resolution_error</th>\n",
       "      <th>resolution_rel_mean</th>\n",
       "      <th>resolution_rel_error</th>\n",
       "    </tr>\n",
       "  </thead>\n",
       "  <tbody>\n",
       "    <tr>\n",
       "      <th>0</th>\n",
       "      <td>-0.867817</td>\n",
       "      <td>0.071327</td>\n",
       "      <td>0.306080</td>\n",
       "      <td>0.011437</td>\n",
       "      <td>0.352701</td>\n",
       "      <td>0.013179</td>\n",
       "    </tr>\n",
       "    <tr>\n",
       "      <th>1</th>\n",
       "      <td>-0.622864</td>\n",
       "      <td>0.072084</td>\n",
       "      <td>0.272707</td>\n",
       "      <td>0.008564</td>\n",
       "      <td>0.437828</td>\n",
       "      <td>0.013750</td>\n",
       "    </tr>\n",
       "    <tr>\n",
       "      <th>2</th>\n",
       "      <td>-0.371023</td>\n",
       "      <td>0.072152</td>\n",
       "      <td>0.254988</td>\n",
       "      <td>0.006769</td>\n",
       "      <td>0.687257</td>\n",
       "      <td>0.018243</td>\n",
       "    </tr>\n",
       "    <tr>\n",
       "      <th>3</th>\n",
       "      <td>-0.124299</td>\n",
       "      <td>0.071394</td>\n",
       "      <td>0.233960</td>\n",
       "      <td>0.005531</td>\n",
       "      <td>1.882237</td>\n",
       "      <td>0.044496</td>\n",
       "    </tr>\n",
       "    <tr>\n",
       "      <th>4</th>\n",
       "      <td>0.121198</td>\n",
       "      <td>0.072412</td>\n",
       "      <td>0.234111</td>\n",
       "      <td>0.005899</td>\n",
       "      <td>1.931639</td>\n",
       "      <td>0.048671</td>\n",
       "    </tr>\n",
       "    <tr>\n",
       "      <th>5</th>\n",
       "      <td>0.371464</td>\n",
       "      <td>0.071855</td>\n",
       "      <td>0.241613</td>\n",
       "      <td>0.007108</td>\n",
       "      <td>0.650436</td>\n",
       "      <td>0.019135</td>\n",
       "    </tr>\n",
       "    <tr>\n",
       "      <th>6</th>\n",
       "      <td>0.619283</td>\n",
       "      <td>0.071317</td>\n",
       "      <td>0.230048</td>\n",
       "      <td>0.008758</td>\n",
       "      <td>0.371474</td>\n",
       "      <td>0.014142</td>\n",
       "    </tr>\n",
       "    <tr>\n",
       "      <th>7</th>\n",
       "      <td>0.874137</td>\n",
       "      <td>0.072243</td>\n",
       "      <td>0.246876</td>\n",
       "      <td>0.012169</td>\n",
       "      <td>0.282423</td>\n",
       "      <td>0.013922</td>\n",
       "    </tr>\n",
       "  </tbody>\n",
       "</table>\n",
       "</div>"
      ],
      "text/plain": [
       "   theta_mean  theta_error  resolution_mean  resolution_error  \\\n",
       "0   -0.867817     0.071327         0.306080          0.011437   \n",
       "1   -0.622864     0.072084         0.272707          0.008564   \n",
       "2   -0.371023     0.072152         0.254988          0.006769   \n",
       "3   -0.124299     0.071394         0.233960          0.005531   \n",
       "4    0.121198     0.072412         0.234111          0.005899   \n",
       "5    0.371464     0.071855         0.241613          0.007108   \n",
       "6    0.619283     0.071317         0.230048          0.008758   \n",
       "7    0.874137     0.072243         0.246876          0.012169   \n",
       "\n",
       "   resolution_rel_mean  resolution_rel_error  \n",
       "0             0.352701              0.013179  \n",
       "1             0.437828              0.013750  \n",
       "2             0.687257              0.018243  \n",
       "3             1.882237              0.044496  \n",
       "4             1.931639              0.048671  \n",
       "5             0.650436              0.019135  \n",
       "6             0.371474              0.014142  \n",
       "7             0.282423              0.013922  "
      ]
     },
     "execution_count": 37,
     "metadata": {},
     "output_type": "execute_result"
    }
   ],
   "source": [
    "df_mc['CosTheta_Residual'] = df_mc['DTF_FixJPsiLambda_p_CosTheta'] - df_mc['MCTRUTH_p_CosTheta']\n",
    "\n",
    "df_res_theta = pd.DataFrame(columns=[\n",
    "    'theta_mean', 'theta_error',\n",
    "    'resolution_mean', 'resolution_error',\n",
    "    'resolution_rel_mean', 'resolution_rel_error'\n",
    "])\n",
    "\n",
    "for bin_true in theta_bins:\n",
    "    bin_true_selection = (\n",
    "        (df_mc['MCTRUTH_p_CosTheta'] >= bin_true[0])\n",
    "        & (df_mc['MCTRUTH_p_CosTheta'] < bin_true[1])\n",
    "    )\n",
    "    \n",
    "    resolution_dict = {}\n",
    "    \n",
    "    resolution_dict['theta_mean'] = np.mean(df_mc.loc[bin_true_selection, 'MCTRUTH_p_CosTheta'])\n",
    "    resolution_dict['theta_error'] = np.std(df_mc.loc[bin_true_selection, 'MCTRUTH_p_CosTheta'])\n",
    "    \n",
    "    squared_mean_resolution = np.mean(df_mc.loc[bin_true_selection, 'CosTheta_Residual']**2)\n",
    "    squared_mean_resolution_error = ss.sem(df_mc.loc[bin_true_selection, 'CosTheta_Residual']**2)\n",
    "    \n",
    "    resolution_dict['resolution_mean'] = np.sqrt(squared_mean_resolution)\n",
    "    resolution_dict['resolution_error'] = .5 * squared_mean_resolution_error / resolution_dict['resolution_mean']\n",
    "    resolution_dict['resolution_rel_mean'] = resolution_dict['resolution_mean'] / np.abs(resolution_dict['theta_mean'])\n",
    "    resolution_dict['resolution_rel_error'] = resolution_dict['resolution_error'] / np.abs(resolution_dict['theta_mean'])\n",
    "    \n",
    "    df_res_theta = df_res_theta.append(resolution_dict, ignore_index=True)\n",
    "    \n",
    "df_res_theta"
   ]
  },
  {
   "cell_type": "code",
   "execution_count": 38,
   "id": "dce589e2",
   "metadata": {},
   "outputs": [
    {
     "data": {
      "image/png": "[encoded data removed]",
      "text/plain": [
       "<Figure size 432x288 with 1 Axes>"
      ]
     },
     "metadata": {
      "needs_background": "light"
     },
     "output_type": "display_data"
    }
   ],
   "source": [
    "plt.errorbar(\n",
    "    x=df_res_theta['theta_mean'],\n",
    "    y=df_res_theta['resolution_mean'],\n",
    "    xerr=df_res_theta['theta_error'],\n",
    "    yerr=df_res_theta['resolution_error'],\n",
    "    color='black',\n",
    "    linestyle='',\n",
    "    marker='.',\n",
    "    markersize=10\n",
    ")\n",
    "\n",
    "plt.xlabel(r'$\\cos(\\theta_p^{\\mathrm{true}})$')\n",
    "plt.ylabel(\"Resolution\")\n",
    "\n",
    "if show_grid:\n",
    "    plt.grid()\n",
    "\n",
    "if show_titles:\n",
    "    plt.title(r\"Proton $\\theta$ helicity angle resolution\" + \"\\n\" + \"(MC simulation, reco sample)\")\n",
    "\n",
    "if save_plots:\n",
    "    plt.savefig(plot_directory + 'MCRECO_p_theta_resolution' + '.pdf', bbox_inches = 'tight')\n",
    "\n",
    "plt.show()"
   ]
  },
  {
   "cell_type": "markdown",
   "id": "ac4bb9c1",
   "metadata": {},
   "source": [
    "## $\\theta$ resolution vs. variables"
   ]
  },
  {
   "cell_type": "code",
   "execution_count": 39,
   "id": "ae1c0dea",
   "metadata": {},
   "outputs": [],
   "source": [
    "def theta_resolution_vs_variable_dataframe(\n",
    "    df: pd.DataFrame,\n",
    "    var_short_name: str,\n",
    "    var_series: pd.Series,\n",
    "    bin_left: float,\n",
    "    bin_right: float,\n",
    "    n_bins: int,\n",
    ") -> pd.DataFrame:\n",
    "    \n",
    "    edges = np.linspace(bin_left, bin_right, n_bins+1)\n",
    "    bins = [(l,r) for l, r in zip(edges[:-1], edges[1:])] \n",
    "    \n",
    "    df_res = pd.DataFrame(columns = [\n",
    "        'theta_mean', 'theta_error', 'resolution_mean', 'resolution_error',\n",
    "        'resolution_rel_mean', 'resolution_rel_error',\n",
    "        f'{var_short_name}_mean', f'{var_short_name}_error', \n",
    "    ])\n",
    "    \n",
    "    for bin_true in bins:\n",
    "        bin_true_selection = (\n",
    "            (var_series >= bin_true[0])\n",
    "            & (var_series < bin_true[1])\n",
    "        )\n",
    "\n",
    "        resolution_dict = {}\n",
    "\n",
    "        resolution_dict['theta_mean'] = np.mean(df.loc[bin_true_selection, 'MCTRUTH_p_CosTheta'])\n",
    "        resolution_dict['theta_error'] = np.std(df.loc[bin_true_selection, 'MCTRUTH_p_CosTheta'])\n",
    "\n",
    "        resolution_dict[f'{var_short_name}_mean'] = np.mean(var_series.loc[bin_true_selection])\n",
    "        resolution_dict[f'{var_short_name}_error'] = np.std(var_series.loc[bin_true_selection])\n",
    "\n",
    "        squared_mean_resolution = np.mean(df.loc[bin_true_selection, 'CosTheta_Residual']**2)\n",
    "        squared_mean_resolution_error = ss.sem(df.loc[bin_true_selection, 'CosTheta_Residual']**2)\n",
    "\n",
    "        resolution_dict['resolution_mean'] = np.sqrt(squared_mean_resolution)\n",
    "        resolution_dict['resolution_error'] = .5 * squared_mean_resolution_error / resolution_dict['resolution_mean']\n",
    "        resolution_dict['resolution_rel_mean'] = resolution_dict['resolution_mean'] / np.abs(resolution_dict['theta_mean'])\n",
    "        resolution_dict['resolution_rel_error'] = resolution_dict['resolution_error'] / np.abs(resolution_dict['theta_mean'])\n",
    "\n",
    "        df_res = df_res.append(resolution_dict, ignore_index=True)\n",
    "        \n",
    "    return df_res"
   ]
  },
  {
   "cell_type": "code",
   "execution_count": 40,
   "id": "9f6ef33a",
   "metadata": {},
   "outputs": [],
   "source": [
    "def theta_resolution_vs_variable_plots(\n",
    "    df_resolution: pd.DataFrame,\n",
    "    var_short_name: str,\n",
    "    var_label: str,\n",
    "    var_title: str,\n",
    ") -> None:\n",
    "    \n",
    "    ## FIRST PLOT: resolution vs. variable\n",
    "    plt.errorbar(\n",
    "        x=df_resolution[f'{var_short_name}_mean'],\n",
    "        y=df_resolution['resolution_mean'],\n",
    "        xerr=df_resolution[f'{var_short_name}_error'],\n",
    "        yerr=df_resolution['resolution_error'],\n",
    "        color='black',\n",
    "        linestyle='',\n",
    "        marker='.',\n",
    "        markersize=10\n",
    "    )\n",
    "\n",
    "    plt.xlabel(var_label)\n",
    "    plt.ylabel(r\"$\\cos\\theta_p$ resolution\")\n",
    "\n",
    "    if show_grid:\n",
    "        plt.grid()    \n",
    "    \n",
    "    if show_titles:\n",
    "        plt.title(fr\"Proton $\\theta$ resolution as function of {var_title}\" + \"\\n\" + \"(MC simulation, reco sample)\")\n",
    "\n",
    "    if save_plots:\n",
    "        plt.savefig(plot_directory + f'MCRECO_p_theta_resolution_vs_{var_short_name}' + '.pdf', bbox_inches = 'tight')\n",
    "\n",
    "    plt.show()\n",
    "    \n",
    "    ## SECOND PLOT: theta mean value vs. variable\n",
    "    plt.errorbar(\n",
    "        x=df_resolution[f'{var_short_name}_mean'],\n",
    "        y=df_resolution['theta_mean'],\n",
    "        xerr=df_resolution[f'{var_short_name}_error'],\n",
    "        yerr=df_resolution['theta_error'],\n",
    "        color='black',\n",
    "        linestyle='',\n",
    "        marker='.',\n",
    "        markersize=10\n",
    "    )\n",
    "\n",
    "    plt.xlabel(var_label)\n",
    "    plt.ylabel(r'$\\cos(\\theta_p^{true})$')\n",
    "    \n",
    "    if show_grid:\n",
    "        plt.grid()\n",
    "\n",
    "    if show_titles:\n",
    "        plt.title(fr\"True $\\theta$ vs. {var_title}\" + \"\\n\" + \"(MC simulation, reco sample)\")\n",
    "\n",
    "    if save_plots:\n",
    "        plt.savefig(plot_directory + f'MCRECO_p_theta_vs_{var_short_name}' + '.pdf', bbox_inches = 'tight')\n",
    "\n",
    "    plt.show()"
   ]
  },
  {
   "cell_type": "markdown",
   "id": "9cf5de6d",
   "metadata": {},
   "source": [
    "### Vs. proton $p_z$"
   ]
  },
  {
   "cell_type": "code",
   "execution_count": 41,
   "id": "16a56671",
   "metadata": {},
   "outputs": [
    {
     "data": {
      "image/png": "[encoded data removed]",
      "text/plain": [
       "<Figure size 432x288 with 1 Axes>"
      ]
     },
     "metadata": {
      "needs_background": "light"
     },
     "output_type": "display_data"
    },
    {
     "data": {
      "image/png": "[encoded data removed]",
      "text/plain": [
       "<Figure size 432x288 with 1 Axes>"
      ]
     },
     "metadata": {
      "needs_background": "light"
     },
     "output_type": "display_data"
    }
   ],
   "source": [
    "var_short_name = 'p_pz'\n",
    "var_series = df_mc['MCTRUTH_p_PZ']\n",
    "var_label = r'$p_z^\\mathrm{true} (p)$ [MeV/$c$]'\n",
    "var_title = \"proton $p_z$\"\n",
    "bin_left = 1e4\n",
    "bin_right = 15e4\n",
    "n_bins = 10\n",
    "\n",
    "df_res = theta_resolution_vs_variable_dataframe(\n",
    "    df_mc,\n",
    "    var_short_name,\n",
    "    var_series,\n",
    "    bin_left,\n",
    "    bin_right,\n",
    "    n_bins\n",
    ")\n",
    "\n",
    "theta_resolution_vs_variable_plots(\n",
    "    df_res,\n",
    "    var_short_name,\n",
    "    var_label,\n",
    "    var_title,\n",
    ")"
   ]
  },
  {
   "cell_type": "markdown",
   "id": "d19b96b5",
   "metadata": {},
   "source": [
    "### Vs. $\\Lambda^0$ decay vertex"
   ]
  },
  {
   "cell_type": "code",
   "execution_count": 42,
   "id": "8f4b1473",
   "metadata": {},
   "outputs": [
    {
     "data": {
      "image/png": "[encoded data removed]",
      "text/plain": [
       "<Figure size 432x288 with 1 Axes>"
      ]
     },
     "metadata": {
      "needs_background": "light"
     },
     "output_type": "display_data"
    },
    {
     "data": {
      "image/png": "[encoded data removed]",
      "text/plain": [
       "<Figure size 432x288 with 1 Axes>"
      ]
     },
     "metadata": {
      "needs_background": "light"
     },
     "output_type": "display_data"
    }
   ],
   "source": [
    "var_short_name = 'L_endvertex_z'\n",
    "var_series = df_mc['MCTRUTH_L_ENDVERTEX_Z']\n",
    "var_label = r'$z_\\mathrm{vtx}^\\mathrm{true} (\\Lambda^0)$ [mm]'\n",
    "var_title = \"$\\Lambda^0$ $z$ vertex\"\n",
    "bin_left = 5500\n",
    "bin_right = 8000\n",
    "n_bins = 10\n",
    "\n",
    "df_res = theta_resolution_vs_variable_dataframe(\n",
    "    df_mc,\n",
    "    var_short_name,\n",
    "    var_series,\n",
    "    bin_left,\n",
    "    bin_right,\n",
    "    n_bins\n",
    ")\n",
    "\n",
    "theta_resolution_vs_variable_plots(\n",
    "    df_res,\n",
    "    var_short_name,\n",
    "    var_label,\n",
    "    var_title,\n",
    ")"
   ]
  },
  {
   "cell_type": "markdown",
   "id": "d0b3c2d0",
   "metadata": {},
   "source": [
    "### Vs. $\\Lambda^0$ decay vertex bias"
   ]
  },
  {
   "cell_type": "code",
   "execution_count": 43,
   "id": "9f53e2a9",
   "metadata": {
    "scrolled": false
   },
   "outputs": [
    {
     "data": {
      "image/png": "[encoded data removed]",
      "text/plain": [
       "<Figure size 432x288 with 1 Axes>"
      ]
     },
     "metadata": {
      "needs_background": "light"
     },
     "output_type": "display_data"
    },
    {
     "data": {
      "image/png": "[encoded data removed]",
      "text/plain": [
       "<Figure size 432x288 with 1 Axes>"
      ]
     },
     "metadata": {
      "needs_background": "light"
     },
     "output_type": "display_data"
    }
   ],
   "source": [
    "var_short_name = 'L_endvertex_z_bias'\n",
    "var_series = df_mc['L_ENDVERTEX_Z'] - df_mc['MCTRUTH_L_ENDVERTEX_Z']\n",
    "var_label = r'$z_\\mathrm{vtx}^\\mathrm{reco} (\\Lambda^0) - z_\\mathrm{vtx}^\\mathrm{true} (\\Lambda^0)$ [mm]'\n",
    "var_title = \"$\\Lambda^0$ $z$ vertex bias\"\n",
    "bin_left = -500\n",
    "bin_right = 1500\n",
    "n_bins = 10\n",
    "\n",
    "df_res = theta_resolution_vs_variable_dataframe(\n",
    "    df_mc,\n",
    "    var_short_name,\n",
    "    var_series,\n",
    "    bin_left,\n",
    "    bin_right,\n",
    "    n_bins\n",
    ")\n",
    "\n",
    "theta_resolution_vs_variable_plots(\n",
    "    df_res,\n",
    "    var_short_name,\n",
    "    var_label,\n",
    "    var_title,\n",
    ")"
   ]
  },
  {
   "cell_type": "markdown",
   "id": "1fb638ac",
   "metadata": {},
   "source": [
    "### Vs. proto-particle positions"
   ]
  },
  {
   "cell_type": "code",
   "execution_count": 44,
   "id": "905aa676",
   "metadata": {},
   "outputs": [
    {
     "data": {
      "image/png": "[encoded data removed]",
      "text/plain": [
       "<Figure size 432x288 with 1 Axes>"
      ]
     },
     "metadata": {
      "needs_background": "light"
     },
     "output_type": "display_data"
    },
    {
     "data": {
      "image/png": "[encoded data removed]",
      "text/plain": [
       "<Figure size 432x288 with 1 Axes>"
      ]
     },
     "metadata": {
      "needs_background": "light"
     },
     "output_type": "display_data"
    }
   ],
   "source": [
    "var_short_name = 'proton_PP_x'\n",
    "var_series = df_mc['p_PP_X']\n",
    "var_label = r'Proton protoparticle $x_\\mathrm{ref}$ [mm]'\n",
    "var_title = \"proton proroparticle $x$ refpoint\"\n",
    "bin_left = -1000\n",
    "bin_right = 1000\n",
    "n_bins = 10\n",
    "\n",
    "df_res = theta_resolution_vs_variable_dataframe(\n",
    "    df_mc,\n",
    "    var_short_name,\n",
    "    var_series,\n",
    "    bin_left,\n",
    "    bin_right,\n",
    "    n_bins\n",
    ")\n",
    "\n",
    "theta_resolution_vs_variable_plots(\n",
    "    df_res,\n",
    "    var_short_name,\n",
    "    var_label,\n",
    "    var_title,\n",
    ")"
   ]
  },
  {
   "cell_type": "code",
   "execution_count": 45,
   "id": "df86cfbf",
   "metadata": {},
   "outputs": [
    {
     "data": {
      "image/png": "[encoded data removed]",
      "text/plain": [
       "<Figure size 432x288 with 1 Axes>"
      ]
     },
     "metadata": {
      "needs_background": "light"
     },
     "output_type": "display_data"
    },
    {
     "data": {
      "image/png": "[encoded data removed]",
      "text/plain": [
       "<Figure size 432x288 with 1 Axes>"
      ]
     },
     "metadata": {
      "needs_background": "light"
     },
     "output_type": "display_data"
    }
   ],
   "source": [
    "var_short_name = 'proton_PP_y'\n",
    "var_series = df_mc['p_PP_Y']\n",
    "var_label = r'Proton protoparticle $y_\\mathrm{ref}$ [mm]'\n",
    "var_title = \"proton proroparticle $y$ refpoint\"\n",
    "bin_left = -1000\n",
    "bin_right = 1000\n",
    "n_bins = 10\n",
    "\n",
    "df_res = theta_resolution_vs_variable_dataframe(\n",
    "    df_mc,\n",
    "    var_short_name,\n",
    "    var_series,\n",
    "    bin_left,\n",
    "    bin_right,\n",
    "    n_bins\n",
    ")\n",
    "\n",
    "theta_resolution_vs_variable_plots(\n",
    "    df_res,\n",
    "    var_short_name,\n",
    "    var_label,\n",
    "    var_title,\n",
    ")"
   ]
  },
  {
   "cell_type": "markdown",
   "id": "57ff6f1f",
   "metadata": {},
   "source": [
    "# Proton $\\phi$ angle resolution"
   ]
  },
  {
   "cell_type": "markdown",
   "id": "0d043bed",
   "metadata": {},
   "source": [
    "## Migration matrix"
   ]
  },
  {
   "cell_type": "code",
   "execution_count": 46,
   "id": "09e214b6",
   "metadata": {},
   "outputs": [],
   "source": [
    "phi_edges = np.linspace(-np.pi,np.pi,13)\n",
    "phi_bins = [(l,r) for l, r in zip(phi_edges[:-1], phi_edges[1:])] "
   ]
  },
  {
   "cell_type": "code",
   "execution_count": 47,
   "id": "73368aa1",
   "metadata": {},
   "outputs": [],
   "source": [
    "phi_migration_matrix = []\n",
    "\n",
    "for bin_true in phi_bins:\n",
    "    bin_true_selection = (\n",
    "        (df_mc['MCTRUTH_p_Phi'] >= bin_true[0])\n",
    "        & (df_mc['MCTRUTH_p_Phi'] < bin_true[1])\n",
    "    )\n",
    "    events_in_bin_true = sum(bin_true_selection)\n",
    "    row = []\n",
    "    for bin_reco in phi_bins:\n",
    "        bin_reco_selection = (\n",
    "            bin_true_selection\n",
    "            & (df_mc['DTF_FixJPsiLambda_p_Phi'] >= bin_reco[0])\n",
    "            & (df_mc['DTF_FixJPsiLambda_p_Phi'] < bin_reco[1])\n",
    "        )\n",
    "        events_in_bin_reco_and_bin_true = sum(bin_reco_selection)\n",
    "        row.append(events_in_bin_reco_and_bin_true/events_in_bin_true)\n",
    "        \n",
    "    phi_migration_matrix.insert(0, row)\n",
    "    \n",
    "phi_migration_matrix = np.array(phi_migration_matrix)"
   ]
  },
  {
   "cell_type": "code",
   "execution_count": 48,
   "id": "033b8e23",
   "metadata": {},
   "outputs": [
    {
     "data": {
      "image/png": "[encoded data removed]",
      "text/plain": [
       "<Figure size 432x288 with 2 Axes>"
      ]
     },
     "metadata": {
      "needs_background": "light"
     },
     "output_type": "display_data"
    }
   ],
   "source": [
    "fig, ax = plt.subplots()\n",
    "\n",
    "plt.imshow(phi_migration_matrix, cmap='binary', vmin=0, vmax=1)\n",
    "\n",
    "plt.colorbar(label='Probability')\n",
    "ax.xaxis.set(ticks=np.arange(-0.5, len(phi_edges)-1), ticklabels=[f'${\"{:.1f}\".format(i)}$' for i in phi_edges])\n",
    "ax.yaxis.set(ticks=np.arange(-0.5, len(phi_edges)-1), ticklabels=[f'${\"{:.1f}\".format(i)}$' for i in phi_edges[::-1]])\n",
    "plt.xlabel(r'$\\phi_p^\\mathrm{DTF}$')\n",
    "plt.ylabel(r'$\\phi_p^\\mathrm{true}$')\n",
    "plt.xticks(rotation=90)\n",
    "if show_titles:\n",
    "    plt.title(r\"Proton $\\phi$ helicity angle migration matrix\" + \"\\n\" + \"(MC simulation, reco sample)\")\n",
    "\n",
    "if save_plots:\n",
    "    plt.savefig(plot_directory + 'MCRECO_p_phi_migration' + '.pdf', bbox_inches = 'tight')\n",
    "\n",
    "plt.show()"
   ]
  },
  {
   "cell_type": "markdown",
   "id": "792a9a8a",
   "metadata": {},
   "source": [
    "## Resolution"
   ]
  },
  {
   "cell_type": "code",
   "execution_count": 49,
   "id": "802fee01",
   "metadata": {},
   "outputs": [],
   "source": [
    "## Assumes greater > lesser, i.e. greater - lesser > 0\n",
    "def distance_between_angles(lesser, greater):\n",
    "    distance_inside = abs(lesser - greater) % (2*np.pi)\n",
    "    distance_outside = (abs(lesser + np.pi) + abs(np.pi - greater)) % (2*np.pi)\n",
    "    \n",
    "    return np.where(distance_inside < distance_outside, distance_inside, distance_outside)"
   ]
  },
  {
   "cell_type": "code",
   "execution_count": 50,
   "id": "7ced053e",
   "metadata": {},
   "outputs": [
    {
     "data": {
      "text/html": [
       "<div>\n",
       "<style scoped>\n",
       "    .dataframe tbody tr th:only-of-type {\n",
       "        vertical-align: middle;\n",
       "    }\n",
       "\n",
       "    .dataframe tbody tr th {\n",
       "        vertical-align: top;\n",
       "    }\n",
       "\n",
       "    .dataframe thead th {\n",
       "        text-align: right;\n",
       "    }\n",
       "</style>\n",
       "<table border=\"1\" class=\"dataframe\">\n",
       "  <thead>\n",
       "    <tr style=\"text-align: right;\">\n",
       "      <th></th>\n",
       "      <th>phi_mean</th>\n",
       "      <th>phi_error</th>\n",
       "      <th>resolution_mean</th>\n",
       "      <th>resolution_error</th>\n",
       "      <th>resolution_rel_mean</th>\n",
       "      <th>resolution_rel_error</th>\n",
       "    </tr>\n",
       "  </thead>\n",
       "  <tbody>\n",
       "    <tr>\n",
       "      <th>0</th>\n",
       "      <td>-2.879041</td>\n",
       "      <td>0.151357</td>\n",
       "      <td>1.035224</td>\n",
       "      <td>0.026050</td>\n",
       "      <td>0.359573</td>\n",
       "      <td>0.009048</td>\n",
       "    </tr>\n",
       "    <tr>\n",
       "      <th>1</th>\n",
       "      <td>-2.354122</td>\n",
       "      <td>0.153445</td>\n",
       "      <td>1.072109</td>\n",
       "      <td>0.025299</td>\n",
       "      <td>0.455418</td>\n",
       "      <td>0.010747</td>\n",
       "    </tr>\n",
       "    <tr>\n",
       "      <th>2</th>\n",
       "      <td>-1.833247</td>\n",
       "      <td>0.150101</td>\n",
       "      <td>1.164652</td>\n",
       "      <td>0.025497</td>\n",
       "      <td>0.635295</td>\n",
       "      <td>0.013908</td>\n",
       "    </tr>\n",
       "    <tr>\n",
       "      <th>3</th>\n",
       "      <td>-1.308910</td>\n",
       "      <td>0.149326</td>\n",
       "      <td>1.146819</td>\n",
       "      <td>0.025801</td>\n",
       "      <td>0.876163</td>\n",
       "      <td>0.019712</td>\n",
       "    </tr>\n",
       "    <tr>\n",
       "      <th>4</th>\n",
       "      <td>-0.787100</td>\n",
       "      <td>0.150769</td>\n",
       "      <td>1.086464</td>\n",
       "      <td>0.025764</td>\n",
       "      <td>1.380338</td>\n",
       "      <td>0.032733</td>\n",
       "    </tr>\n",
       "    <tr>\n",
       "      <th>5</th>\n",
       "      <td>-0.259432</td>\n",
       "      <td>0.150917</td>\n",
       "      <td>1.032080</td>\n",
       "      <td>0.025932</td>\n",
       "      <td>3.978228</td>\n",
       "      <td>0.099956</td>\n",
       "    </tr>\n",
       "    <tr>\n",
       "      <th>6</th>\n",
       "      <td>0.272883</td>\n",
       "      <td>0.150530</td>\n",
       "      <td>1.013603</td>\n",
       "      <td>0.026463</td>\n",
       "      <td>3.714419</td>\n",
       "      <td>0.096975</td>\n",
       "    </tr>\n",
       "    <tr>\n",
       "      <th>7</th>\n",
       "      <td>0.779686</td>\n",
       "      <td>0.152764</td>\n",
       "      <td>1.047661</td>\n",
       "      <td>0.025765</td>\n",
       "      <td>1.343696</td>\n",
       "      <td>0.033045</td>\n",
       "    </tr>\n",
       "    <tr>\n",
       "      <th>8</th>\n",
       "      <td>1.306853</td>\n",
       "      <td>0.149254</td>\n",
       "      <td>1.125584</td>\n",
       "      <td>0.025442</td>\n",
       "      <td>0.861294</td>\n",
       "      <td>0.019468</td>\n",
       "    </tr>\n",
       "    <tr>\n",
       "      <th>9</th>\n",
       "      <td>1.829227</td>\n",
       "      <td>0.152504</td>\n",
       "      <td>1.142297</td>\n",
       "      <td>0.026292</td>\n",
       "      <td>0.624470</td>\n",
       "      <td>0.014374</td>\n",
       "    </tr>\n",
       "    <tr>\n",
       "      <th>10</th>\n",
       "      <td>2.356741</td>\n",
       "      <td>0.151962</td>\n",
       "      <td>1.075692</td>\n",
       "      <td>0.026188</td>\n",
       "      <td>0.456432</td>\n",
       "      <td>0.011112</td>\n",
       "    </tr>\n",
       "    <tr>\n",
       "      <th>11</th>\n",
       "      <td>2.875254</td>\n",
       "      <td>0.149360</td>\n",
       "      <td>1.054469</td>\n",
       "      <td>0.026205</td>\n",
       "      <td>0.366739</td>\n",
       "      <td>0.009114</td>\n",
       "    </tr>\n",
       "  </tbody>\n",
       "</table>\n",
       "</div>"
      ],
      "text/plain": [
       "    phi_mean  phi_error  resolution_mean  resolution_error  \\\n",
       "0  -2.879041   0.151357         1.035224          0.026050   \n",
       "1  -2.354122   0.153445         1.072109          0.025299   \n",
       "2  -1.833247   0.150101         1.164652          0.025497   \n",
       "3  -1.308910   0.149326         1.146819          0.025801   \n",
       "4  -0.787100   0.150769         1.086464          0.025764   \n",
       "5  -0.259432   0.150917         1.032080          0.025932   \n",
       "6   0.272883   0.150530         1.013603          0.026463   \n",
       "7   0.779686   0.152764         1.047661          0.025765   \n",
       "8   1.306853   0.149254         1.125584          0.025442   \n",
       "9   1.829227   0.152504         1.142297          0.026292   \n",
       "10  2.356741   0.151962         1.075692          0.026188   \n",
       "11  2.875254   0.149360         1.054469          0.026205   \n",
       "\n",
       "    resolution_rel_mean  resolution_rel_error  \n",
       "0              0.359573              0.009048  \n",
       "1              0.455418              0.010747  \n",
       "2              0.635295              0.013908  \n",
       "3              0.876163              0.019712  \n",
       "4              1.380338              0.032733  \n",
       "5              3.978228              0.099956  \n",
       "6              3.714419              0.096975  \n",
       "7              1.343696              0.033045  \n",
       "8              0.861294              0.019468  \n",
       "9              0.624470              0.014374  \n",
       "10             0.456432              0.011112  \n",
       "11             0.366739              0.009114  "
      ]
     },
     "execution_count": 50,
     "metadata": {},
     "output_type": "execute_result"
    }
   ],
   "source": [
    "df_mc['Phi_Residual'] = np.where(\n",
    "    df_mc['DTF_FixJPsiLambda_p_Phi'] - df_mc['MCTRUTH_p_Phi'] < 0,\n",
    "    distance_between_angles(df_mc['DTF_FixJPsiLambda_p_Phi'], df_mc['MCTRUTH_p_Phi']),\n",
    "    distance_between_angles(df_mc['MCTRUTH_p_Phi'], df_mc['DTF_FixJPsiLambda_p_Phi'])\n",
    ")\n",
    "\n",
    "\n",
    "df_res_phi = pd.DataFrame(columns=[\n",
    "    'phi_mean', 'phi_error',\n",
    "    'resolution_mean', 'resolution_error',\n",
    "    'resolution_rel_mean', 'resolution_rel_error'\n",
    "])\n",
    "\n",
    "for bin_true in phi_bins:\n",
    "    bin_true_selection = (\n",
    "        (df_mc['MCTRUTH_p_Phi'] >= bin_true[0])\n",
    "        & (df_mc['MCTRUTH_p_Phi'] < bin_true[1])\n",
    "    )\n",
    "    \n",
    "    resolution_dict = {}\n",
    "    \n",
    "    resolution_dict['phi_mean'] = np.mean(df_mc.loc[bin_true_selection, 'MCTRUTH_p_Phi'])\n",
    "    resolution_dict['phi_error'] = np.std(df_mc.loc[bin_true_selection, 'MCTRUTH_p_Phi'])\n",
    "    \n",
    "    squared_mean_resolution = np.mean(df_mc.loc[bin_true_selection, 'Phi_Residual']**2)\n",
    "    squared_mean_resolution_error = ss.sem(df_mc.loc[bin_true_selection, 'Phi_Residual']**2)\n",
    "    \n",
    "    resolution_dict['resolution_mean'] = np.sqrt(squared_mean_resolution)\n",
    "    resolution_dict['resolution_error'] = .5 * squared_mean_resolution_error / resolution_dict['resolution_mean']\n",
    "    resolution_dict['resolution_rel_mean'] = resolution_dict['resolution_mean'] / np.abs(resolution_dict['phi_mean'])\n",
    "    resolution_dict['resolution_rel_error'] = resolution_dict['resolution_error'] / np.abs(resolution_dict['phi_mean'])\n",
    "    \n",
    "    df_res_phi = df_res_phi.append(resolution_dict, ignore_index=True)\n",
    "    \n",
    "df_res_phi"
   ]
  },
  {
   "cell_type": "code",
   "execution_count": 51,
   "id": "75a728e9",
   "metadata": {},
   "outputs": [
    {
     "data": {
      "image/png": "[encoded data removed]",
      "text/plain": [
       "<Figure size 432x288 with 1 Axes>"
      ]
     },
     "metadata": {
      "needs_background": "light"
     },
     "output_type": "display_data"
    }
   ],
   "source": [
    "plt.errorbar(\n",
    "    x=df_res_phi['phi_mean'],\n",
    "    y=df_res_phi['resolution_mean'],\n",
    "    xerr=df_res_phi['phi_error'],\n",
    "    yerr=df_res_phi['resolution_error'],\n",
    "    color='black',\n",
    "    linestyle='',\n",
    "    marker='.',\n",
    "    markersize=10\n",
    ")\n",
    "\n",
    "plt.xlabel(r'$\\phi_p^{\\mathrm{true}}$')\n",
    "plt.ylabel(\"Resolution\")\n",
    "\n",
    "if show_titles:\n",
    "    plt.title(r\"Proton $\\phi$ helicity angle resolution\" + \"\\n\" + \"(MC simulation, reco sample)\")\n",
    "\n",
    "if show_grid:\n",
    "    plt.grid()\n",
    "    \n",
    "if save_plots:\n",
    "    plt.savefig(plot_directory + 'MCRECO_p_phi_resolution' + '.pdf', bbox_inches = 'tight')\n",
    "\n",
    "plt.ylim(0.9,1.25)\n",
    "    \n",
    "plt.show()"
   ]
  },
  {
   "cell_type": "markdown",
   "id": "2dd45156",
   "metadata": {},
   "source": [
    "## $\\phi$ resolution vs. variables"
   ]
  },
  {
   "cell_type": "code",
   "execution_count": 52,
   "id": "2fb66d1b",
   "metadata": {},
   "outputs": [],
   "source": [
    "def phi_resolution_vs_variable_dataframe(\n",
    "    df: pd.DataFrame,\n",
    "    var_short_name: str,\n",
    "    var_series: pd.Series,\n",
    "    bin_left: float,\n",
    "    bin_right: float,\n",
    "    n_bins: int,\n",
    ") -> pd.DataFrame:\n",
    "    \n",
    "    edges = np.linspace(bin_left, bin_right, n_bins+1)\n",
    "    bins = [(l,r) for l, r in zip(edges[:-1], edges[1:])] \n",
    "    \n",
    "    df_res = pd.DataFrame(columns = [\n",
    "        'phi_mean', 'phi_error', 'resolution_mean', 'resolution_error',\n",
    "        'resolution_rel_mean', 'resolution_rel_error',\n",
    "        f'{var_short_name}_mean', f'{var_short_name}_error', \n",
    "    ])\n",
    "    \n",
    "    for bin_true in bins:\n",
    "        bin_true_selection = (\n",
    "            (var_series >= bin_true[0])\n",
    "            & (var_series < bin_true[1])\n",
    "        )\n",
    "\n",
    "        resolution_dict = {}\n",
    "\n",
    "        resolution_dict['phi_mean'] = np.mean(df.loc[bin_true_selection, 'MCTRUTH_p_Phi'])\n",
    "        resolution_dict['phi_error'] = np.std(df.loc[bin_true_selection, 'MCTRUTH_p_Phi'])\n",
    "\n",
    "        resolution_dict[f'{var_short_name}_mean'] = np.mean(var_series.loc[bin_true_selection])\n",
    "        resolution_dict[f'{var_short_name}_error'] = np.std(var_series.loc[bin_true_selection])\n",
    "\n",
    "        squared_mean_resolution = np.mean(df.loc[bin_true_selection, 'Phi_Residual']**2)\n",
    "        squared_mean_resolution_error = ss.sem(df.loc[bin_true_selection, 'Phi_Residual']**2)\n",
    "\n",
    "        resolution_dict['resolution_mean'] = np.sqrt(squared_mean_resolution)\n",
    "        resolution_dict['resolution_error'] = .5 * squared_mean_resolution_error / resolution_dict['resolution_mean']\n",
    "        resolution_dict['resolution_rel_mean'] = resolution_dict['resolution_mean'] / np.abs(resolution_dict['phi_mean'])\n",
    "        resolution_dict['resolution_rel_error'] = resolution_dict['resolution_error'] / np.abs(resolution_dict['phi_mean'])\n",
    "\n",
    "        df_res = df_res.append(resolution_dict, ignore_index=True)\n",
    "        \n",
    "    return df_res"
   ]
  },
  {
   "cell_type": "code",
   "execution_count": 53,
   "id": "6e251964",
   "metadata": {},
   "outputs": [],
   "source": [
    "def phi_resolution_vs_variable_plots(\n",
    "    df_resolution: pd.DataFrame,\n",
    "    var_short_name: str,\n",
    "    var_label: str,\n",
    "    var_title: str,\n",
    ") -> None:\n",
    "    \n",
    "    ## FIRST PLOT: resolution vs. variable\n",
    "    plt.errorbar(\n",
    "        x=df_resolution[f'{var_short_name}_mean'],\n",
    "        y=df_resolution['resolution_mean'],\n",
    "        xerr=df_resolution[f'{var_short_name}_error'],\n",
    "        yerr=df_resolution['resolution_error'],\n",
    "        color='black',\n",
    "        linestyle='',\n",
    "        marker='.',\n",
    "        markersize=10\n",
    "    )\n",
    "\n",
    "    plt.xlabel(var_label)\n",
    "    plt.ylabel(r\"$\\phi_p$ resolution\")\n",
    "    \n",
    "    if show_grid:\n",
    "        plt.grid()\n",
    "\n",
    "    if show_titles:\n",
    "        plt.title(fr\"Proton $\\phi$ resolution as function of {var_title}\" + \"\\n\" + \"(MC simulation, reco sample)\")\n",
    "\n",
    "    if save_plots:\n",
    "        plt.savefig(plot_directory + f'MCRECO_p_phi_resolution_vs_{var_short_name}' + '.pdf', bbox_inches = 'tight')\n",
    "    \n",
    "    plt.show()\n",
    "    \n",
    "    ## SECOND PLOT: theta mean value vs. variable\n",
    "    plt.errorbar(\n",
    "        x=df_resolution[f'{var_short_name}_mean'],\n",
    "        y=df_resolution['phi_mean'],\n",
    "        xerr=df_resolution[f'{var_short_name}_error'],\n",
    "        yerr=df_resolution['phi_error'],\n",
    "        color='black',\n",
    "        linestyle='',\n",
    "        marker='.',\n",
    "        markersize=10\n",
    "    )\n",
    "\n",
    "    plt.xlabel(var_label)\n",
    "    plt.ylabel(r'$\\phi_p^{true}$')\n",
    "    \n",
    "    if show_grid:\n",
    "        plt.grid()\n",
    "\n",
    "    if show_titles:\n",
    "        plt.title(fr\"True $\\phi$ vs. {var_title}\" + \"\\n\" + \"(MC simulation, reco sample)\")\n",
    "\n",
    "    if save_plots:\n",
    "        plt.savefig(plot_directory + f'MCRECO_p_phi_vs_{var_short_name}' + '.pdf', bbox_inches = 'tight')\n",
    "\n",
    "    plt.show()"
   ]
  },
  {
   "cell_type": "markdown",
   "id": "f3a45bc4",
   "metadata": {},
   "source": [
    "### Vs. $\\Lambda^0$ decay vertex"
   ]
  },
  {
   "cell_type": "code",
   "execution_count": 54,
   "id": "f7b3c351",
   "metadata": {},
   "outputs": [
    {
     "data": {
      "image/png": "[encoded data removed]",
      "text/plain": [
       "<Figure size 432x288 with 1 Axes>"
      ]
     },
     "metadata": {
      "needs_background": "light"
     },
     "output_type": "display_data"
    },
    {
     "data": {
      "image/png": "[encoded data removed]",
      "text/plain": [
       "<Figure size 432x288 with 1 Axes>"
      ]
     },
     "metadata": {
      "needs_background": "light"
     },
     "output_type": "display_data"
    }
   ],
   "source": [
    "var_short_name = 'L_endvertex_z'\n",
    "var_series = df_mc['MCTRUTH_L_ENDVERTEX_Z']\n",
    "var_label = r'$z_\\mathrm{vtx}^\\mathrm{true} (\\Lambda^0)$ [mm]'\n",
    "var_title = \"$\\Lambda^0$ $z$ vertex\"\n",
    "bin_left = 5500\n",
    "bin_right = 8000\n",
    "n_bins = 10\n",
    "\n",
    "df_res = phi_resolution_vs_variable_dataframe(\n",
    "    df_mc,\n",
    "    var_short_name,\n",
    "    var_series,\n",
    "    bin_left,\n",
    "    bin_right,\n",
    "    n_bins\n",
    ")\n",
    "\n",
    "phi_resolution_vs_variable_plots(\n",
    "    df_res,\n",
    "    var_short_name,\n",
    "    var_label,\n",
    "    var_title,\n",
    ")"
   ]
  },
  {
   "cell_type": "markdown",
   "id": "6ffe17d8",
   "metadata": {},
   "source": [
    "### Vs. $\\Lambda^0$ decay vertex bias"
   ]
  },
  {
   "cell_type": "code",
   "execution_count": 55,
   "id": "b8d0c855",
   "metadata": {
    "scrolled": false
   },
   "outputs": [
    {
     "data": {
      "image/png": "[encoded data removed]",
      "text/plain": [
       "<Figure size 432x288 with 1 Axes>"
      ]
     },
     "metadata": {
      "needs_background": "light"
     },
     "output_type": "display_data"
    },
    {
     "data": {
      "image/png": "[encoded data removed]",
      "text/plain": [
       "<Figure size 432x288 with 1 Axes>"
      ]
     },
     "metadata": {
      "needs_background": "light"
     },
     "output_type": "display_data"
    }
   ],
   "source": [
    "var_short_name = 'L_endvertex_z_bias'\n",
    "var_series = df_mc['L_ENDVERTEX_Z'] - df_mc['MCTRUTH_L_ENDVERTEX_Z']\n",
    "var_label = r'$z_\\mathrm{vtx}^\\mathrm{reco} (\\Lambda^0) - z_\\mathrm{vtx}^\\mathrm{true} (\\Lambda^0)$ [mm]'\n",
    "var_title = \"$\\Lambda^0$ $z$ vertex bias\"\n",
    "bin_left = -500\n",
    "bin_right = 1500\n",
    "n_bins = 10\n",
    "\n",
    "df_res = phi_resolution_vs_variable_dataframe(\n",
    "    df_mc,\n",
    "    var_short_name,\n",
    "    var_series,\n",
    "    bin_left,\n",
    "    bin_right,\n",
    "    n_bins\n",
    ")\n",
    "\n",
    "phi_resolution_vs_variable_plots(\n",
    "    df_res,\n",
    "    var_short_name,\n",
    "    var_label,\n",
    "    var_title,\n",
    ")"
   ]
  },
  {
   "cell_type": "markdown",
   "id": "286c2f41",
   "metadata": {},
   "source": [
    "### Vs. proto-particle positions"
   ]
  },
  {
   "cell_type": "code",
   "execution_count": 56,
   "id": "c733fb8b",
   "metadata": {},
   "outputs": [
    {
     "data": {
      "image/png": "[encoded data removed]",
      "text/plain": [
       "<Figure size 432x288 with 1 Axes>"
      ]
     },
     "metadata": {
      "needs_background": "light"
     },
     "output_type": "display_data"
    },
    {
     "data": {
      "image/png": "[encoded data removed]",
      "text/plain": [
       "<Figure size 432x288 with 1 Axes>"
      ]
     },
     "metadata": {
      "needs_background": "light"
     },
     "output_type": "display_data"
    }
   ],
   "source": [
    "var_short_name = 'proton_PP_x'\n",
    "var_series = df_mc['p_PP_X']\n",
    "var_label = r'Proton protoparticle $x_\\mathrm{ref}$ [mm]'\n",
    "var_title = \"proton proroparticle $x$ refpoint\"\n",
    "bin_left = -1000\n",
    "bin_right = 1000\n",
    "n_bins = 10\n",
    "\n",
    "df_res = phi_resolution_vs_variable_dataframe(\n",
    "    df_mc,\n",
    "    var_short_name,\n",
    "    var_series,\n",
    "    bin_left,\n",
    "    bin_right,\n",
    "    n_bins\n",
    ")\n",
    "\n",
    "phi_resolution_vs_variable_plots(\n",
    "    df_res,\n",
    "    var_short_name,\n",
    "    var_label,\n",
    "    var_title,\n",
    ")"
   ]
  },
  {
   "cell_type": "code",
   "execution_count": 57,
   "id": "10b10bb7",
   "metadata": {},
   "outputs": [
    {
     "data": {
      "image/png": "[encoded data removed]",
      "text/plain": [
       "<Figure size 432x288 with 1 Axes>"
      ]
     },
     "metadata": {
      "needs_background": "light"
     },
     "output_type": "display_data"
    },
    {
     "data": {
      "image/png": "[encoded data removed]",
      "text/plain": [
       "<Figure size 432x288 with 1 Axes>"
      ]
     },
     "metadata": {
      "needs_background": "light"
     },
     "output_type": "display_data"
    }
   ],
   "source": [
    "var_short_name = 'proton_PP_y'\n",
    "var_series = df_mc['p_PP_Y']\n",
    "var_label = r'Proton protoparticle $y_\\mathrm{ref}$ [mm]'\n",
    "var_title = \"proton proroparticle $y$ refpoint\"\n",
    "bin_left = -1000\n",
    "bin_right = 1000\n",
    "n_bins = 10\n",
    "\n",
    "df_res = phi_resolution_vs_variable_dataframe(\n",
    "    df_mc,\n",
    "    var_short_name,\n",
    "    var_series,\n",
    "    bin_left,\n",
    "    bin_right,\n",
    "    n_bins\n",
    ")\n",
    "\n",
    "phi_resolution_vs_variable_plots(\n",
    "    df_res,\n",
    "    var_short_name,\n",
    "    var_label,\n",
    "    var_title,\n",
    ")"
   ]
  }
 ],
 "metadata": {
  "kernelspec": {
   "display_name": "Python 3",
   "language": "python",
   "name": "python3"
  },
  "language_info": {
   "codemirror_mode": {
    "name": "ipython",
    "version": 3
   },
   "file_extension": ".py",
   "mimetype": "text/x-python",
   "name": "python",
   "nbconvert_exporter": "python",
   "pygments_lexer": "ipython3",
   "version": "3.6.8"
  }
 },
 "nbformat": 4,
 "nbformat_minor": 5
}
