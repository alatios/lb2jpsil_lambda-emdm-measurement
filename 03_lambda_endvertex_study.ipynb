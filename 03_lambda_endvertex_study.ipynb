{
 "cells": [
  {
   "cell_type": "code",
   "execution_count": 1,
   "id": "8813a7e5",
   "metadata": {},
   "outputs": [],
   "source": [
    "import numpy as np\n",
    "import pandas as pd\n",
    "from matplotlib import pyplot as plt\n",
    "import pathlib\n",
    "import joblib\n",
    "from typing import Tuple, List"
   ]
  },
  {
   "cell_type": "code",
   "execution_count": 2,
   "id": "ef5a63b4",
   "metadata": {},
   "outputs": [],
   "source": [
    "## Self explanatory\n",
    "save_plots = True\n",
    "\n",
    "## Toggle plot titles (off for thesis and papers, generally speaking)\n",
    "show_titles = False\n",
    "\n",
    "## Toggle plot grid\n",
    "show_grid = False\n",
    "\n",
    "## Black and white?\n",
    "black_and_white = True\n",
    "\n",
    "## Drop event if DTF_FixJPsiLambda failed?\n",
    "dtf_success = True\n",
    "\n",
    "## Veto physical background\n",
    "b0_veto = True\n",
    "\n",
    "## Select signal region ([5508.5, 5731.8] MeV/c^2)\n",
    "only_sig_region = True"
   ]
  },
  {
   "cell_type": "code",
   "execution_count": 3,
   "id": "0bc87de3",
   "metadata": {},
   "outputs": [],
   "source": [
    "saved_models = {\n",
    "    ## BALANCE\n",
    "    ## Higher overtraining. Slightly better performance in test (fractions of percentage)\n",
    "    'sachiel': {\n",
    "        'daughter_momenta': 'DTF',\n",
    "        'dataset_type': 'balance',\n",
    "        'learning_rate' : 0.010,\n",
    "        'max_leaf_nodes' : 200,\n",
    "        'max_iter' : 5000,\n",
    "        'soft_threshold': 0.7,\n",
    "        'hard_threshold': 0.9924\n",
    "    },\n",
    "    ## Lower ovetraining. Looks better under K-S test. Slightly worse performance in test (fractions of percentage)\n",
    "    'shamshel': {\n",
    "        'daughter_momenta': 'DTF',\n",
    "        'dataset_type': 'balance',\n",
    "        'learning_rate' : 0.003,\n",
    "        'max_leaf_nodes' : 100,\n",
    "        'max_iter' : 2500,\n",
    "        'soft_threshold': 0.7,\n",
    "        'hard_threshold': 0.985\n",
    "    },\n",
    "    ## BKGSKEW\n",
    "    ## From an overtraining standpoint, this is the better one of the bkgskew\n",
    "    'ramiel': {\n",
    "        'daughter_momenta': 'DTF',\n",
    "        'dataset_type': 'bkgskew',\n",
    "        'learning_rate' : 0.003,\n",
    "        'max_leaf_nodes' : 100,\n",
    "        'max_iter' : 1500,\n",
    "        'soft_threshold': 0.1,\n",
    "        'hard_threshold': 0.656\n",
    "    },\n",
    "    ## This has quite more overtraining, but loses less signal\n",
    "    'israfel': {\n",
    "        'daughter_momenta': 'DTF',\n",
    "        'dataset_type': 'bkgskew',\n",
    "        'learning_rate' : 0.015,\n",
    "        'max_leaf_nodes' : 100,\n",
    "        'max_iter' : 1500,\n",
    "        'soft_threshold': 0.1,\n",
    "        'hard_threshold': 0.714\n",
    "    },\n",
    "    ## Salvatore's HBDT, for performance comparison.\n",
    "    ## Somewhat similar to israfel, does not match his original HBDT\n",
    "    'sandalphon': {\n",
    "        'daughter_momenta': 'DTF',\n",
    "        'dataset_type': 'bkgskew',\n",
    "        'learning_rate' : 0.01,\n",
    "        'max_leaf_nodes' : 100,\n",
    "        'max_iter' : 2500,\n",
    "        'soft_threshold': 0.1,\n",
    "        'hard_threshold': 0.637\n",
    "    }\n",
    "}"
   ]
  },
  {
   "cell_type": "code",
   "execution_count": 4,
   "id": "47257d73",
   "metadata": {},
   "outputs": [],
   "source": [
    "## Either one of the names in list(saved_models) or 'temp' for custom new model\n",
    "model_to_use = 'shamshel'\n",
    "\n",
    "if model_to_use in saved_models:\n",
    "    daughter_momenta = saved_models[model_to_use]['daughter_momenta']\n",
    "    dataset_type = saved_models[model_to_use]['dataset_type']\n",
    "    training_params = {key: saved_models[model_to_use][key] for key in ['learning_rate', 'max_leaf_nodes', 'max_iter']}\n",
    "    hard_threshold = saved_models[model_to_use]['hard_threshold']\n",
    "elif model_to_use == 'temp':\n",
    "    ## Proton and pion momenta\n",
    "    ## 'VF': use VF momenta\n",
    "    ## 'DTF': use DTF momenta w/ JPsi m.c.\n",
    "    ## 'DTFL': use DTF momenta w/ JPsi and Lambda m.c.\n",
    "    ## 'NO': don't use any momenta for Lambda daughter particles\n",
    "    daughter_momenta = 'DTF'\n",
    "\n",
    "    ## Two options:\n",
    "    ## 'balance': same number of training events for signal and bkg\n",
    "    ## 'bkgskew' uses 4 mln events of bkg, 500k of signal\n",
    "    dataset_type = 'bkgskew'\n",
    "\n",
    "    training_params = {\n",
    "        'learning_rate' : 0.003,\n",
    "        'max_leaf_nodes' : 100,\n",
    "        'max_iter' : 5000\n",
    "    }\n",
    "    \n",
    "    hard_threshold = 0.9\n",
    "else:\n",
    "    raise ValueError"
   ]
  },
  {
   "cell_type": "code",
   "execution_count": 5,
   "id": "549037e4",
   "metadata": {},
   "outputs": [],
   "source": [
    "if dataset_type not in ['balance', 'bkgskew']:\n",
    "    raise ValueError"
   ]
  },
  {
   "cell_type": "code",
   "execution_count": 6,
   "id": "eb84dec4",
   "metadata": {},
   "outputs": [],
   "source": [
    "if daughter_momenta == 'VF':\n",
    "    p_momenta = ['p_PT', 'p_PZ']\n",
    "    pim_momenta = ['pim_PT', 'pim_PZ']\n",
    "elif daughter_momenta == 'DTF':\n",
    "    p_momenta = ['DTF_FixJPsi_p_PT', 'DTF_FixJPsi_p_PZ']\n",
    "    pim_momenta = ['DTF_FixJPsi_pim_PT', 'DTF_FixJPsi_pim_PZ']\n",
    "elif daughter_momenta == 'DTFL':\n",
    "    p_momenta = ['DTF_FixJPsiLambda_p_PT', 'DTF_FixJPsiLambda_p_PZ']\n",
    "    pim_momenta = ['DTF_FixJPsiLambda_pim_PT', 'DTF_FixJPsiLambda_pim_PZ']\n",
    "elif daughter_momenta == 'NO':\n",
    "    p_momenta = []\n",
    "    pim_momenta = []\n",
    "else:\n",
    "    raise ValueError(daughter_momenta + \" is not a valid option for momenta usage.\")"
   ]
  },
  {
   "cell_type": "code",
   "execution_count": 7,
   "id": "447c8392",
   "metadata": {},
   "outputs": [
    {
     "data": {
      "text/plain": [
       "'HBDT_DTF_0.003_100_2500_BAL'"
      ]
     },
     "execution_count": 7,
     "metadata": {},
     "output_type": "execute_result"
    }
   ],
   "source": [
    "if dataset_type == 'balance':\n",
    "    dataset_suffix = 'BAL'\n",
    "else:\n",
    "    dataset_suffix = 'SKEW'\n",
    "\n",
    "classifier_dump_filename = (\n",
    "    'HBDT_'\n",
    "    + daughter_momenta\n",
    "    + '_' + str(training_params['learning_rate'])\n",
    "    + '_' + str(training_params['max_leaf_nodes'])\n",
    "    + '_' + str(training_params['max_iter'])\n",
    "    + '_' + dataset_suffix\n",
    ")\n",
    "\n",
    "classifier_dump_filename"
   ]
  },
  {
   "cell_type": "code",
   "execution_count": 8,
   "id": "d44a8b10",
   "metadata": {},
   "outputs": [],
   "source": [
    "## Create plots directory, if missing\n",
    "repo_directory = str(pathlib.Path.home()) + '/lambda-emdm-measurement/'\n",
    "state_directory = str(pathlib.Path.home()) + '/classifier-studies/' + '20_HBDT/' + 'saved_states/'\n",
    "\n",
    "plot_directory = (\n",
    "    repo_directory + 'plots/'\n",
    "    + 'lambda_endvertex_study/'\n",
    ")\n",
    "\n",
    "pathlib.Path(plot_directory).mkdir(parents=True, exist_ok=True)"
   ]
  },
  {
   "cell_type": "code",
   "execution_count": 9,
   "id": "47be5b0e",
   "metadata": {},
   "outputs": [],
   "source": [
    "path_to_hd5_files = str(pathlib.Path.home()) + '/data/'\n",
    "input_mc = path_to_hd5_files + 'LHCbMC_2016-2017-2018_MagUpDown_Lb2JPsiL_Ttracks_v12.h5'"
   ]
  },
  {
   "cell_type": "markdown",
   "id": "939ce5e4",
   "metadata": {},
   "source": [
    "# Data prepping\n",
    "## Import Monte Carlo data"
   ]
  },
  {
   "cell_type": "code",
   "execution_count": 10,
   "id": "95b4e6ea",
   "metadata": {},
   "outputs": [],
   "source": [
    "def p_modulus(px, py, pz):\n",
    "    return np.sqrt(px**2 + py**2 + pz**2)\n",
    "\n",
    "def transverse_p_modulus(px, py):\n",
    "    return np.sqrt(px**2 + py**2)"
   ]
  },
  {
   "cell_type": "code",
   "execution_count": 11,
   "id": "80e5d29f",
   "metadata": {},
   "outputs": [],
   "source": [
    "df_reco = pd.read_hdf(input_mc, key='LHCbMC_Lb')\n",
    "df_truth = pd.read_hdf(input_mc, key='LHCbMCTruth_Lb')\n",
    "df_mc = pd.merge(df_truth.loc[df_truth['Rec_key'] >= 0], df_reco, left_index=True, right_on='MC_key')\n",
    "df_mc = df_mc.loc[(df_mc['MC_key'] >= 0) & (df_mc['Rec_key'] >= 0)]\n",
    "\n",
    "#del(df_reco, df_truth)\n",
    "del(df_reco)"
   ]
  },
  {
   "cell_type": "code",
   "execution_count": 12,
   "id": "b3eaeec8",
   "metadata": {},
   "outputs": [],
   "source": [
    "mag_down_bins = [(0, 1730000), (3500000, 4860000), (6200000, 7570000)]\n",
    "mag_up_bins =  [(1730000, 3500000), (4860000, 6200000), (7570000, 10000000)]\n",
    "\n",
    "for mag_bin in mag_up_bins:\n",
    "    df_mc.loc[(df_mc['MC_key'] >= mag_bin[0]) & (df_mc['MC_key'] < mag_bin[1]), 'Polarity'] = +1\n",
    "    \n",
    "for mag_bin in mag_down_bins:\n",
    "    df_mc.loc[(df_mc['MC_key'] >= mag_bin[0]) & (df_mc['MC_key'] < mag_bin[1]), 'Polarity'] = -1"
   ]
  },
  {
   "cell_type": "code",
   "execution_count": 13,
   "id": "9f651a24",
   "metadata": {},
   "outputs": [],
   "source": [
    "jpsi_pdg_mass = 3096.900\n",
    "b0_pdg_mass = 5279.61\n",
    "b0_veto_threshold = 70"
   ]
  },
  {
   "cell_type": "code",
   "execution_count": 14,
   "id": "5e0b5e37",
   "metadata": {},
   "outputs": [],
   "source": [
    "## Missing \"combined\" invariant masses (for Lambda->p pim and Lambdab->JPsi Lambda)\n",
    "## These are the AM in the DaVinci config file. Did Salvatore implement them somewhere?\n",
    "\n",
    "pion_p_cuts = (\n",
    "    (p_modulus(df_mc['pim_PX'], df_mc['pim_PY'], df_mc['pim_PZ']) > 2000)\n",
    "    & (p_modulus(df_mc['pim_PX'], df_mc['pim_PY'], df_mc['pim_PZ']) < 5e5)\n",
    ")\n",
    "\n",
    "proton_p_cuts = (\n",
    "    (p_modulus(df_mc['p_PX'], df_mc['p_PY'], df_mc['p_PZ']) > 10000)\n",
    "    & (p_modulus(df_mc['p_PX'], df_mc['p_PY'], df_mc['p_PZ']) < 5e5)\n",
    ")\n",
    "\n",
    "proton_pt_cuts = transverse_p_modulus(df_mc['p_PX'], df_mc['p_PY']) > 400\n",
    "\n",
    "lambda_m_cuts = (df_mc['L_M'] > 600) & (df_mc['L_M'] < 1500)\n",
    "lambda_mm_cuts = df_mc['L_MM'] < 1500\n",
    "lambda_z_cuts = (df_mc['L_ENDVERTEX_Z'] > 5500) & (df_mc['L_ENDVERTEX_Z'] < 8500)\n",
    "lambda_dira_cuts = df_mc['L_BPVDIRA'] > 0.9999\n",
    "lambda_ipchi2_cuts = df_mc['L_BPVIPCHI2'] < 200\n",
    "lambda_vdchi2_cuts = df_mc['L_BPVVDCHI2'] < 2e7\n",
    "lambda_chi2_cuts = df_mc['L_VFASPF_CHI2_VDOF'] < 750\n",
    "lambda_pt_cuts = transverse_p_modulus(df_mc['L_PX'], df_mc['L_PY']) > 450\n",
    "\n",
    "jpsi_m_cuts = abs(df_mc['Jpsi_M'] - jpsi_pdg_mass) < 90\n",
    "\n",
    "lambdab_m_cuts = df_mc['Lb_M'] < 8500\n",
    "lambdab_dira_cuts = abs(df_mc['Lb_BPVDIRA']) > 0.99\n",
    "lambdab_ipchi2_cuts = df_mc['Lb_BPVIPCHI2'] < 1750\n",
    "lambdab_chi2_cuts = df_mc['Lb_VFASPF_CHI2_VDOF'] < 150\n",
    "\n",
    "dtf_success_cuts = df_mc['DTF_FixJPsiLambda_status'] == 'Success'\n",
    "\n",
    "b0_veto_cuts = (df_mc['DTF_FixJPsiLambda_PIDSubs_status'] != 'Success') | (np.abs(df_mc['DTF_FixJPsiLambda_PIDSubs_Lb_M'] - b0_pdg_mass) > b0_veto_threshold)"
   ]
  },
  {
   "cell_type": "code",
   "execution_count": 15,
   "id": "fe8c97f9",
   "metadata": {},
   "outputs": [],
   "source": [
    "pre_selection_cuts = (\n",
    "    pion_p_cuts &\n",
    "    proton_p_cuts &\n",
    "    proton_pt_cuts &\n",
    "    lambda_m_cuts &\n",
    "    lambda_mm_cuts &\n",
    "    lambda_z_cuts &\n",
    "    lambda_dira_cuts &\n",
    "    lambda_ipchi2_cuts &\n",
    "    lambda_vdchi2_cuts &\n",
    "    lambda_chi2_cuts &\n",
    "    lambda_pt_cuts &\n",
    "    jpsi_m_cuts &\n",
    "    lambdab_m_cuts &\n",
    "    lambdab_dira_cuts &\n",
    "    lambdab_ipchi2_cuts &\n",
    "    lambdab_chi2_cuts\n",
    ")\n",
    "\n",
    "if dtf_success:\n",
    "    pre_selection_cuts = pre_selection_cuts & dtf_success_cuts\n",
    "    \n",
    "if b0_veto:\n",
    "    pre_selection_cuts = pre_selection_cuts & b0_veto_cuts\n",
    "\n",
    "#df_mc[pre_selection_cuts]"
   ]
  },
  {
   "cell_type": "markdown",
   "id": "49c05360",
   "metadata": {},
   "source": [
    "## Add derived variables"
   ]
  },
  {
   "cell_type": "code",
   "execution_count": 16,
   "id": "cde9f997",
   "metadata": {},
   "outputs": [],
   "source": [
    "def add_derived_variables(\n",
    "    df: pd.DataFrame\n",
    ") -> None:\n",
    "    df['p_PT'] = transverse_p_modulus(df['p_PX'], df['p_PY'])\n",
    "    df['DTF_FixJPsi_p_PT'] = transverse_p_modulus(df['DTF_FixJPsi_p_PX'], df['DTF_FixJPsi_p_PY'])\n",
    "    df['DTF_FixJPsiLambda_p_PT'] = transverse_p_modulus(df['DTF_FixJPsiLambda_p_PX'], df['DTF_FixJPsiLambda_p_PY'])\n",
    "    df['pim_PT'] = transverse_p_modulus(df['pim_PX'], df['pim_PY'])\n",
    "    df['DTF_FixJPsi_pim_PT'] = transverse_p_modulus(df['DTF_FixJPsi_pim_PX'], df['DTF_FixJPsi_pim_PY'])\n",
    "    df['DTF_FixJPsiLambda_pim_PT'] = transverse_p_modulus(df['DTF_FixJPsiLambda_pim_PX'], df['DTF_FixJPsiLambda_pim_PY'])\n",
    "    df['Jpsi_PT'] = transverse_p_modulus(df['Jpsi_PX'], df['Jpsi_PY'])\n",
    "    \n",
    "    dtf_success_mapper = {\n",
    "        'Success': 0.0,\n",
    "        'Failed': 1.0,\n",
    "        'NonConverged': 3.0\n",
    "    }\n",
    "\n",
    "    df.replace({'DTF_FixJPsi_status': dtf_success_mapper}, inplace=True)\n",
    "    df.replace({'DTF_FixJPsiLambda_status': dtf_success_mapper}, inplace=True)"
   ]
  },
  {
   "cell_type": "code",
   "execution_count": 17,
   "id": "57154ac0",
   "metadata": {},
   "outputs": [],
   "source": [
    "add_derived_variables(df_mc)"
   ]
  },
  {
   "cell_type": "markdown",
   "id": "8d3f626e",
   "metadata": {},
   "source": [
    "## Drop events not passing the prefilter"
   ]
  },
  {
   "cell_type": "code",
   "execution_count": 18,
   "id": "d9f235ec",
   "metadata": {},
   "outputs": [],
   "source": [
    "df_mc.drop(df_mc[~pre_selection_cuts].index, inplace=True)"
   ]
  },
  {
   "cell_type": "markdown",
   "id": "e8627525",
   "metadata": {},
   "source": [
    "## Score HBDT and keep events above hard threshold"
   ]
  },
  {
   "cell_type": "code",
   "execution_count": 19,
   "id": "f9d9618d",
   "metadata": {},
   "outputs": [],
   "source": [
    "saved_state_file = state_directory + classifier_dump_filename + '.joblib'\n",
    "HBDT = joblib.load(saved_state_file)"
   ]
  },
  {
   "cell_type": "code",
   "execution_count": 20,
   "id": "30d2da8c",
   "metadata": {},
   "outputs": [],
   "source": [
    "fixed_features = [\n",
    "    'Jpsi_PT',\n",
    "    'Jpsi_PZ',\n",
    "    'L_ENDVERTEX_X',\n",
    "    'L_ENDVERTEX_Y',\n",
    "    'L_ENDVERTEX_Z',\n",
    "    'L_BPVDIRA',\n",
    "    'Lb_BPVDIRA',\n",
    "    'L_VFASPF_CHI2_VDOF',\n",
    "    'Lb_VFASPF_CHI2_VDOF',\n",
    "    'L_BPVIPCHI2',\n",
    "    'Lb_BPVIPCHI2',\n",
    "    'L_BPVVDCHI2',\n",
    "    'Lb_BPVVDCHI2',\n",
    "    'DTF_FixJPsi_status',\n",
    "    'DTF_FixJPsiLambda_status'\n",
    "]\n",
    "\n",
    "features = p_momenta + pim_momenta + fixed_features"
   ]
  },
  {
   "cell_type": "code",
   "execution_count": 21,
   "id": "f701f2e3",
   "metadata": {},
   "outputs": [],
   "source": [
    "mc_predicted = HBDT.predict_proba(df_mc.loc[:, features].to_numpy())[:,1]\n",
    "df_mc['HBDT'] = mc_predicted\n",
    "mc_pass_threshold = df_mc['HBDT'] > hard_threshold"
   ]
  },
  {
   "cell_type": "code",
   "execution_count": 22,
   "id": "d8dea392",
   "metadata": {},
   "outputs": [],
   "source": [
    "df_mc.drop(df_mc[~mc_pass_threshold].index, inplace=True)\n",
    "\n",
    "del(mc_predicted)"
   ]
  },
  {
   "cell_type": "markdown",
   "id": "b5f4417d",
   "metadata": {},
   "source": [
    "One last thing: excise events outside of the desired invariant mass window."
   ]
  },
  {
   "cell_type": "code",
   "execution_count": 23,
   "id": "e8bf56ac",
   "metadata": {},
   "outputs": [],
   "source": [
    "if only_sig_region:\n",
    "    lower_limit_mass = 5495.5\n",
    "    upper_limit_mass = 5744.9\n",
    "else:\n",
    "    lower_limit_mass = 5000\n",
    "    upper_limit_mass = 6200\n",
    "\n",
    "mc_Lb_invmass_cut = ((df_mc['DTF_FixJPsiLambda_Lb_M'] > lower_limit_mass) & (df_mc['DTF_FixJPsiLambda_Lb_M'] < upper_limit_mass))"
   ]
  },
  {
   "cell_type": "code",
   "execution_count": 24,
   "id": "b2e69eb2",
   "metadata": {},
   "outputs": [],
   "source": [
    "df_mc.drop(df_mc[~mc_Lb_invmass_cut].index, inplace=True)"
   ]
  },
  {
   "cell_type": "code",
   "execution_count": 25,
   "id": "19c1bafa",
   "metadata": {},
   "outputs": [
    {
     "data": {
      "text/html": [
       "<div>\n",
       "<style scoped>\n",
       "    .dataframe tbody tr th:only-of-type {\n",
       "        vertical-align: middle;\n",
       "    }\n",
       "\n",
       "    .dataframe tbody tr th {\n",
       "        vertical-align: top;\n",
       "    }\n",
       "\n",
       "    .dataframe thead th {\n",
       "        text-align: right;\n",
       "    }\n",
       "</style>\n",
       "<table border=\"1\" class=\"dataframe\">\n",
       "  <thead>\n",
       "    <tr style=\"text-align: right;\">\n",
       "      <th></th>\n",
       "      <th>MCTRUTH_Lb_ENDVERTEX_X</th>\n",
       "      <th>MCTRUTH_Lb_ENDVERTEX_Y</th>\n",
       "      <th>MCTRUTH_Lb_ENDVERTEX_Z</th>\n",
       "      <th>MCTRUTH_L_ENDVERTEX_X</th>\n",
       "      <th>MCTRUTH_L_ENDVERTEX_Y</th>\n",
       "      <th>MCTRUTH_L_ENDVERTEX_Z</th>\n",
       "      <th>MCTRUTH_p_PX</th>\n",
       "      <th>MCTRUTH_p_PY</th>\n",
       "      <th>MCTRUTH_p_PZ</th>\n",
       "      <th>MCTRUTH_pim_PX</th>\n",
       "      <th>...</th>\n",
       "      <th>MC_key</th>\n",
       "      <th>Polarity</th>\n",
       "      <th>p_PT</th>\n",
       "      <th>DTF_FixJPsi_p_PT</th>\n",
       "      <th>DTF_FixJPsiLambda_p_PT</th>\n",
       "      <th>pim_PT</th>\n",
       "      <th>DTF_FixJPsi_pim_PT</th>\n",
       "      <th>DTF_FixJPsiLambda_pim_PT</th>\n",
       "      <th>Jpsi_PT</th>\n",
       "      <th>HBDT</th>\n",
       "    </tr>\n",
       "    <tr>\n",
       "      <th>Rec_key</th>\n",
       "      <th></th>\n",
       "      <th></th>\n",
       "      <th></th>\n",
       "      <th></th>\n",
       "      <th></th>\n",
       "      <th></th>\n",
       "      <th></th>\n",
       "      <th></th>\n",
       "      <th></th>\n",
       "      <th></th>\n",
       "      <th></th>\n",
       "      <th></th>\n",
       "      <th></th>\n",
       "      <th></th>\n",
       "      <th></th>\n",
       "      <th></th>\n",
       "      <th></th>\n",
       "      <th></th>\n",
       "      <th></th>\n",
       "      <th></th>\n",
       "      <th></th>\n",
       "    </tr>\n",
       "  </thead>\n",
       "  <tbody>\n",
       "    <tr>\n",
       "      <th>14</th>\n",
       "      <td>0.9904</td>\n",
       "      <td>-0.2075</td>\n",
       "      <td>-9.769600</td>\n",
       "      <td>224.561996</td>\n",
       "      <td>56.081600</td>\n",
       "      <td>5921.048828</td>\n",
       "      <td>2894.560059</td>\n",
       "      <td>699.140015</td>\n",
       "      <td>74302.851562</td>\n",
       "      <td>293.929993</td>\n",
       "      <td>...</td>\n",
       "      <td>367</td>\n",
       "      <td>-1.0</td>\n",
       "      <td>3138.222168</td>\n",
       "      <td>2606.361572</td>\n",
       "      <td>2835.955811</td>\n",
       "      <td>563.971436</td>\n",
       "      <td>397.024719</td>\n",
       "      <td>499.553711</td>\n",
       "      <td>1183.876953</td>\n",
       "      <td>0.993490</td>\n",
       "    </tr>\n",
       "    <tr>\n",
       "      <th>25</th>\n",
       "      <td>1.4204</td>\n",
       "      <td>0.1756</td>\n",
       "      <td>6.183100</td>\n",
       "      <td>113.135696</td>\n",
       "      <td>223.900299</td>\n",
       "      <td>7097.245117</td>\n",
       "      <td>1002.729980</td>\n",
       "      <td>2151.709961</td>\n",
       "      <td>69297.921875</td>\n",
       "      <td>246.179993</td>\n",
       "      <td>...</td>\n",
       "      <td>619</td>\n",
       "      <td>-1.0</td>\n",
       "      <td>3129.654541</td>\n",
       "      <td>2471.828369</td>\n",
       "      <td>2450.595215</td>\n",
       "      <td>501.604156</td>\n",
       "      <td>426.218414</td>\n",
       "      <td>421.343781</td>\n",
       "      <td>3530.665527</td>\n",
       "      <td>0.995001</td>\n",
       "    </tr>\n",
       "    <tr>\n",
       "      <th>36</th>\n",
       "      <td>0.6354</td>\n",
       "      <td>-0.1720</td>\n",
       "      <td>-26.184099</td>\n",
       "      <td>83.245796</td>\n",
       "      <td>126.276802</td>\n",
       "      <td>7588.293457</td>\n",
       "      <td>520.130005</td>\n",
       "      <td>653.900024</td>\n",
       "      <td>45147.179688</td>\n",
       "      <td>61.330002</td>\n",
       "      <td>...</td>\n",
       "      <td>798</td>\n",
       "      <td>-1.0</td>\n",
       "      <td>984.302063</td>\n",
       "      <td>885.361511</td>\n",
       "      <td>888.376526</td>\n",
       "      <td>262.376190</td>\n",
       "      <td>259.310089</td>\n",
       "      <td>252.252304</td>\n",
       "      <td>3836.018311</td>\n",
       "      <td>0.988892</td>\n",
       "    </tr>\n",
       "    <tr>\n",
       "      <th>56</th>\n",
       "      <td>1.0630</td>\n",
       "      <td>-0.1569</td>\n",
       "      <td>14.631200</td>\n",
       "      <td>-16.393600</td>\n",
       "      <td>-267.315704</td>\n",
       "      <td>7429.070312</td>\n",
       "      <td>19.139999</td>\n",
       "      <td>-1164.579956</td>\n",
       "      <td>32903.449219</td>\n",
       "      <td>-108.959999</td>\n",
       "      <td>...</td>\n",
       "      <td>1391</td>\n",
       "      <td>-1.0</td>\n",
       "      <td>1677.147461</td>\n",
       "      <td>1222.470947</td>\n",
       "      <td>1180.346313</td>\n",
       "      <td>260.234802</td>\n",
       "      <td>254.823410</td>\n",
       "      <td>243.301285</td>\n",
       "      <td>2582.130859</td>\n",
       "      <td>0.986191</td>\n",
       "    </tr>\n",
       "    <tr>\n",
       "      <th>71</th>\n",
       "      <td>1.8416</td>\n",
       "      <td>-1.3280</td>\n",
       "      <td>21.833700</td>\n",
       "      <td>628.105896</td>\n",
       "      <td>-929.930481</td>\n",
       "      <td>7475.404785</td>\n",
       "      <td>3879.139893</td>\n",
       "      <td>-5898.799805</td>\n",
       "      <td>47200.421875</td>\n",
       "      <td>1059.250000</td>\n",
       "      <td>...</td>\n",
       "      <td>1897</td>\n",
       "      <td>-1.0</td>\n",
       "      <td>5397.982422</td>\n",
       "      <td>6764.600098</td>\n",
       "      <td>6947.719238</td>\n",
       "      <td>1786.030396</td>\n",
       "      <td>1679.542480</td>\n",
       "      <td>1734.952637</td>\n",
       "      <td>6626.127441</td>\n",
       "      <td>0.997901</td>\n",
       "    </tr>\n",
       "    <tr>\n",
       "      <th>...</th>\n",
       "      <td>...</td>\n",
       "      <td>...</td>\n",
       "      <td>...</td>\n",
       "      <td>...</td>\n",
       "      <td>...</td>\n",
       "      <td>...</td>\n",
       "      <td>...</td>\n",
       "      <td>...</td>\n",
       "      <td>...</td>\n",
       "      <td>...</td>\n",
       "      <td>...</td>\n",
       "      <td>...</td>\n",
       "      <td>...</td>\n",
       "      <td>...</td>\n",
       "      <td>...</td>\n",
       "      <td>...</td>\n",
       "      <td>...</td>\n",
       "      <td>...</td>\n",
       "      <td>...</td>\n",
       "      <td>...</td>\n",
       "      <td>...</td>\n",
       "    </tr>\n",
       "    <tr>\n",
       "      <th>366267</th>\n",
       "      <td>1.4960</td>\n",
       "      <td>0.4462</td>\n",
       "      <td>-21.932100</td>\n",
       "      <td>171.948593</td>\n",
       "      <td>299.047791</td>\n",
       "      <td>7071.188477</td>\n",
       "      <td>1051.619995</td>\n",
       "      <td>1886.640015</td>\n",
       "      <td>46525.289062</td>\n",
       "      <td>303.820007</td>\n",
       "      <td>...</td>\n",
       "      <td>8918745</td>\n",
       "      <td>1.0</td>\n",
       "      <td>2245.093506</td>\n",
       "      <td>1952.591919</td>\n",
       "      <td>2039.183350</td>\n",
       "      <td>553.135132</td>\n",
       "      <td>510.911560</td>\n",
       "      <td>556.640259</td>\n",
       "      <td>4791.497559</td>\n",
       "      <td>0.993085</td>\n",
       "    </tr>\n",
       "    <tr>\n",
       "      <th>366268</th>\n",
       "      <td>0.9817</td>\n",
       "      <td>-0.2910</td>\n",
       "      <td>-13.832300</td>\n",
       "      <td>402.671509</td>\n",
       "      <td>16.624701</td>\n",
       "      <td>8214.584961</td>\n",
       "      <td>1634.530029</td>\n",
       "      <td>26.360001</td>\n",
       "      <td>33188.000000</td>\n",
       "      <td>113.620003</td>\n",
       "      <td>...</td>\n",
       "      <td>8918751</td>\n",
       "      <td>1.0</td>\n",
       "      <td>2154.688965</td>\n",
       "      <td>1975.448608</td>\n",
       "      <td>1626.364014</td>\n",
       "      <td>105.307137</td>\n",
       "      <td>119.006645</td>\n",
       "      <td>118.100471</td>\n",
       "      <td>2818.800293</td>\n",
       "      <td>0.986714</td>\n",
       "    </tr>\n",
       "    <tr>\n",
       "      <th>366313</th>\n",
       "      <td>0.4253</td>\n",
       "      <td>-0.0151</td>\n",
       "      <td>-0.922200</td>\n",
       "      <td>-159.258698</td>\n",
       "      <td>-53.847301</td>\n",
       "      <td>5842.161133</td>\n",
       "      <td>-2971.840088</td>\n",
       "      <td>-964.760010</td>\n",
       "      <td>105195.726562</td>\n",
       "      <td>-334.529999</td>\n",
       "      <td>...</td>\n",
       "      <td>8919632</td>\n",
       "      <td>1.0</td>\n",
       "      <td>4219.451660</td>\n",
       "      <td>3628.397949</td>\n",
       "      <td>3111.473877</td>\n",
       "      <td>156.685303</td>\n",
       "      <td>316.524811</td>\n",
       "      <td>366.231476</td>\n",
       "      <td>3196.120117</td>\n",
       "      <td>0.996885</td>\n",
       "    </tr>\n",
       "    <tr>\n",
       "      <th>366327</th>\n",
       "      <td>0.1985</td>\n",
       "      <td>-0.1576</td>\n",
       "      <td>-19.471500</td>\n",
       "      <td>-207.092300</td>\n",
       "      <td>-37.506302</td>\n",
       "      <td>6777.450195</td>\n",
       "      <td>-2266.669922</td>\n",
       "      <td>-458.640015</td>\n",
       "      <td>76301.921875</td>\n",
       "      <td>-294.079987</td>\n",
       "      <td>...</td>\n",
       "      <td>8920122</td>\n",
       "      <td>1.0</td>\n",
       "      <td>3295.345459</td>\n",
       "      <td>2353.676270</td>\n",
       "      <td>2249.364990</td>\n",
       "      <td>164.354309</td>\n",
       "      <td>178.532379</td>\n",
       "      <td>177.722122</td>\n",
       "      <td>4791.321777</td>\n",
       "      <td>0.992794</td>\n",
       "    </tr>\n",
       "    <tr>\n",
       "      <th>366333</th>\n",
       "      <td>1.1884</td>\n",
       "      <td>-0.0951</td>\n",
       "      <td>69.203400</td>\n",
       "      <td>111.651604</td>\n",
       "      <td>74.976997</td>\n",
       "      <td>6779.822754</td>\n",
       "      <td>1028.930054</td>\n",
       "      <td>635.940002</td>\n",
       "      <td>62082.968750</td>\n",
       "      <td>293.480011</td>\n",
       "      <td>...</td>\n",
       "      <td>8920398</td>\n",
       "      <td>1.0</td>\n",
       "      <td>1303.318359</td>\n",
       "      <td>1326.679565</td>\n",
       "      <td>1221.635986</td>\n",
       "      <td>339.316467</td>\n",
       "      <td>383.608398</td>\n",
       "      <td>369.885040</td>\n",
       "      <td>3285.190186</td>\n",
       "      <td>0.993737</td>\n",
       "    </tr>\n",
       "  </tbody>\n",
       "</table>\n",
       "<p>20645 rows × 228 columns</p>\n",
       "</div>"
      ],
      "text/plain": [
       "         MCTRUTH_Lb_ENDVERTEX_X  MCTRUTH_Lb_ENDVERTEX_Y  \\\n",
       "Rec_key                                                   \n",
       "14                       0.9904                 -0.2075   \n",
       "25                       1.4204                  0.1756   \n",
       "36                       0.6354                 -0.1720   \n",
       "56                       1.0630                 -0.1569   \n",
       "71                       1.8416                 -1.3280   \n",
       "...                         ...                     ...   \n",
       "366267                   1.4960                  0.4462   \n",
       "366268                   0.9817                 -0.2910   \n",
       "366313                   0.4253                 -0.0151   \n",
       "366327                   0.1985                 -0.1576   \n",
       "366333                   1.1884                 -0.0951   \n",
       "\n",
       "         MCTRUTH_Lb_ENDVERTEX_Z  MCTRUTH_L_ENDVERTEX_X  MCTRUTH_L_ENDVERTEX_Y  \\\n",
       "Rec_key                                                                         \n",
       "14                    -9.769600             224.561996              56.081600   \n",
       "25                     6.183100             113.135696             223.900299   \n",
       "36                   -26.184099              83.245796             126.276802   \n",
       "56                    14.631200             -16.393600            -267.315704   \n",
       "71                    21.833700             628.105896            -929.930481   \n",
       "...                         ...                    ...                    ...   \n",
       "366267               -21.932100             171.948593             299.047791   \n",
       "366268               -13.832300             402.671509              16.624701   \n",
       "366313                -0.922200            -159.258698             -53.847301   \n",
       "366327               -19.471500            -207.092300             -37.506302   \n",
       "366333                69.203400             111.651604              74.976997   \n",
       "\n",
       "         MCTRUTH_L_ENDVERTEX_Z  MCTRUTH_p_PX  MCTRUTH_p_PY   MCTRUTH_p_PZ  \\\n",
       "Rec_key                                                                     \n",
       "14                 5921.048828   2894.560059    699.140015   74302.851562   \n",
       "25                 7097.245117   1002.729980   2151.709961   69297.921875   \n",
       "36                 7588.293457    520.130005    653.900024   45147.179688   \n",
       "56                 7429.070312     19.139999  -1164.579956   32903.449219   \n",
       "71                 7475.404785   3879.139893  -5898.799805   47200.421875   \n",
       "...                        ...           ...           ...            ...   \n",
       "366267             7071.188477   1051.619995   1886.640015   46525.289062   \n",
       "366268             8214.584961   1634.530029     26.360001   33188.000000   \n",
       "366313             5842.161133  -2971.840088   -964.760010  105195.726562   \n",
       "366327             6777.450195  -2266.669922   -458.640015   76301.921875   \n",
       "366333             6779.822754   1028.930054    635.940002   62082.968750   \n",
       "\n",
       "         MCTRUTH_pim_PX  ...   MC_key  Polarity         p_PT  \\\n",
       "Rec_key                  ...                                   \n",
       "14           293.929993  ...      367      -1.0  3138.222168   \n",
       "25           246.179993  ...      619      -1.0  3129.654541   \n",
       "36            61.330002  ...      798      -1.0   984.302063   \n",
       "56          -108.959999  ...     1391      -1.0  1677.147461   \n",
       "71          1059.250000  ...     1897      -1.0  5397.982422   \n",
       "...                 ...  ...      ...       ...          ...   \n",
       "366267       303.820007  ...  8918745       1.0  2245.093506   \n",
       "366268       113.620003  ...  8918751       1.0  2154.688965   \n",
       "366313      -334.529999  ...  8919632       1.0  4219.451660   \n",
       "366327      -294.079987  ...  8920122       1.0  3295.345459   \n",
       "366333       293.480011  ...  8920398       1.0  1303.318359   \n",
       "\n",
       "         DTF_FixJPsi_p_PT  DTF_FixJPsiLambda_p_PT       pim_PT  \\\n",
       "Rec_key                                                          \n",
       "14            2606.361572             2835.955811   563.971436   \n",
       "25            2471.828369             2450.595215   501.604156   \n",
       "36             885.361511              888.376526   262.376190   \n",
       "56            1222.470947             1180.346313   260.234802   \n",
       "71            6764.600098             6947.719238  1786.030396   \n",
       "...                   ...                     ...          ...   \n",
       "366267        1952.591919             2039.183350   553.135132   \n",
       "366268        1975.448608             1626.364014   105.307137   \n",
       "366313        3628.397949             3111.473877   156.685303   \n",
       "366327        2353.676270             2249.364990   164.354309   \n",
       "366333        1326.679565             1221.635986   339.316467   \n",
       "\n",
       "         DTF_FixJPsi_pim_PT  DTF_FixJPsiLambda_pim_PT      Jpsi_PT      HBDT  \n",
       "Rec_key                                                                       \n",
       "14               397.024719                499.553711  1183.876953  0.993490  \n",
       "25               426.218414                421.343781  3530.665527  0.995001  \n",
       "36               259.310089                252.252304  3836.018311  0.988892  \n",
       "56               254.823410                243.301285  2582.130859  0.986191  \n",
       "71              1679.542480               1734.952637  6626.127441  0.997901  \n",
       "...                     ...                       ...          ...       ...  \n",
       "366267           510.911560                556.640259  4791.497559  0.993085  \n",
       "366268           119.006645                118.100471  2818.800293  0.986714  \n",
       "366313           316.524811                366.231476  3196.120117  0.996885  \n",
       "366327           178.532379                177.722122  4791.321777  0.992794  \n",
       "366333           383.608398                369.885040  3285.190186  0.993737  \n",
       "\n",
       "[20645 rows x 228 columns]"
      ]
     },
     "execution_count": 25,
     "metadata": {},
     "output_type": "execute_result"
    }
   ],
   "source": [
    "df_mc"
   ]
  },
  {
   "cell_type": "markdown",
   "id": "41017d59",
   "metadata": {},
   "source": [
    "# Overall bias"
   ]
  },
  {
   "cell_type": "code",
   "execution_count": 26,
   "id": "d7bb3283",
   "metadata": {},
   "outputs": [],
   "source": [
    "def plot_series_histogram(\n",
    "    series: pd.Series,\n",
    "    binning: int,\n",
    "    x_range: Tuple[float],\n",
    "    title: str,\n",
    "    x_label: str,\n",
    "    file_name: str,\n",
    "    zero_vline: bool = False,\n",
    "    log_scale: bool = False,\n",
    "    show_title: bool = True,\n",
    "    show_grid: bool = True,\n",
    "    black_and_white: bool = False,\n",
    "    scientific_notation: bool = False,\n",
    ") -> None:\n",
    "    \n",
    "    ## Common plot parameters\n",
    "    common_plot_params = {\n",
    "        'range': x_range,\n",
    "        'bins': binning,\n",
    "    }\n",
    "    \n",
    "    ## With color or b&w?\n",
    "    if black_and_white:\n",
    "        common_plot_params['histtype'] = 'stepfilled'\n",
    "        common_plot_params['edgecolor'] = 'black'\n",
    "        common_plot_params['facecolor'] = 'none' \n",
    "        common_plot_params['hatch'] = '//' \n",
    "    else:\n",
    "        common_plot_params['color'] = 'goldenrod'\n",
    "        \n",
    "    ## With pre-selection cuts\n",
    "    plt.hist(series, **common_plot_params)\n",
    "    \n",
    "    if zero_vline:\n",
    "        plt.axvline(0, 0, 100, color='black', linestyle='--')\n",
    "    \n",
    "    if log_scale:\n",
    "        plt.yscale('log')\n",
    "    \n",
    "    if show_grid:\n",
    "        plt.grid()\n",
    "        \n",
    "    if scientific_notation:\n",
    "        plt.ticklabel_format(axis=\"x\", style=\"sci\", scilimits=(0,0))\n",
    "    \n",
    "    plt.xlabel(x_label)\n",
    "    plt.ylabel(\"Events\")\n",
    "        \n",
    "    if show_title:\n",
    "        plt.title(title + '\\n(MC simulation)')\n",
    "    \n",
    "    if save_plots:\n",
    "        plt.savefig(plot_directory + file_name + '.pdf', bbox_inches = 'tight')\n",
    "\n",
    "    plt.show()"
   ]
  },
  {
   "cell_type": "code",
   "execution_count": 27,
   "id": "8431b846",
   "metadata": {},
   "outputs": [],
   "source": [
    "def plot_series_hist2d(\n",
    "    series_x: pd.Series,\n",
    "    series_y: pd.Series,\n",
    "    label_x: str,\n",
    "    label_y: str,\n",
    "    range_x: List[float],\n",
    "    range_y: List[float],\n",
    "    title: str,\n",
    "    binning: int,\n",
    "    file_name: str,\n",
    "    show_title: bool = True,\n",
    "    black_and_white: bool = False,\n",
    ") -> None:\n",
    "    \n",
    "    plot_params = {\n",
    "        'range': [range_x, range_y],\n",
    "        'bins': binning\n",
    "    }\n",
    "    \n",
    "    if black_and_white:\n",
    "        plot_params['cmap'] = 'gray'\n",
    "    else:\n",
    "        plot_params['cmap'] = 'turbo'\n",
    "\n",
    "    \n",
    "    plt.hist2d(series_x, series_y, **plot_params)\n",
    "    \n",
    "    if show_title:\n",
    "        plt.title(title + '\\n(MC simulation)')\n",
    "    \n",
    "    plt.xlabel(label_x)\n",
    "    plt.ylabel(label_y)\n",
    "    plt.colorbar(label='Events')\n",
    "    \n",
    "    if save_plots:\n",
    "        plt.savefig(plot_directory + file_name + '.pdf', bbox_inches = 'tight')\n",
    "    \n",
    "    plt.show()"
   ]
  },
  {
   "cell_type": "code",
   "execution_count": 28,
   "id": "97c86013",
   "metadata": {},
   "outputs": [],
   "source": [
    "def plot_series_scatter(\n",
    "    series_x: pd.Series,\n",
    "    series_y: pd.Series,\n",
    "    range_x: List[float],\n",
    "    range_y: List[float],\n",
    "    label_x: str,\n",
    "    label_y: str,\n",
    "    title: str,\n",
    "    file_name: str,\n",
    "    show_title: bool = True,\n",
    "    black_and_white: bool = False,\n",
    ") -> None:\n",
    "    \n",
    "    plot_params = {\n",
    "        'marker': 'o',\n",
    "        's': 10\n",
    "    }\n",
    "    \n",
    "    if black_and_white:\n",
    "        plot_params['facecolors'] = 'none'\n",
    "        plot_params['edgecolors'] = 'black'\n",
    "    else:\n",
    "        plot_params['color'] = 'goldenrod'\n",
    "        \n",
    "    plt.scatter(series_x, series_y, **plot_params)\n",
    "    \n",
    "    if show_title:\n",
    "        plt.title(title + '\\n(MC simulation)')\n",
    "        \n",
    "    plt.xlim(range_x)\n",
    "    plt.ylim(range_y)\n",
    "    \n",
    "    plt.xlabel(label_x)\n",
    "    plt.ylabel(label_y)\n",
    "    \n",
    "    if save_plots:\n",
    "        plt.savefig(plot_directory + file_name + '.pdf', bbox_inches = 'tight')\n",
    "    \n",
    "    plt.show()"
   ]
  },
  {
   "cell_type": "code",
   "execution_count": 29,
   "id": "8e0ba2b0",
   "metadata": {},
   "outputs": [
    {
     "data": {
      "image/png": "[encoded data removed]",
      "text/plain": [
       "<Figure size 432x288 with 1 Axes>"
      ]
     },
     "metadata": {
      "needs_background": "light"
     },
     "output_type": "display_data"
    }
   ],
   "source": [
    "plot_parameters = {\n",
    "    'binning': 70,\n",
    "    'x_range': (-1000, 2000),\n",
    "    'title': '$\\Lambda^0$ decay vertex: $z$ bias',\n",
    "    'x_label': r'$z_\\mathrm{vtx}^\\mathrm{VF} (\\Lambda^0) - z_\\mathrm{vtx}^\\mathrm{true} (\\Lambda^0)$ [mm]',\n",
    "    'file_name': 'Lambda_endvertex_bias_z',\n",
    "    'zero_vline': False,\n",
    "    'log_scale': False,\n",
    "    'show_title': show_titles,\n",
    "    'black_and_white': black_and_white,\n",
    "    'show_grid': show_grid,\n",
    "}\n",
    "\n",
    "plot_series_histogram(\n",
    "    df_mc['L_ENDVERTEX_Z'] - df_mc['MCTRUTH_L_ENDVERTEX_Z'],\n",
    "    **plot_parameters)"
   ]
  },
  {
   "cell_type": "code",
   "execution_count": 54,
   "id": "c5a4198c",
   "metadata": {},
   "outputs": [
    {
     "data": {
      "text/plain": [
       "673.9864"
      ]
     },
     "execution_count": 54,
     "metadata": {},
     "output_type": "execute_result"
    }
   ],
   "source": [
    "(df_mc['L_ENDVERTEX_Z'] - df_mc['MCTRUTH_L_ENDVERTEX_Z']).std()"
   ]
  },
  {
   "cell_type": "markdown",
   "id": "bf605139",
   "metadata": {},
   "source": [
    "# Explore \"the bump\""
   ]
  },
  {
   "cell_type": "code",
   "execution_count": 31,
   "id": "ef0ea081",
   "metadata": {},
   "outputs": [
    {
     "data": {
      "image/png": "[encoded data removed]",
      "text/plain": [
       "<Figure size 432x288 with 1 Axes>"
      ]
     },
     "metadata": {
      "needs_background": "light"
     },
     "output_type": "display_data"
    }
   ],
   "source": [
    "plot_parameters = {\n",
    "    'binning': 70,\n",
    "    'x_range': (-1000, 8500),\n",
    "    'title': '$\\Lambda^0$ decay vertex: $z$ bias',\n",
    "    'x_label': r'$z_\\mathrm{vtx}^\\mathrm{VF} (\\Lambda^0) - z_\\mathrm{vtx}^\\mathrm{true} (\\Lambda^0)$ [mm]',\n",
    "    'file_name': 'Lambda_endvertex_bias_z_log',\n",
    "    'zero_vline': False,\n",
    "    'log_scale': True,\n",
    "    'show_title': show_titles,\n",
    "    'black_and_white': black_and_white,\n",
    "    'show_grid': show_grid,\n",
    "}\n",
    "\n",
    "plot_series_histogram(\n",
    "    df_mc['L_ENDVERTEX_Z'] - df_mc['MCTRUTH_L_ENDVERTEX_Z'],\n",
    "    **plot_parameters)"
   ]
  },
  {
   "cell_type": "code",
   "execution_count": 32,
   "id": "2c72ae4e",
   "metadata": {},
   "outputs": [],
   "source": [
    "bump_min = 2000\n",
    "bump_max = max(df_mc['L_ENDVERTEX_Z'] - df_mc['MCTRUTH_L_ENDVERTEX_Z'])\n",
    "\n",
    "bump_cuts = (\n",
    "    (df_mc['L_ENDVERTEX_Z'] - df_mc['MCTRUTH_L_ENDVERTEX_Z'] >= bump_min)\n",
    "    & (df_mc['L_ENDVERTEX_Z'] - df_mc['MCTRUTH_L_ENDVERTEX_Z'] <= bump_max)\n",
    ")"
   ]
  },
  {
   "cell_type": "code",
   "execution_count": 33,
   "id": "e3b7eeef",
   "metadata": {},
   "outputs": [
    {
     "name": "stdout",
     "output_type": "stream",
     "text": [
      "Total number of bump events:\t\t 233\n",
      "Fraction of bump events over total:\t 0.005042198658299069\n"
     ]
    }
   ],
   "source": [
    "print(\"Total number of bump events:\\t\\t\", sum(bump_cuts))\n",
    "print(\"Fraction of bump events over total:\\t\", sum(bump_cuts)/sum(pre_selection_cuts))"
   ]
  },
  {
   "cell_type": "code",
   "execution_count": 34,
   "id": "22e9a22e",
   "metadata": {},
   "outputs": [
    {
     "data": {
      "image/png": "[encoded data removed]",
      "text/plain": [
       "<Figure size 432x288 with 1 Axes>"
      ]
     },
     "metadata": {
      "needs_background": "light"
     },
     "output_type": "display_data"
    }
   ],
   "source": [
    "plot_parameters = {\n",
    "    'binning': 70,\n",
    "    'x_range': (0, 8500),\n",
    "    'title': '$\\Lambda^0$ decay vertex: $z$ bias',\n",
    "    'x_label': r'$z_\\mathrm{vtx}^\\mathrm{VF} (\\Lambda^0) - z_\\mathrm{vtx}^\\mathrm{true} (\\Lambda^0)$ [mm]',\n",
    "    'file_name': 'bump_Lambda_endvertex_bias_z_log',\n",
    "    'zero_vline': False,\n",
    "    'log_scale': False,\n",
    "    'show_title': show_titles,\n",
    "    'black_and_white': black_and_white,\n",
    "    'show_grid': show_grid,\n",
    "}\n",
    "\n",
    "plot_series_histogram(\n",
    "    (df_mc['L_ENDVERTEX_Z'] - df_mc['MCTRUTH_L_ENDVERTEX_Z']).loc[bump_cuts],\n",
    "    **plot_parameters)"
   ]
  },
  {
   "cell_type": "code",
   "execution_count": 53,
   "id": "b6c3f4f4",
   "metadata": {},
   "outputs": [
    {
     "data": {
      "text/plain": [
       "6037.402"
      ]
     },
     "execution_count": 53,
     "metadata": {},
     "output_type": "execute_result"
    }
   ],
   "source": [
    "(df_mc['L_ENDVERTEX_Z'] - df_mc['MCTRUTH_L_ENDVERTEX_Z']).loc[bump_cuts].median()"
   ]
  },
  {
   "cell_type": "code",
   "execution_count": 35,
   "id": "2738343e",
   "metadata": {},
   "outputs": [
    {
     "data": {
      "image/png": "[encoded data removed]",
      "text/plain": [
       "<Figure size 432x288 with 2 Axes>"
      ]
     },
     "metadata": {
      "needs_background": "light"
     },
     "output_type": "display_data"
    },
    {
     "data": {
      "image/png": "[encoded data removed]",
      "text/plain": [
       "<Figure size 432x288 with 2 Axes>"
      ]
     },
     "metadata": {
      "needs_background": "light"
     },
     "output_type": "display_data"
    },
    {
     "data": {
      "image/png": "[encoded data removed]",
      "text/plain": [
       "<Figure size 432x288 with 2 Axes>"
      ]
     },
     "metadata": {
      "needs_background": "light"
     },
     "output_type": "display_data"
    }
   ],
   "source": [
    "component_to_x_range = {\n",
    "    'x': [-750, 750],\n",
    "    'y': [-750, 750],\n",
    "    'z': [5500,8500]\n",
    "}\n",
    "\n",
    "for comp_x, comp_y in [('x', 'y'), ('z', 'x'), ('z', 'y')]:\n",
    "    plot_parameters = {\n",
    "        'binning': 20,\n",
    "        'range_x': component_to_x_range[comp_x],\n",
    "        'range_y': component_to_x_range[comp_y],\n",
    "        'title': '$\\Lambda^0$ decay vertex: reconstructed $' + comp_x + '$ vs. $' + comp_y + '$',\n",
    "        'label_x': r'$' +  comp_x + '_\\mathrm{vtx}^\\mathrm{VF} (\\Lambda^0)$ [mm]',\n",
    "        'label_y': r'$' +  comp_y + '_\\mathrm{vtx}^\\mathrm{VF} (\\Lambda^0)$ [mm]',\n",
    "        'file_name': 'bump_hist2d_Lambda_endvertex_' + comp_x + '_vs_' + comp_y,\n",
    "        'show_title': show_titles,\n",
    "        'black_and_white': black_and_white,\n",
    "    }\n",
    "    \n",
    "    plot_series_hist2d(\n",
    "        df_mc.loc[bump_cuts, 'L_ENDVERTEX_' + comp_x.upper()],\n",
    "        df_mc.loc[bump_cuts, 'L_ENDVERTEX_' + comp_y.upper()],\n",
    "        **plot_parameters\n",
    "    )"
   ]
  },
  {
   "cell_type": "code",
   "execution_count": 36,
   "id": "86addbc2",
   "metadata": {},
   "outputs": [
    {
     "data": {
      "image/png": "[encoded data removed]",
      "text/plain": [
       "<Figure size 432x288 with 1 Axes>"
      ]
     },
     "metadata": {
      "needs_background": "light"
     },
     "output_type": "display_data"
    },
    {
     "data": {
      "image/png": "[encoded data removed]",
      "text/plain": [
       "<Figure size 432x288 with 1 Axes>"
      ]
     },
     "metadata": {
      "needs_background": "light"
     },
     "output_type": "display_data"
    },
    {
     "data": {
      "image/png": "[encoded data removed]",
      "text/plain": [
       "<Figure size 432x288 with 1 Axes>"
      ]
     },
     "metadata": {
      "needs_background": "light"
     },
     "output_type": "display_data"
    }
   ],
   "source": [
    "component_to_x_range = {\n",
    "    'x': [-750, 750],\n",
    "    'y': [-750, 750],\n",
    "    'z': [5500,8500]\n",
    "}\n",
    "\n",
    "for comp_x, comp_y in [('x', 'y'), ('z', 'x'), ('z', 'y')]:\n",
    "    plot_parameters = {\n",
    "        'range_x': component_to_x_range[comp_x],\n",
    "        'range_y': component_to_x_range[comp_y],\n",
    "        'title': '$\\Lambda^0$ decay vertex: reconstructed $' + comp_x + '$ vs. $' + comp_y + '$',\n",
    "        'label_x': r'$' +  comp_x + '_\\mathrm{vtx}^\\mathrm{VF} (\\Lambda^0)$ [mm]',\n",
    "        'label_y': r'$' +  comp_y + '_\\mathrm{vtx}^\\mathrm{VF} (\\Lambda^0)$ [mm]',\n",
    "        'file_name': 'bump_scatter_Lambda_endvertex_' + comp_x + '_vs_' + comp_y,\n",
    "        'show_title': show_titles,\n",
    "        'black_and_white': black_and_white,\n",
    "    }\n",
    "    \n",
    "    plot_series_scatter(\n",
    "        df_mc.loc[bump_cuts, 'L_ENDVERTEX_' + comp_x.upper()],\n",
    "        df_mc.loc[bump_cuts, 'L_ENDVERTEX_' + comp_y.upper()],\n",
    "        **plot_parameters\n",
    "    )"
   ]
  },
  {
   "cell_type": "code",
   "execution_count": 37,
   "id": "1e3dddd7",
   "metadata": {},
   "outputs": [
    {
     "data": {
      "image/png": "[encoded data removed]",
      "text/plain": [
       "<Figure size 432x288 with 1 Axes>"
      ]
     },
     "metadata": {
      "needs_background": "light"
     },
     "output_type": "display_data"
    },
    {
     "data": {
      "image/png": "[encoded data removed]",
      "text/plain": [
       "<Figure size 432x288 with 1 Axes>"
      ]
     },
     "metadata": {
      "needs_background": "light"
     },
     "output_type": "display_data"
    },
    {
     "data": {
      "image/png": "[encoded data removed]",
      "text/plain": [
       "<Figure size 432x288 with 1 Axes>"
      ]
     },
     "metadata": {
      "needs_background": "light"
     },
     "output_type": "display_data"
    }
   ],
   "source": [
    "component_to_x_range = {\n",
    "    'x': [-199, 199],\n",
    "    'y': [-199, 199],\n",
    "    'z': [0,4500]\n",
    "}\n",
    "\n",
    "for comp_x, comp_y in [('x', 'y'), ('z', 'x'), ('z', 'y')]:\n",
    "    plot_parameters = {\n",
    "        'range_x': component_to_x_range[comp_x],\n",
    "        'range_y': component_to_x_range[comp_y],\n",
    "        'title': '$\\Lambda^0$ decay vertex: true $' + comp_x + '$ vs. $' + comp_y + '$',\n",
    "        'label_x': r'$' +  comp_x + '_\\mathrm{vtx}^\\mathrm{true} (\\Lambda^0)$ [mm]',\n",
    "        'label_y': r'$' +  comp_y + '_\\mathrm{vtx}^\\mathrm{true} (\\Lambda^0)$ [mm]',\n",
    "        'file_name': 'bump_Lambda_true_endvertex_' + comp_x + '_vs_' + comp_y,\n",
    "        'show_title': show_titles,\n",
    "        'black_and_white': black_and_white,\n",
    "    }\n",
    "    \n",
    "    plot_series_scatter(\n",
    "        df_mc.loc[bump_cuts, 'MCTRUTH_L_ENDVERTEX_' + comp_x.upper()],\n",
    "       df_mc.loc[bump_cuts, 'MCTRUTH_L_ENDVERTEX_' + comp_y.upper()],\n",
    "        **plot_parameters\n",
    "    )"
   ]
  },
  {
   "cell_type": "markdown",
   "id": "020dba48",
   "metadata": {},
   "source": [
    "# Link between horizontality and bias"
   ]
  },
  {
   "cell_type": "markdown",
   "id": "66d97867",
   "metadata": {},
   "source": [
    "## Add magnet polarity information\n",
    "See `magnet_polarity_derivation` notebook in `lambda-emdm-measurement` repository to understand."
   ]
  },
  {
   "cell_type": "code",
   "execution_count": 38,
   "id": "c03485b2",
   "metadata": {},
   "outputs": [],
   "source": [
    "mag_down_bins = [(0, 1730000), (3500000, 4860000), (6200000, 7570000)]\n",
    "mag_up_bins =  [(1730000, 3500000), (4860000, 6200000), (7570000, 10000000)]\n",
    "\n",
    "for mag_bin in mag_up_bins:\n",
    "    df_mc.loc[(df_mc['MC_key'] >= mag_bin[0]) & (df_mc['MC_key'] < mag_bin[1]), 'Polarity'] = +1\n",
    "    \n",
    "for mag_bin in mag_down_bins:\n",
    "    df_mc.loc[(df_mc['MC_key'] >= mag_bin[0]) & (df_mc['MC_key'] < mag_bin[1]), 'Polarity'] = -1"
   ]
  },
  {
   "cell_type": "markdown",
   "id": "b07cd526",
   "metadata": {},
   "source": [
    "### Prefilter"
   ]
  },
  {
   "cell_type": "markdown",
   "id": "16c3fddb",
   "metadata": {},
   "source": [
    "\"Horizontality\" is a measure of how \"horizontal\" the decay plane is, i.e. its angle with the xz curving plane. Useful to check if events have been reconstructed \"upside down\"."
   ]
  },
  {
   "cell_type": "code",
   "execution_count": 39,
   "id": "c1516dec",
   "metadata": {},
   "outputs": [],
   "source": [
    "def row_a_vec(row, p_pvec_column, pim_pvec_column):\n",
    "    return np.cross(row[p_pvec_column], row[pim_pvec_column])"
   ]
  },
  {
   "cell_type": "code",
   "execution_count": 40,
   "id": "f07e30a1",
   "metadata": {},
   "outputs": [],
   "source": [
    "def row_a_norm(row, avec_column):\n",
    "    return np.linalg.norm(row[avec_column])"
   ]
  },
  {
   "cell_type": "code",
   "execution_count": 41,
   "id": "1779a579",
   "metadata": {},
   "outputs": [],
   "source": [
    "def feature_component(series, component):\n",
    "    return series.map(lambda x: x[component])"
   ]
  },
  {
   "cell_type": "code",
   "execution_count": 42,
   "id": "f0a8f4ab",
   "metadata": {},
   "outputs": [],
   "source": [
    "## This computes (once) a new column in df named 'momenta_prefix_h',\n",
    "## containing the related horizontality. Returns the related column name.\n",
    "def compute_horizontality(\n",
    "    df: pd.DataFrame,\n",
    "    momenta_prefix: str,\n",
    "    p_px_column: str,\n",
    "    p_py_column: str,\n",
    "    p_pz_column: str,\n",
    "    pim_px_column: str,\n",
    "    pim_py_column: str,\n",
    "    pim_pz_column :str,\n",
    "):\n",
    "      \n",
    "    p_pvec_column = momenta_prefix + \"_p_p_vec\"\n",
    "    pim_pvec_column = momenta_prefix + \"_pim_p_vec\"\n",
    "    avec_column = momenta_prefix + \"_a_vec\"\n",
    "    anorm_column = momenta_prefix + \"_a_norm\"\n",
    "    ahat_column = momenta_prefix + \"_a_hat\"\n",
    "    h_column = momenta_prefix + \"_h\"\n",
    "    \n",
    "    df[p_pvec_column] = list(zip(df[p_px_column], df[p_py_column], df[p_pz_column]))\n",
    "    df[pim_pvec_column] = list(zip(df[pim_px_column], df[pim_py_column], df[pim_pz_column]))\n",
    "    df[avec_column] = df.apply(lambda row: row_a_vec(row, p_pvec_column, pim_pvec_column), axis=1)\n",
    "    df[anorm_column] = df.apply(lambda row: row_a_norm(row, avec_column), axis=1)\n",
    "    df[ahat_column] = df[avec_column]/df[anorm_column]\n",
    "    df[h_column] = feature_component(df[ahat_column], 1) * df['Polarity'] * np.sign(df['L_ID'])\n",
    "    \n",
    "    df.drop(columns=[\n",
    "        p_pvec_column,\n",
    "        pim_pvec_column,\n",
    "        avec_column,\n",
    "        anorm_column,\n",
    "        ahat_column\n",
    "    ], inplace=True)\n",
    "    \n",
    "    return h_column"
   ]
  },
  {
   "cell_type": "code",
   "execution_count": 43,
   "id": "891766bf",
   "metadata": {},
   "outputs": [],
   "source": [
    "h_reco_DTF = compute_horizontality(\n",
    "    df=df_mc, momenta_prefix=\"DTF_FixJPsiLambda\",\n",
    "    p_px_column='DTF_FixJPsiLambda_p_PX', p_py_column='DTF_FixJPsiLambda_p_PY', p_pz_column='DTF_FixJPsiLambda_p_PZ',\n",
    "    pim_px_column='DTF_FixJPsiLambda_pim_PX', pim_py_column='DTF_FixJPsiLambda_pim_PY', pim_pz_column='DTF_FixJPsiLambda_pim_PZ'\n",
    ")"
   ]
  },
  {
   "cell_type": "code",
   "execution_count": 44,
   "id": "36e11425",
   "metadata": {},
   "outputs": [],
   "source": [
    "h_truth = compute_horizontality(\n",
    "    df=df_mc, momenta_prefix=\"MCTRUTH\",\n",
    "    p_px_column='MCTRUTH_p_PX', p_py_column='MCTRUTH_p_PY', p_pz_column='MCTRUTH_p_PZ',\n",
    "    pim_px_column='MCTRUTH_pim_PX', pim_py_column='MCTRUTH_pim_PY', pim_pz_column='MCTRUTH_pim_PZ'\n",
    ")"
   ]
  },
  {
   "cell_type": "code",
   "execution_count": 45,
   "id": "03fd889e",
   "metadata": {
    "scrolled": false
   },
   "outputs": [
    {
     "data": {
      "image/png": "[encoded data removed]",
      "text/plain": [
       "<Figure size 432x288 with 1 Axes>"
      ]
     },
     "metadata": {
      "needs_background": "light"
     },
     "output_type": "display_data"
    }
   ],
   "source": [
    "plot_parameters = {\n",
    "    'binning': 70,\n",
    "    'x_range': (-2, 2),\n",
    "    'title': r'$\\Lambda^0 \\rightarrow p\\pi^-$ horizontality bias',\n",
    "    'x_label': '$h_\\mathrm{DTF} - h_\\mathrm{true}$',\n",
    "    'file_name': 'Lambda_horizontality_bias',\n",
    "    'zero_vline': False,\n",
    "    'log_scale': False,\n",
    "    'show_title': show_titles,\n",
    "    'black_and_white': black_and_white,\n",
    "    'show_grid': show_grid,\n",
    "}\n",
    "\n",
    "plot_series_histogram(\n",
    "    df_mc[h_reco_DTF] - df_mc[h_truth],\n",
    "    **plot_parameters)"
   ]
  },
  {
   "cell_type": "markdown",
   "id": "5a893fb6",
   "metadata": {},
   "source": [
    "Fraction of events (passing prefilters) reconstructed with $h$ bias $\\geq 1$ (\"upside down\")."
   ]
  },
  {
   "cell_type": "code",
   "execution_count": 46,
   "id": "0adb8a0e",
   "metadata": {},
   "outputs": [],
   "source": [
    "upside_down_individual_cut = df_mc[h_reco_DTF] - df_mc[h_truth] > 1"
   ]
  },
  {
   "cell_type": "code",
   "execution_count": 47,
   "id": "3c8549f7",
   "metadata": {},
   "outputs": [
    {
     "data": {
      "text/plain": [
       "0.24795349963671592"
      ]
     },
     "execution_count": 47,
     "metadata": {},
     "output_type": "execute_result"
    }
   ],
   "source": [
    "sum(upside_down_individual_cut) / len(df_mc)"
   ]
  },
  {
   "cell_type": "code",
   "execution_count": 48,
   "id": "cc74e6ab",
   "metadata": {},
   "outputs": [
    {
     "data": {
      "image/png": "[encoded data removed]",
      "text/plain": [
       "<Figure size 432x288 with 1 Axes>"
      ]
     },
     "metadata": {
      "needs_background": "light"
     },
     "output_type": "display_data"
    }
   ],
   "source": [
    "## Common plot parameters\n",
    "common_plot_params = {\n",
    "    'range': (-700,1700),\n",
    "    'bins': 70,\n",
    "    'histtype': 'stepfilled',\n",
    "    'edgecolor': 'black',\n",
    "    'facecolor': 'none',\n",
    "    'density': True\n",
    "}\n",
    "\n",
    "## Individual plot parameters\n",
    "right_way_up_params = {\n",
    "    'hatch': '--',\n",
    "    'label': '$\\Delta h < 1$'\n",
    "}\n",
    "\n",
    "upside_down_params = {\n",
    "    'hatch': '//',\n",
    "    'label': '$\\Delta h \\geq 1$'\n",
    "}\n",
    "\n",
    "series = df_mc['L_ENDVERTEX_Z'] - df_mc['MCTRUTH_L_ENDVERTEX_Z']\n",
    "\n",
    "## Bias < 1\n",
    "plt.hist(series.loc[~upside_down_individual_cut], **common_plot_params, **right_way_up_params)\n",
    "\n",
    "## Bias >= 1\n",
    "plt.hist(series.loc[upside_down_individual_cut], **common_plot_params, **upside_down_params)\n",
    "\n",
    "if show_grid:\n",
    "    plt.grid()\n",
    "\n",
    "plt.xlabel(r'$z_\\mathrm{vtx}^\\mathrm{VF} (\\Lambda^0) - z_\\mathrm{vtx}^\\mathrm{true} (\\Lambda^0)$ [mm]')\n",
    "plt.ylabel(\"Probability density\")\n",
    "\n",
    "if show_titles:\n",
    "    plt.title(r'$\\Lambda^0 \\rightarrow p\\pi^-$: $z$ vertex bias vs. horizontality bias' + '\\n(MC simulation)')\n",
    "\n",
    "plt.legend(frameon=False)\n",
    "    \n",
    "if save_plots:\n",
    "    plt.savefig(plot_directory + 'lambda_endvertex_z_bias_vs_horizontality_bias' + '.pdf', bbox_inches = 'tight')\n",
    "\n",
    "plt.show()"
   ]
  },
  {
   "cell_type": "code",
   "execution_count": 56,
   "id": "282e9641",
   "metadata": {},
   "outputs": [
    {
     "data": {
      "text/plain": [
       "64.333496"
      ]
     },
     "execution_count": 56,
     "metadata": {},
     "output_type": "execute_result"
    }
   ],
   "source": [
    "(df_mc['L_ENDVERTEX_Z'] - df_mc['MCTRUTH_L_ENDVERTEX_Z']).loc[~upside_down_individual_cut].median()"
   ]
  }
 ],
 "metadata": {
  "kernelspec": {
   "display_name": "Python 3",
   "language": "python",
   "name": "python3"
  },
  "language_info": {
   "codemirror_mode": {
    "name": "ipython",
    "version": 3
   },
   "file_extension": ".py",
   "mimetype": "text/x-python",
   "name": "python",
   "nbconvert_exporter": "python",
   "pygments_lexer": "ipython3",
   "version": "3.6.8"
  }
 },
 "nbformat": 4,
 "nbformat_minor": 5
}
