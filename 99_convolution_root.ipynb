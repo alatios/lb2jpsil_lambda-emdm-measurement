{
 "cells": [
  {
   "cell_type": "code",
   "execution_count": 1,
   "id": "7c7a3bf8",
   "metadata": {},
   "outputs": [
    {
     "name": "stdout",
     "output_type": "stream",
     "text": [
      "Welcome to JupyROOT 6.24/06\n"
     ]
    }
   ],
   "source": [
    "import pandas as pd\n",
    "import numpy as np\n",
    "from matplotlib import pyplot as plt\n",
    "import pathlib\n",
    "from lb2jpsil import lorentz\n",
    "import random\n",
    "from typing import Tuple\n",
    "from scipy import optimize, integrate, stats\n",
    "import time\n",
    "import ROOT"
   ]
  },
  {
   "cell_type": "code",
   "execution_count": 2,
   "id": "d058a1ba",
   "metadata": {},
   "outputs": [],
   "source": [
    "#ROOT.RooClassFactory.makePdf(\"AngularDistribution\", \"ctheta,phi,sx,sz,alpha\", \"\",\n",
    "#                             \"1+ alpha * (sx * sqrt(1-pow(ctheta,2)) * cos(phi) + sz * ctheta)\"\n",
    "#                            )"
   ]
  },
  {
   "cell_type": "code",
   "execution_count": 3,
   "id": "e06cb197",
   "metadata": {},
   "outputs": [
    {
     "data": {
      "text/plain": [
       "0"
      ]
     },
     "execution_count": 3,
     "metadata": {},
     "output_type": "execute_result"
    },
    {
     "name": "stdout",
     "output_type": "stream",
     "text": [
      "\n",
      "\u001b[1mRooFit v3.60 -- Developed by Wouter Verkerke and David Kirkby\u001b[0m \n",
      "                Copyright (C) 2000-2013 NIKHEF, University of California & Stanford University\n",
      "                All rights reserved, please read http://roofit.sourceforge.net/license.txt\n",
      "\n"
     ]
    }
   ],
   "source": [
    "ROOT.gSystem.Load('libAngularDistribution.so')"
   ]
  },
  {
   "cell_type": "code",
   "execution_count": 4,
   "id": "5678f12b",
   "metadata": {},
   "outputs": [],
   "source": [
    "ctheta = ROOT.RooRealVar(\"ctheta\", \"ctheta\", 0.5, -.9, .9)\n",
    "phi = ROOT.RooRealVar(\"phi\", \"phi\", 0.1, -np.pi+1., np.pi-1.)\n",
    "alpha = ROOT.RooFit.RooConst( 0.732 )\n",
    "sx = ROOT.RooRealVar('sx','sx',0.5,-1,1)\n",
    "sz = ROOT.RooRealVar('sz','sz',1.,-1,1)"
   ]
  },
  {
   "cell_type": "code",
   "execution_count": 5,
   "id": "98c6bd72",
   "metadata": {},
   "outputs": [],
   "source": [
    "pdf = ROOT.AngularDistribution(\"pdf\", \"pdf\", ctheta, phi, sx, sz, alpha)"
   ]
  },
  {
   "cell_type": "code",
   "execution_count": 6,
   "id": "fd675f9a",
   "metadata": {},
   "outputs": [
    {
     "data": {
      "text/plain": [
       "1.6813817915447689"
      ]
     },
     "execution_count": 6,
     "metadata": {},
     "output_type": "execute_result"
    }
   ],
   "source": [
    "pdf.evaluate()"
   ]
  },
  {
   "cell_type": "code",
   "execution_count": 7,
   "id": "76306464",
   "metadata": {},
   "outputs": [],
   "source": [
    "sigma_theta = ROOT.RooFit.RooConst(0.097)\n",
    "mu_theta = ROOT.RooFit.RooConst(0.)"
   ]
  },
  {
   "cell_type": "code",
   "execution_count": 8,
   "id": "6311ad9a",
   "metadata": {},
   "outputs": [],
   "source": [
    "theta_gauss = ROOT.RooGaussian(\"theta_gauss\", \"theta_gauss\", ctheta, mu_theta, sigma_theta)"
   ]
  },
  {
   "cell_type": "code",
   "execution_count": 9,
   "id": "8ce7aa64",
   "metadata": {},
   "outputs": [],
   "source": [
    "sigma_phi = ROOT.RooFit.RooConst(0.332)\n",
    "mu_phi = ROOT.RooFit.RooConst(0.)"
   ]
  },
  {
   "cell_type": "code",
   "execution_count": 10,
   "id": "1ed5edaf",
   "metadata": {},
   "outputs": [],
   "source": [
    "phi_gauss = ROOT.RooGaussian(\"phi_gauss\", \"phi_gauss\", phi, mu_phi, sigma_phi)"
   ]
  },
  {
   "cell_type": "code",
   "execution_count": 11,
   "id": "cd282127",
   "metadata": {},
   "outputs": [
    {
     "name": "stdout",
     "output_type": "stream",
     "text": [
      "[#1] INFO:Caching -- Changing internal binning of variable 'ctheta' in FFT 'theta_convoluted' from 100 to 930 to improve the precision of the numerical FFT. This can be done manually by setting an additional binning named 'cache'.\n"
     ]
    }
   ],
   "source": [
    "theta_convoluted = ROOT.RooFFTConvPdf(\"theta_convoluted\", \"theta_convoluted\", ctheta, pdf, theta_gauss)"
   ]
  },
  {
   "cell_type": "code",
   "execution_count": 12,
   "id": "bfba1fee",
   "metadata": {},
   "outputs": [
    {
     "name": "stdout",
     "output_type": "stream",
     "text": [
      "[#1] INFO:Caching -- Changing internal binning of variable 'phi' in FFT 'phi_theta_convoluted' from 100 to 930 to improve the precision of the numerical FFT. This can be done manually by setting an additional binning named 'cache'.\n"
     ]
    }
   ],
   "source": [
    "phi_theta_convoluted = ROOT.RooFFTConvPdf(\"phi_theta_convoluted\", \"phi_theta_convoluted\", phi, theta_convoluted, phi_gauss)"
   ]
  },
  {
   "cell_type": "code",
   "execution_count": 13,
   "id": "1cc225c2",
   "metadata": {
    "scrolled": false
   },
   "outputs": [
    {
     "name": "stdout",
     "output_type": "stream",
     "text": [
      "[#1] INFO:Eval -- RooRealVar::setRange(ctheta) new range named 'refrange_fft_theta_convoluted' created with bounds [-0.9,0.9]\n",
      "[#1] INFO:NumericIntegration -- RooRealIntegral::init(pdf_Int[ctheta]) using numeric integrator RooIntegrator1D to calculate Int(ctheta)\n",
      "[#1] INFO:Caching -- RooAbsCachedPdf::getCache(theta_convoluted) creating new cache 0x8259390 with pdf pdf_CONV_theta_gauss_CACHE_Obs[ctheta]_NORM_ctheta for nset (ctheta) with code 0\n",
      "[#1] INFO:Caching -- RooAbsCachedPdf::getCache(theta_convoluted) creating new cache 0x8316c50 with pdf pdf_CONV_theta_gauss_CACHE_Obs[ctheta]_NORM_ctheta for nset (ctheta) with code 0 from preexisting content.\n"
     ]
    }
   ],
   "source": [
    "data = theta_convoluted.generate(ctheta, 10000)\n",
    "#data = phi_theta_convoluted.generate(ctheta, 10000)"
   ]
  },
  {
   "cell_type": "code",
   "execution_count": 14,
   "id": "4393399b",
   "metadata": {},
   "outputs": [
    {
     "data": {
      "text/plain": [
       "0.14076921654677324"
      ]
     },
     "execution_count": 14,
     "metadata": {},
     "output_type": "execute_result"
    }
   ],
   "source": [
    "data.mean(ctheta)"
   ]
  },
  {
   "cell_type": "code",
   "execution_count": 15,
   "id": "8d983c70",
   "metadata": {},
   "outputs": [
    {
     "data": {
      "text/plain": [
       "['AClean',\n",
       " 'ADirty',\n",
       " 'AbstractMethod',\n",
       " 'Activate',\n",
       " 'Always',\n",
       " 'AppendPad',\n",
       " 'Auto',\n",
       " 'Browse',\n",
       " 'CanBeExtended',\n",
       " 'CanNotBeExtended',\n",
       " 'CheckedHash',\n",
       " 'Class',\n",
       " 'ClassName',\n",
       " 'Class_Name',\n",
       " 'Class_Version',\n",
       " 'Clear',\n",
       " 'Clone',\n",
       " 'CollectErrors',\n",
       " 'Compare',\n",
       " 'ConfigChange',\n",
       " 'Copy',\n",
       " 'CountErrors',\n",
       " 'DeActivate',\n",
       " 'DeclFileLine',\n",
       " 'DeclFileName',\n",
       " 'Delete',\n",
       " 'Dictionary',\n",
       " 'DistancetoPrimitive',\n",
       " 'Draw',\n",
       " 'DrawClass',\n",
       " 'DrawClone',\n",
       " 'Dump',\n",
       " 'Error',\n",
       " 'Execute',\n",
       " 'ExecuteEvent',\n",
       " 'Extend',\n",
       " 'Fatal',\n",
       " 'FillBuffer',\n",
       " 'FindObject',\n",
       " 'Flat',\n",
       " 'GetDrawOption',\n",
       " 'GetDtorOnly',\n",
       " 'GetIconName',\n",
       " 'GetName',\n",
       " 'GetObjectInfo',\n",
       " 'GetObjectStat',\n",
       " 'GetOption',\n",
       " 'GetTitle',\n",
       " 'GetUniqueID',\n",
       " 'HandleTimer',\n",
       " 'HasInconsistentHash',\n",
       " 'Hash',\n",
       " 'Ignore',\n",
       " 'ImplFileLine',\n",
       " 'ImplFileName',\n",
       " 'Info',\n",
       " 'InheritsFrom',\n",
       " 'Inspect',\n",
       " 'InvertBit',\n",
       " 'IsA',\n",
       " 'IsEqual',\n",
       " 'IsFolder',\n",
       " 'IsOnHeap',\n",
       " 'IsSortable',\n",
       " 'IsZombie',\n",
       " 'MayNotUse',\n",
       " 'Mirror',\n",
       " 'MustBeExtended',\n",
       " 'Never',\n",
       " 'NotAdvised',\n",
       " 'Notify',\n",
       " 'NumEvent',\n",
       " 'Obsolete',\n",
       " 'Paint',\n",
       " 'Pop',\n",
       " 'Print',\n",
       " 'PrintErrors',\n",
       " 'Raw',\n",
       " 'Read',\n",
       " 'RecursiveRemove',\n",
       " 'Relative',\n",
       " 'RelativeExpected',\n",
       " 'ResetBit',\n",
       " 'SaveAs',\n",
       " 'SavePrimitive',\n",
       " 'SetBit',\n",
       " 'SetDrawOption',\n",
       " 'SetDtorOnly',\n",
       " 'SetName',\n",
       " 'SetNameTitle',\n",
       " 'SetObjectStat',\n",
       " 'SetTitle',\n",
       " 'SetUniqueID',\n",
       " 'ShowMembers',\n",
       " 'Sizeof',\n",
       " 'Streamer',\n",
       " 'StreamerNVirtual',\n",
       " 'SysError',\n",
       " 'TestBit',\n",
       " 'TestBits',\n",
       " 'UseCurrentStyle',\n",
       " 'ValueChange',\n",
       " 'Warning',\n",
       " 'Write',\n",
       " '__add__',\n",
       " '__assign__',\n",
       " '__bool__',\n",
       " '__class__',\n",
       " '__contains__',\n",
       " '__delattr__',\n",
       " '__destruct__',\n",
       " '__dict__',\n",
       " '__dir__',\n",
       " '__dispatch__',\n",
       " '__doc__',\n",
       " '__eq__',\n",
       " '__format__',\n",
       " '__ge__',\n",
       " '__getattribute__',\n",
       " '__gt__',\n",
       " '__hash__',\n",
       " '__init__',\n",
       " '__init_subclass__',\n",
       " '__invert__',\n",
       " '__le__',\n",
       " '__lt__',\n",
       " '__module__',\n",
       " '__mul__',\n",
       " '__ne__',\n",
       " '__neg__',\n",
       " '__new__',\n",
       " '__pos__',\n",
       " '__python_owns__',\n",
       " '__radd__',\n",
       " '__reduce__',\n",
       " '__reduce_ex__',\n",
       " '__repr__',\n",
       " '__rmul__',\n",
       " '__rsub__',\n",
       " '__rtruediv__',\n",
       " '__setattr__',\n",
       " '__sizeof__',\n",
       " '__smartptr__',\n",
       " '__str__',\n",
       " '__sub__',\n",
       " '__subclasshook__',\n",
       " '__truediv__',\n",
       " '__weakref__',\n",
       " '_ioEvoList',\n",
       " 'addOwnedComponents',\n",
       " 'addServer',\n",
       " 'addServerList',\n",
       " 'aggregateCacheUniqueSuffix',\n",
       " 'analyticalIntegral',\n",
       " 'analyticalIntegralWN',\n",
       " 'asTF',\n",
       " 'attachDataSet',\n",
       " 'attachDataStore',\n",
       " 'attributes',\n",
       " 'autoGenContext',\n",
       " 'binBoundaries',\n",
       " 'bindVars',\n",
       " 'binnedGenContext',\n",
       " 'branchNodeServerList',\n",
       " 'bufferFraction',\n",
       " 'bufferStrategy',\n",
       " 'cacheObservables',\n",
       " 'cacheUniqueSuffix',\n",
       " 'calculateAsymptoticCorrectedCovMatrix',\n",
       " 'calculateSumW2CorrectedCovMatrix',\n",
       " 'canBeExtended',\n",
       " 'canNodeBeCached',\n",
       " 'changeServer',\n",
       " 'checkDependents',\n",
       " 'checkObservables',\n",
       " 'chi2FitTo',\n",
       " 'clearEvalErrorLog',\n",
       " 'clientIterator',\n",
       " 'clients',\n",
       " 'clone',\n",
       " 'cloneTree',\n",
       " 'constOptimizeTestStatistic',\n",
       " 'createCdf',\n",
       " 'createChi2',\n",
       " 'createFundamental',\n",
       " 'createHistogram',\n",
       " 'createIntRI',\n",
       " 'createIntegral',\n",
       " 'createNLL',\n",
       " 'createPlotProjection',\n",
       " 'createProfile',\n",
       " 'createProjection',\n",
       " 'createRunningIntegral',\n",
       " 'createScanCdf',\n",
       " 'createScanRI',\n",
       " 'defaultErrorLevel',\n",
       " 'defaultGeneratorConfig',\n",
       " 'defaultIntegratorConfig',\n",
       " 'defaultPrintContents',\n",
       " 'defaultPrintStream',\n",
       " 'defaultPrintStyle',\n",
       " 'dependentOverlaps',\n",
       " 'dependsOn',\n",
       " 'dependsOnValue',\n",
       " 'derivative',\n",
       " 'enableOffsetting',\n",
       " 'evalErrorIter',\n",
       " 'evalErrorLoggingMode',\n",
       " 'expectedEvents',\n",
       " 'expensiveObjectCache',\n",
       " 'extendMode',\n",
       " 'extendedTerm',\n",
       " 'fillDataHist',\n",
       " 'fillHistogram',\n",
       " 'findConstantNodes',\n",
       " 'findNewServer',\n",
       " 'findRoot',\n",
       " 'findServer',\n",
       " 'fitTo',\n",
       " 'fixAddCoefNormalization',\n",
       " 'fixAddCoefRange',\n",
       " 'forceAnalyticalInt',\n",
       " 'forceNumInt',\n",
       " 'functor',\n",
       " 'genContext',\n",
       " 'generate',\n",
       " 'generateBinned',\n",
       " 'generateEvent',\n",
       " 'generateSimGlobal',\n",
       " 'getAllConstraints',\n",
       " 'getAnalyticalIntegral',\n",
       " 'getAnalyticalIntegralWN',\n",
       " 'getAttribute',\n",
       " 'getCache',\n",
       " 'getCacheHist',\n",
       " 'getCachePdf',\n",
       " 'getCloningAncestors',\n",
       " 'getComponents',\n",
       " 'getConstraints',\n",
       " 'getDependents',\n",
       " 'getForceNumInt',\n",
       " 'getGenerator',\n",
       " 'getGeneratorConfig',\n",
       " 'getIntegratorConfig',\n",
       " 'getInterpolationOrder',\n",
       " 'getLogProbabilities',\n",
       " 'getLogVal',\n",
       " 'getLogValBatch',\n",
       " 'getMaxVal',\n",
       " 'getNorm',\n",
       " 'getNormIntegral',\n",
       " 'getNormObj',\n",
       " 'getObservables',\n",
       " 'getParameters',\n",
       " 'getPlotLabel',\n",
       " 'getPropagatedError',\n",
       " 'getProxy',\n",
       " 'getStringAttribute',\n",
       " 'getTitle',\n",
       " 'getTransientAttribute',\n",
       " 'getUnit',\n",
       " 'getVal',\n",
       " 'getValV',\n",
       " 'getValues',\n",
       " 'getVariables',\n",
       " 'graphVizTree',\n",
       " 'hasClients',\n",
       " 'hasRange',\n",
       " 'hideOffset',\n",
       " 'iGenFunction',\n",
       " 'importWorkspaceHook',\n",
       " 'inRange',\n",
       " 'initGenerator',\n",
       " 'isBinnedDistribution',\n",
       " 'isCloneOf',\n",
       " 'isConstant',\n",
       " 'isDerived',\n",
       " 'isDirectGenSafe',\n",
       " 'isFundamental',\n",
       " 'isIdentical',\n",
       " 'isLValue',\n",
       " 'isOffsetting',\n",
       " 'isShapeDirty',\n",
       " 'isShapeServer',\n",
       " 'isValueDirty',\n",
       " 'isValueDirtyAndClear',\n",
       " 'isValueOrShapeDirtyAndClear',\n",
       " 'isValueServer',\n",
       " 'kAddress',\n",
       " 'kArgs',\n",
       " 'kBitMask',\n",
       " 'kCanDelete',\n",
       " 'kCannotPick',\n",
       " 'kClassName',\n",
       " 'kCollectionHeader',\n",
       " 'kExtras',\n",
       " 'kHasUUID',\n",
       " 'kInconsistent',\n",
       " 'kInline',\n",
       " 'kInvalidObject',\n",
       " 'kIsOnHeap',\n",
       " 'kIsReferenced',\n",
       " 'kMustCleanup',\n",
       " 'kName',\n",
       " 'kNoContextMenu',\n",
       " 'kNotDeleted',\n",
       " 'kObjInCanvas',\n",
       " 'kOverwrite',\n",
       " 'kSingleKey',\n",
       " 'kSingleLine',\n",
       " 'kStandard',\n",
       " 'kTitle',\n",
       " 'kTreeStructure',\n",
       " 'kValue',\n",
       " 'kVerbose',\n",
       " 'kWriteDelete',\n",
       " 'kZombie',\n",
       " 'leafNodeServerList',\n",
       " 'localNoDirtyInhibit',\n",
       " 'logEvalError',\n",
       " 'ls',\n",
       " 'maxVal',\n",
       " 'mean',\n",
       " 'minTrialSamples',\n",
       " 'moment',\n",
       " 'mustBeExtended',\n",
       " 'nameFieldLength',\n",
       " 'namePtr',\n",
       " 'normRange',\n",
       " 'numCaches',\n",
       " 'numEvalErrorItems',\n",
       " 'numEvalErrors',\n",
       " 'numProxies',\n",
       " 'observableOverlaps',\n",
       " 'offset',\n",
       " 'operMode',\n",
       " 'optimizeCacheMode',\n",
       " 'overlaps',\n",
       " 'ownedComponents',\n",
       " 'paramOn',\n",
       " 'plotOn',\n",
       " 'plotSamplingHint',\n",
       " 'plotSliceOn',\n",
       " 'preferredObservableScanOrder',\n",
       " 'prepareMultiGen',\n",
       " 'printAddress',\n",
       " 'printArgs',\n",
       " 'printClassName',\n",
       " 'printCompactTree',\n",
       " 'printCompactTreeHook',\n",
       " 'printComponentTree',\n",
       " 'printDirty',\n",
       " 'printEvalErrors',\n",
       " 'printExtras',\n",
       " 'printMetaArgs',\n",
       " 'printMultiline',\n",
       " 'printName',\n",
       " 'printStream',\n",
       " 'printTitle',\n",
       " 'printTree',\n",
       " 'printValue',\n",
       " 'readFromStream',\n",
       " 'recursiveCheckDependents',\n",
       " 'recursiveCheckObservables',\n",
       " 'recursiveRedirectServers',\n",
       " 'redirectServers',\n",
       " 'redirectServersHook',\n",
       " 'registerCache',\n",
       " 'removeServer',\n",
       " 'replaceServer',\n",
       " 'resetErrorCounters',\n",
       " 'selfNormalized',\n",
       " 'serverIterator',\n",
       " 'serverMIterator',\n",
       " 'serverNameChangeHook',\n",
       " 'servers',\n",
       " 'setAttribute',\n",
       " 'setBufferFraction',\n",
       " 'setBufferStrategy',\n",
       " 'setCacheAndTrackHints',\n",
       " 'setCacheCheck',\n",
       " 'setCacheObservables',\n",
       " 'setData',\n",
       " 'setDirtyInhibit',\n",
       " 'setEvalErrorLoggingMode',\n",
       " 'setExpensiveObjectCache',\n",
       " 'setGeneratorConfig',\n",
       " 'setHideOffset',\n",
       " 'setIntegratorConfig',\n",
       " 'setInterpolationOrder',\n",
       " 'setLocalNoDirtyInhibit',\n",
       " 'setNormRange',\n",
       " 'setNormRangeOverride',\n",
       " 'setOperMode',\n",
       " 'setParameterizeIntegral',\n",
       " 'setPlotLabel',\n",
       " 'setProhibitServerRedirect',\n",
       " 'setShapeDirty',\n",
       " 'setShift',\n",
       " 'setStringAttribute',\n",
       " 'setTraceCounter',\n",
       " 'setTransientAttribute',\n",
       " 'setUnit',\n",
       " 'setValueDirty',\n",
       " 'setWorkspace',\n",
       " 'shapeClientIterator',\n",
       " 'shapeClientMIterator',\n",
       " 'shapeClients',\n",
       " 'sigma',\n",
       " 'specialGeneratorConfig',\n",
       " 'specialIntegratorConfig',\n",
       " 'stringAttributes',\n",
       " 'transientAttributes',\n",
       " 'treeNodeServerList',\n",
       " 'unRegisterCache',\n",
       " 'valueClientIterator',\n",
       " 'valueClientMIterator',\n",
       " 'valueClients',\n",
       " 'verboseDirty',\n",
       " 'verboseEval',\n",
       " 'wireAllCaches',\n",
       " 'writeToStream']"
      ]
     },
     "execution_count": 15,
     "metadata": {},
     "output_type": "execute_result"
    }
   ],
   "source": [
    "dir(theta_convoluted)"
   ]
  },
  {
   "cell_type": "code",
   "execution_count": 16,
   "id": "a2e3d9af",
   "metadata": {},
   "outputs": [],
   "source": [
    "c1 = ROOT.TCanvas"
   ]
  },
  {
   "cell_type": "code",
   "execution_count": 17,
   "id": "9477b4de",
   "metadata": {},
   "outputs": [],
   "source": [
    "hist = data.createHistogram(\"\", ctheta)"
   ]
  },
  {
   "cell_type": "code",
   "execution_count": 18,
   "id": "fd900b84",
   "metadata": {},
   "outputs": [
    {
     "name": "stderr",
     "output_type": "stream",
     "text": [
      "Info in <TCanvas::MakeDefCanvas>:  created default TCanvas with name c1\n"
     ]
    }
   ],
   "source": [
    "hist.Draw()"
   ]
  },
  {
   "cell_type": "code",
   "execution_count": 19,
   "id": "42cea8ea",
   "metadata": {},
   "outputs": [
    {
     "data": {
      "text/plain": [
       "False"
      ]
     },
     "execution_count": 19,
     "metadata": {},
     "output_type": "execute_result"
    },
    {
     "name": "stdout",
     "output_type": "stream",
     "text": [
      "[#1] INFO:DataHandling -- RooDataSet::write(theta_convolutedData) writing ASCII file test.dat\n"
     ]
    }
   ],
   "source": [
    "data.write(\"test.dat\")"
   ]
  },
  {
   "cell_type": "code",
   "execution_count": 20,
   "id": "0936a5e5",
   "metadata": {},
   "outputs": [],
   "source": [
    "df_data = pd.read_csv('test.dat', sep=\"\\n\", header=None)"
   ]
  },
  {
   "cell_type": "code",
   "execution_count": 21,
   "id": "5cde4ee5",
   "metadata": {},
   "outputs": [
    {
     "data": {
      "text/html": [
       "<div>\n",
       "<style scoped>\n",
       "    .dataframe tbody tr th:only-of-type {\n",
       "        vertical-align: middle;\n",
       "    }\n",
       "\n",
       "    .dataframe tbody tr th {\n",
       "        vertical-align: top;\n",
       "    }\n",
       "\n",
       "    .dataframe thead th {\n",
       "        text-align: right;\n",
       "    }\n",
       "</style>\n",
       "<table border=\"1\" class=\"dataframe\">\n",
       "  <thead>\n",
       "    <tr style=\"text-align: right;\">\n",
       "      <th></th>\n",
       "      <th>0</th>\n",
       "    </tr>\n",
       "  </thead>\n",
       "  <tbody>\n",
       "    <tr>\n",
       "      <th>0</th>\n",
       "      <td>-0.173018</td>\n",
       "    </tr>\n",
       "    <tr>\n",
       "      <th>1</th>\n",
       "      <td>0.545387</td>\n",
       "    </tr>\n",
       "    <tr>\n",
       "      <th>2</th>\n",
       "      <td>0.518671</td>\n",
       "    </tr>\n",
       "    <tr>\n",
       "      <th>3</th>\n",
       "      <td>-0.328837</td>\n",
       "    </tr>\n",
       "    <tr>\n",
       "      <th>4</th>\n",
       "      <td>0.486767</td>\n",
       "    </tr>\n",
       "    <tr>\n",
       "      <th>...</th>\n",
       "      <td>...</td>\n",
       "    </tr>\n",
       "    <tr>\n",
       "      <th>9995</th>\n",
       "      <td>0.143891</td>\n",
       "    </tr>\n",
       "    <tr>\n",
       "      <th>9996</th>\n",
       "      <td>-0.031188</td>\n",
       "    </tr>\n",
       "    <tr>\n",
       "      <th>9997</th>\n",
       "      <td>0.083215</td>\n",
       "    </tr>\n",
       "    <tr>\n",
       "      <th>9998</th>\n",
       "      <td>-0.068673</td>\n",
       "    </tr>\n",
       "    <tr>\n",
       "      <th>9999</th>\n",
       "      <td>0.367029</td>\n",
       "    </tr>\n",
       "  </tbody>\n",
       "</table>\n",
       "<p>10000 rows × 1 columns</p>\n",
       "</div>"
      ],
      "text/plain": [
       "             0\n",
       "0    -0.173018\n",
       "1     0.545387\n",
       "2     0.518671\n",
       "3    -0.328837\n",
       "4     0.486767\n",
       "...        ...\n",
       "9995  0.143891\n",
       "9996 -0.031188\n",
       "9997  0.083215\n",
       "9998 -0.068673\n",
       "9999  0.367029\n",
       "\n",
       "[10000 rows x 1 columns]"
      ]
     },
     "execution_count": 21,
     "metadata": {},
     "output_type": "execute_result"
    }
   ],
   "source": [
    "df_data"
   ]
  },
  {
   "cell_type": "code",
   "execution_count": 22,
   "id": "35b98d10",
   "metadata": {},
   "outputs": [
    {
     "data": {
      "text/plain": [
       "0   -0.899993\n",
       "dtype: float64"
      ]
     },
     "execution_count": 22,
     "metadata": {},
     "output_type": "execute_result"
    }
   ],
   "source": [
    "df_data.min()"
   ]
  },
  {
   "cell_type": "code",
   "execution_count": 23,
   "id": "e456b92e",
   "metadata": {},
   "outputs": [
    {
     "data": {
      "image/png": "[encoded data removed]",
      "text/plain": [
       "<Figure size 432x288 with 1 Axes>"
      ]
     },
     "metadata": {
      "needs_background": "light"
     },
     "output_type": "display_data"
    }
   ],
   "source": [
    "plt.hist(df_data,bins=50)\n",
    "plt.show()"
   ]
  },
  {
   "cell_type": "markdown",
   "id": "6cd56a85",
   "metadata": {},
   "source": [
    "This finds the value in 1D."
   ]
  },
  {
   "cell_type": "code",
   "execution_count": 24,
   "id": "0c029c04",
   "metadata": {},
   "outputs": [],
   "source": [
    "xframe = ctheta.frame()"
   ]
  },
  {
   "cell_type": "code",
   "execution_count": 25,
   "id": "90a93d3b",
   "metadata": {},
   "outputs": [
    {
     "data": {
      "text/plain": [
       "<cppyy.gbl.RooPlot object at 0x8b5dcd0>"
      ]
     },
     "execution_count": 25,
     "metadata": {},
     "output_type": "execute_result"
    },
    {
     "name": "stdout",
     "output_type": "stream",
     "text": [
      "[#1] INFO:Caching -- RooAbsCachedPdf::getCache(theta_convoluted) creating new cache 0x8a6b0b0 with pdf pdf_CONV_theta_gauss_CACHE_Obs[ctheta]_NORM_ctheta for nset (ctheta) with code 0 from preexisting content.\n"
     ]
    }
   ],
   "source": [
    "theta_convoluted.plotOn(xframe, ROOT.RooFit.Name(\"theta_convoluted\"))"
   ]
  },
  {
   "cell_type": "code",
   "execution_count": 26,
   "id": "c439e2c6",
   "metadata": {},
   "outputs": [],
   "source": [
    "func = xframe.findObject(\"theta_convoluted\")"
   ]
  },
  {
   "cell_type": "code",
   "execution_count": 27,
   "id": "de074cc8",
   "metadata": {},
   "outputs": [
    {
     "data": {
      "text/plain": [
       "0.010460765496068752"
      ]
     },
     "execution_count": 27,
     "metadata": {},
     "output_type": "execute_result"
    }
   ],
   "source": [
    "func.Eval(0.)"
   ]
  },
  {
   "cell_type": "code",
   "execution_count": null,
   "id": "41de14a9",
   "metadata": {},
   "outputs": [],
   "source": []
  }
 ],
 "metadata": {
  "kernelspec": {
   "display_name": "Python 3",
   "language": "python",
   "name": "python3"
  },
  "language_info": {
   "codemirror_mode": {
    "name": "ipython",
    "version": 3
   },
   "file_extension": ".py",
   "mimetype": "text/x-python",
   "name": "python",
   "nbconvert_exporter": "python",
   "pygments_lexer": "ipython3",
   "version": "3.6.8"
  }
 },
 "nbformat": 4,
 "nbformat_minor": 5
}
