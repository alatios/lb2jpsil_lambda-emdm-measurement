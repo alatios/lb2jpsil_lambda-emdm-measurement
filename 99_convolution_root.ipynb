{
 "cells": [
  {
   "cell_type": "code",
   "execution_count": 1,
   "id": "7c7a3bf8",
   "metadata": {},
   "outputs": [
    {
     "name": "stdout",
     "output_type": "stream",
     "text": [
      "Welcome to JupyROOT 6.24/06\n"
     ]
    }
   ],
   "source": [
    "import pandas as pd\n",
    "import numpy as np\n",
    "from matplotlib import pyplot as plt\n",
    "import pathlib\n",
    "from lb2jpsil import lorentz\n",
    "import random\n",
    "from typing import Tuple\n",
    "from scipy import optimize, integrate, stats\n",
    "import time\n",
    "import ROOT"
   ]
  },
  {
   "cell_type": "markdown",
   "id": "2156e9c9",
   "metadata": {},
   "source": [
    "# Create the PDF\n",
    "You only need to this once, so it's commented."
   ]
  },
  {
   "cell_type": "code",
   "execution_count": 2,
   "id": "d058a1ba",
   "metadata": {},
   "outputs": [],
   "source": [
    "#ROOT.RooClassFactory.makePdf(\"AngularDistribution\", \"ctheta,phi,sx,sz,alpha\", \"\",\n",
    "#                             \"1+ alpha * (sx * sqrt(1-pow(ctheta,2)) * cos(phi) + sz * ctheta)\"\n",
    "#                            )"
   ]
  },
  {
   "cell_type": "markdown",
   "id": "691f4ab1",
   "metadata": {},
   "source": [
    "# Load the PDF"
   ]
  },
  {
   "cell_type": "code",
   "execution_count": 3,
   "id": "e06cb197",
   "metadata": {},
   "outputs": [
    {
     "data": {
      "text/plain": [
       "0"
      ]
     },
     "execution_count": 3,
     "metadata": {},
     "output_type": "execute_result"
    },
    {
     "name": "stdout",
     "output_type": "stream",
     "text": [
      "\n",
      "\u001b[1mRooFit v3.60 -- Developed by Wouter Verkerke and David Kirkby\u001b[0m \n",
      "                Copyright (C) 2000-2013 NIKHEF, University of California & Stanford University\n",
      "                All rights reserved, please read http://roofit.sourceforge.net/license.txt\n",
      "\n"
     ]
    }
   ],
   "source": [
    "ROOT.gSystem.Load('libAngularDistribution.so')"
   ]
  },
  {
   "cell_type": "markdown",
   "id": "3ce88664",
   "metadata": {},
   "source": [
    "# Unconvoluted PDF"
   ]
  },
  {
   "cell_type": "code",
   "execution_count": 4,
   "id": "6eb826ce",
   "metadata": {},
   "outputs": [],
   "source": [
    "## in eV\n",
    "m_electron = 0.511e6\n",
    "m_lambda = 1116e6\n",
    "\n",
    "## in eV/T\n",
    "bohr_magneton = 5.788e-5\n",
    "\n",
    "## in eV s\n",
    "hbar = 6.582e-16\n",
    "\n",
    "## in m/s\n",
    "c = 299792458."
   ]
  },
  {
   "cell_type": "code",
   "execution_count": 5,
   "id": "308608c3",
   "metadata": {},
   "outputs": [],
   "source": [
    "## Assuming EDM is 0\n",
    "def particle_magneton(m_particle):\n",
    "    return bohr_magneton * m_electron / m_lambda\n",
    "\n",
    "def phi_rot(g: float, Dy: float, beta: float, m_particle: float):\n",
    "    muB = particle_magneton(m_particle)\n",
    "    return g * Dy * muB / (beta * hbar * c)"
   ]
  },
  {
   "cell_type": "code",
   "execution_count": 6,
   "id": "e70c3562",
   "metadata": {},
   "outputs": [],
   "source": [
    "def sx(g: float) -> float:\n",
    "    sz = 1\n",
    "    Dy = 4\n",
    "    beta = 1\n",
    "    \n",
    "    Phi_rot = phi_rot(g, Dy, beta, m_lambda)\n",
    "    \n",
    "    return - sz * np.sin(Phi_rot)\n",
    "\n",
    "def sz(g: float) -> float:\n",
    "    sz = 1\n",
    "    Dy = 4\n",
    "    beta = 1\n",
    "    \n",
    "    Phi_rot = phi_rot(g, Dy, beta, m_lambda)\n",
    "    \n",
    "    return sz * np.cos(Phi_rot)"
   ]
  },
  {
   "cell_type": "code",
   "execution_count": 7,
   "id": "5678f12b",
   "metadata": {},
   "outputs": [],
   "source": [
    "g = 1.226\n",
    "\n",
    "ctheta = ROOT.RooRealVar(\"ctheta\", \"ctheta\", 0., -1., 1.)\n",
    "phi = ROOT.RooRealVar(\"phi\", \"phi\", 0., -np.pi, np.pi)\n",
    "alpha = ROOT.RooFit.RooConst(0.732)\n",
    "sx = ROOT.RooFit.RooConst(sx(g))\n",
    "sz = ROOT.RooFit.RooConst(sz(g))"
   ]
  },
  {
   "cell_type": "code",
   "execution_count": 8,
   "id": "98c6bd72",
   "metadata": {},
   "outputs": [],
   "source": [
    "angular_pdf = ROOT.AngularDistribution(\"pdf\", \"pdf\", ctheta, phi, sx, sz, alpha)"
   ]
  },
  {
   "cell_type": "code",
   "execution_count": 9,
   "id": "fd675f9a",
   "metadata": {},
   "outputs": [
    {
     "data": {
      "text/plain": [
       "0.551977425457729"
      ]
     },
     "execution_count": 9,
     "metadata": {},
     "output_type": "execute_result"
    }
   ],
   "source": [
    "angular_pdf.evaluate()"
   ]
  },
  {
   "cell_type": "code",
   "execution_count": 10,
   "id": "d4e52788",
   "metadata": {},
   "outputs": [
    {
     "name": "stdout",
     "output_type": "stream",
     "text": [
      "[#1] INFO:NumericIntegration -- RooRealIntegral::init(pdf_Int[ctheta,phi]) using numeric integrator RooAdaptiveIntegratorND to calculate Int(ctheta,phi)\n",
      "[#1] INFO:DataHandling -- RooDataSet::write(pdfData) writing ASCII file unconvoluted_test.dat\n"
     ]
    }
   ],
   "source": [
    "data_noconv = angular_pdf.generate(ROOT.RooArgSet(ctheta, phi), 100000)\n",
    "data_noconv.write(\"unconvoluted_test.dat\")\n",
    "df_noconv = pd.read_csv('unconvoluted_test.dat', sep=\" \", header=None)\n",
    "df_noconv.drop(columns=[2], inplace=True)\n",
    "df_noconv.rename(columns={0: 'cos_theta', 1: 'phi'}, inplace=True)"
   ]
  },
  {
   "cell_type": "code",
   "execution_count": 11,
   "id": "fd2b5be9",
   "metadata": {},
   "outputs": [
    {
     "data": {
      "text/html": [
       "<div>\n",
       "<style scoped>\n",
       "    .dataframe tbody tr th:only-of-type {\n",
       "        vertical-align: middle;\n",
       "    }\n",
       "\n",
       "    .dataframe tbody tr th {\n",
       "        vertical-align: top;\n",
       "    }\n",
       "\n",
       "    .dataframe thead th {\n",
       "        text-align: right;\n",
       "    }\n",
       "</style>\n",
       "<table border=\"1\" class=\"dataframe\">\n",
       "  <thead>\n",
       "    <tr style=\"text-align: right;\">\n",
       "      <th></th>\n",
       "      <th>cos_theta</th>\n",
       "      <th>phi</th>\n",
       "    </tr>\n",
       "  </thead>\n",
       "  <tbody>\n",
       "    <tr>\n",
       "      <th>0</th>\n",
       "      <td>-0.092542</td>\n",
       "      <td>-1.748670</td>\n",
       "    </tr>\n",
       "    <tr>\n",
       "      <th>1</th>\n",
       "      <td>0.786748</td>\n",
       "      <td>1.515830</td>\n",
       "    </tr>\n",
       "    <tr>\n",
       "      <th>2</th>\n",
       "      <td>0.097034</td>\n",
       "      <td>-2.604970</td>\n",
       "    </tr>\n",
       "    <tr>\n",
       "      <th>3</th>\n",
       "      <td>-0.504857</td>\n",
       "      <td>-1.772200</td>\n",
       "    </tr>\n",
       "    <tr>\n",
       "      <th>4</th>\n",
       "      <td>0.826671</td>\n",
       "      <td>-1.061240</td>\n",
       "    </tr>\n",
       "    <tr>\n",
       "      <th>...</th>\n",
       "      <td>...</td>\n",
       "      <td>...</td>\n",
       "    </tr>\n",
       "    <tr>\n",
       "      <th>99995</th>\n",
       "      <td>-0.700661</td>\n",
       "      <td>0.933466</td>\n",
       "    </tr>\n",
       "    <tr>\n",
       "      <th>99996</th>\n",
       "      <td>0.723367</td>\n",
       "      <td>1.805950</td>\n",
       "    </tr>\n",
       "    <tr>\n",
       "      <th>99997</th>\n",
       "      <td>-0.509533</td>\n",
       "      <td>1.967210</td>\n",
       "    </tr>\n",
       "    <tr>\n",
       "      <th>99998</th>\n",
       "      <td>0.472264</td>\n",
       "      <td>2.378940</td>\n",
       "    </tr>\n",
       "    <tr>\n",
       "      <th>99999</th>\n",
       "      <td>0.657804</td>\n",
       "      <td>-2.028420</td>\n",
       "    </tr>\n",
       "  </tbody>\n",
       "</table>\n",
       "<p>100000 rows × 2 columns</p>\n",
       "</div>"
      ],
      "text/plain": [
       "       cos_theta       phi\n",
       "0      -0.092542 -1.748670\n",
       "1       0.786748  1.515830\n",
       "2       0.097034 -2.604970\n",
       "3      -0.504857 -1.772200\n",
       "4       0.826671 -1.061240\n",
       "...          ...       ...\n",
       "99995  -0.700661  0.933466\n",
       "99996   0.723367  1.805950\n",
       "99997  -0.509533  1.967210\n",
       "99998   0.472264  2.378940\n",
       "99999   0.657804 -2.028420\n",
       "\n",
       "[100000 rows x 2 columns]"
      ]
     },
     "execution_count": 11,
     "metadata": {},
     "output_type": "execute_result"
    }
   ],
   "source": [
    "df_noconv"
   ]
  },
  {
   "cell_type": "code",
   "execution_count": 12,
   "id": "687d2571",
   "metadata": {},
   "outputs": [
    {
     "data": {
      "image/png": "[encoded data removed]",
      "text/plain": [
       "<Figure size 432x288 with 1 Axes>"
      ]
     },
     "metadata": {
      "needs_background": "light"
     },
     "output_type": "display_data"
    }
   ],
   "source": [
    "plt.hist(df_noconv['cos_theta'],bins=100)\n",
    "plt.show()"
   ]
  },
  {
   "cell_type": "code",
   "execution_count": 13,
   "id": "ca78b2e7",
   "metadata": {},
   "outputs": [
    {
     "data": {
      "image/png": "[encoded data removed]",
      "text/plain": [
       "<Figure size 432x288 with 1 Axes>"
      ]
     },
     "metadata": {
      "needs_background": "light"
     },
     "output_type": "display_data"
    }
   ],
   "source": [
    "plt.hist(df_noconv['phi'],bins=100)\n",
    "plt.show()"
   ]
  },
  {
   "cell_type": "code",
   "execution_count": 14,
   "id": "919cc78c",
   "metadata": {},
   "outputs": [
    {
     "data": {
      "image/png": "[encoded data removed]",
      "text/plain": [
       "<Figure size 432x288 with 2 Axes>"
      ]
     },
     "metadata": {
      "needs_background": "light"
     },
     "output_type": "display_data"
    }
   ],
   "source": [
    "plt.hist2d(df_noconv['cos_theta'], df_noconv['phi'],bins=50, cmap='turbo')\n",
    "plt.colorbar()\n",
    "plt.show()"
   ]
  },
  {
   "cell_type": "markdown",
   "id": "9be81ab5",
   "metadata": {},
   "source": [
    "# $\\theta$-convoluted PDF"
   ]
  },
  {
   "cell_type": "code",
   "execution_count": 15,
   "id": "e32433b9",
   "metadata": {},
   "outputs": [],
   "source": [
    "theta_resolution = 0.097"
   ]
  },
  {
   "cell_type": "code",
   "execution_count": 16,
   "id": "76306464",
   "metadata": {},
   "outputs": [],
   "source": [
    "sigma_theta = ROOT.RooFit.RooConst(theta_resolution)\n",
    "mu_theta = ROOT.RooFit.RooConst(0.)"
   ]
  },
  {
   "cell_type": "code",
   "execution_count": 17,
   "id": "6311ad9a",
   "metadata": {},
   "outputs": [],
   "source": [
    "gaussian_theta = ROOT.RooGaussian(\"gaussian_theta\", \"gaussian_theta\", ctheta, mu_theta, sigma_theta)"
   ]
  },
  {
   "cell_type": "code",
   "execution_count": 18,
   "id": "671581c4",
   "metadata": {},
   "outputs": [
    {
     "name": "stdout",
     "output_type": "stream",
     "text": [
      "[#1] INFO:Caching -- Changing internal binning of variable 'ctheta' in FFT 'pdf_theta_conv' from 100 to 930 to improve the precision of the numerical FFT. This can be done manually by setting an additional binning named 'cache'.\n"
     ]
    }
   ],
   "source": [
    "pdf_theta_conv = ROOT.RooFFTConvPdf(\"pdf_theta_conv\", \"pdf_theta_conv\", ctheta, angular_pdf, gaussian_theta)"
   ]
  },
  {
   "cell_type": "code",
   "execution_count": 19,
   "id": "96a7dc94",
   "metadata": {},
   "outputs": [
    {
     "data": {
      "text/plain": [
       "0.1"
      ]
     },
     "execution_count": 19,
     "metadata": {},
     "output_type": "execute_result"
    }
   ],
   "source": [
    "pdf_theta_conv.bufferFraction()"
   ]
  },
  {
   "cell_type": "code",
   "execution_count": 20,
   "id": "17a09944",
   "metadata": {},
   "outputs": [],
   "source": [
    "#pdf_theta_conv.setBufferFraction(0.)\n",
    "#pdf_theta_conv.bufferFraction()"
   ]
  },
  {
   "cell_type": "code",
   "execution_count": 21,
   "id": "021b97a2",
   "metadata": {},
   "outputs": [
    {
     "data": {
      "text/plain": [
       "0"
      ]
     },
     "execution_count": 21,
     "metadata": {},
     "output_type": "execute_result"
    }
   ],
   "source": [
    "pdf_theta_conv.bufferStrategy()"
   ]
  },
  {
   "cell_type": "code",
   "execution_count": 22,
   "id": "63dfa7df",
   "metadata": {
    "scrolled": false
   },
   "outputs": [
    {
     "data": {
      "text/plain": [
       "2"
      ]
     },
     "execution_count": 22,
     "metadata": {},
     "output_type": "execute_result"
    }
   ],
   "source": [
    "pdf_theta_conv.setBufferStrategy(2)\n",
    "pdf_theta_conv.bufferStrategy()"
   ]
  },
  {
   "cell_type": "code",
   "execution_count": 23,
   "id": "7c80856b",
   "metadata": {},
   "outputs": [
    {
     "name": "stdout",
     "output_type": "stream",
     "text": [
      "114.23363057523966\n",
      "[#1] INFO:Eval -- RooRealVar::setRange(ctheta) new range named 'refrange_fft_pdf_theta_conv' created with bounds [-1,1]\n",
      "[#1] INFO:NumericIntegration -- RooRealIntegral::init(pdf_Int[ctheta]) using numeric integrator RooIntegrator1D to calculate Int(ctheta)\n",
      "[#1] INFO:Caching -- RooAbsCachedPdf::getCache(pdf_theta_conv) creating new cache 0x97eb6f0 with pdf pdf_CONV_gaussian_theta_CACHE_Obs[ctheta]_NORM_ctheta_phi for nset (ctheta,phi) with code 0\n",
      "[#1] INFO:NumericIntegration -- RooRealIntegral::init(pdf_CONV_gaussian_theta_CACHE_Obs[ctheta]_NORM_ctheta_phi_Int[ctheta,phi]) using numeric integrator RooIntegrator1D to calculate Int(phi)\n",
      "[#1] INFO:NumericIntegration -- RooRealIntegral::init(pdf_Int[ctheta]) using numeric integrator RooIntegrator1D to calculate Int(ctheta)\n",
      "[#1] INFO:Caching -- RooAbsCachedPdf::getCache(pdf_theta_conv) creating new cache 0x9a32b30 with pdf pdf_CONV_gaussian_theta_CACHE_Obs[ctheta]_NORM_ctheta_phi for nset (ctheta,phi) with code 0\n",
      "[#1] INFO:NumericIntegration -- RooRealIntegral::init(pdf_CONV_gaussian_theta_CACHE_Obs[ctheta]_NORM_ctheta_phi_Int[ctheta,phi]) using numeric integrator RooIntegrator1D to calculate Int(phi)\n"
     ]
    }
   ],
   "source": [
    "tick = time.perf_counter()\n",
    "data_theta_conv = pdf_theta_conv.generate(ROOT.RooArgSet(ctheta, phi), 100000)\n",
    "tock = time.perf_counter()\n",
    "print(tock - tick)\n",
    "#data_theta_conv = pdf_theta_conv.generate(ctheta, 10000)"
   ]
  },
  {
   "cell_type": "code",
   "execution_count": 24,
   "id": "3ca1aef3",
   "metadata": {},
   "outputs": [
    {
     "name": "stdout",
     "output_type": "stream",
     "text": [
      "[#1] INFO:DataHandling -- RooDataSet::write(pdf_theta_convData) writing ASCII file theta_conv_test.dat\n"
     ]
    }
   ],
   "source": [
    "data_theta_conv.write(\"theta_conv_test.dat\")\n",
    "df_theta_conv = pd.read_csv('theta_conv_test.dat', sep=\" \", header=None)\n",
    "df_theta_conv.drop(columns=[2], inplace=True)\n",
    "df_theta_conv.rename(columns={0: 'cos_theta', 1: 'phi'}, inplace=True)"
   ]
  },
  {
   "cell_type": "code",
   "execution_count": 25,
   "id": "280b4eb8",
   "metadata": {},
   "outputs": [
    {
     "data": {
      "text/html": [
       "<div>\n",
       "<style scoped>\n",
       "    .dataframe tbody tr th:only-of-type {\n",
       "        vertical-align: middle;\n",
       "    }\n",
       "\n",
       "    .dataframe tbody tr th {\n",
       "        vertical-align: top;\n",
       "    }\n",
       "\n",
       "    .dataframe thead th {\n",
       "        text-align: right;\n",
       "    }\n",
       "</style>\n",
       "<table border=\"1\" class=\"dataframe\">\n",
       "  <thead>\n",
       "    <tr style=\"text-align: right;\">\n",
       "      <th></th>\n",
       "      <th>cos_theta</th>\n",
       "      <th>phi</th>\n",
       "    </tr>\n",
       "  </thead>\n",
       "  <tbody>\n",
       "    <tr>\n",
       "      <th>0</th>\n",
       "      <td>0.953940</td>\n",
       "      <td>-3.132340</td>\n",
       "    </tr>\n",
       "    <tr>\n",
       "      <th>1</th>\n",
       "      <td>-0.720874</td>\n",
       "      <td>-1.996080</td>\n",
       "    </tr>\n",
       "    <tr>\n",
       "      <th>2</th>\n",
       "      <td>0.859159</td>\n",
       "      <td>2.362570</td>\n",
       "    </tr>\n",
       "    <tr>\n",
       "      <th>3</th>\n",
       "      <td>0.755553</td>\n",
       "      <td>0.854252</td>\n",
       "    </tr>\n",
       "    <tr>\n",
       "      <th>4</th>\n",
       "      <td>0.832146</td>\n",
       "      <td>1.148780</td>\n",
       "    </tr>\n",
       "    <tr>\n",
       "      <th>...</th>\n",
       "      <td>...</td>\n",
       "      <td>...</td>\n",
       "    </tr>\n",
       "    <tr>\n",
       "      <th>99995</th>\n",
       "      <td>0.407353</td>\n",
       "      <td>3.115730</td>\n",
       "    </tr>\n",
       "    <tr>\n",
       "      <th>99996</th>\n",
       "      <td>0.226729</td>\n",
       "      <td>2.603730</td>\n",
       "    </tr>\n",
       "    <tr>\n",
       "      <th>99997</th>\n",
       "      <td>-0.756814</td>\n",
       "      <td>-3.029030</td>\n",
       "    </tr>\n",
       "    <tr>\n",
       "      <th>99998</th>\n",
       "      <td>-0.394159</td>\n",
       "      <td>-2.418790</td>\n",
       "    </tr>\n",
       "    <tr>\n",
       "      <th>99999</th>\n",
       "      <td>-0.007157</td>\n",
       "      <td>-2.475190</td>\n",
       "    </tr>\n",
       "  </tbody>\n",
       "</table>\n",
       "<p>100000 rows × 2 columns</p>\n",
       "</div>"
      ],
      "text/plain": [
       "       cos_theta       phi\n",
       "0       0.953940 -3.132340\n",
       "1      -0.720874 -1.996080\n",
       "2       0.859159  2.362570\n",
       "3       0.755553  0.854252\n",
       "4       0.832146  1.148780\n",
       "...          ...       ...\n",
       "99995   0.407353  3.115730\n",
       "99996   0.226729  2.603730\n",
       "99997  -0.756814 -3.029030\n",
       "99998  -0.394159 -2.418790\n",
       "99999  -0.007157 -2.475190\n",
       "\n",
       "[100000 rows x 2 columns]"
      ]
     },
     "execution_count": 25,
     "metadata": {},
     "output_type": "execute_result"
    }
   ],
   "source": [
    "df_theta_conv"
   ]
  },
  {
   "cell_type": "code",
   "execution_count": 26,
   "id": "410c709f",
   "metadata": {},
   "outputs": [
    {
     "data": {
      "image/png": "[encoded data removed]",
      "text/plain": [
       "<Figure size 432x288 with 1 Axes>"
      ]
     },
     "metadata": {
      "needs_background": "light"
     },
     "output_type": "display_data"
    }
   ],
   "source": [
    "plt.hist(df_theta_conv['cos_theta'],bins=100)\n",
    "plt.show()"
   ]
  },
  {
   "cell_type": "code",
   "execution_count": 27,
   "id": "8b252a2c",
   "metadata": {},
   "outputs": [
    {
     "data": {
      "image/png": "[encoded data removed]",
      "text/plain": [
       "<Figure size 432x288 with 1 Axes>"
      ]
     },
     "metadata": {
      "needs_background": "light"
     },
     "output_type": "display_data"
    }
   ],
   "source": [
    "plt.hist(df_theta_conv['phi'],bins=100)\n",
    "plt.show()"
   ]
  },
  {
   "cell_type": "code",
   "execution_count": 28,
   "id": "d0c0dbc8",
   "metadata": {
    "scrolled": true
   },
   "outputs": [
    {
     "data": {
      "image/png": "[encoded data removed]",
      "text/plain": [
       "<Figure size 432x288 with 2 Axes>"
      ]
     },
     "metadata": {
      "needs_background": "light"
     },
     "output_type": "display_data"
    }
   ],
   "source": [
    "plt.hist2d(df_theta_conv['cos_theta'], df_theta_conv['phi'],bins=50, cmap='turbo')\n",
    "plt.xlim(-1,1)\n",
    "plt.ylim(-np.pi,np.pi)\n",
    "plt.colorbar()\n",
    "plt.show()"
   ]
  },
  {
   "cell_type": "markdown",
   "id": "a31af4a2",
   "metadata": {},
   "source": [
    "# $\\theta$- and $\\phi$-convoluted PDF"
   ]
  },
  {
   "cell_type": "code",
   "execution_count": 29,
   "id": "ec1f6776",
   "metadata": {},
   "outputs": [],
   "source": [
    "phi_resolution = 0.332"
   ]
  },
  {
   "cell_type": "code",
   "execution_count": 30,
   "id": "638b02e6",
   "metadata": {},
   "outputs": [],
   "source": [
    "sigma_phi = ROOT.RooFit.RooConst(phi_resolution)\n",
    "mu_phi = ROOT.RooFit.RooConst(0.)"
   ]
  },
  {
   "cell_type": "code",
   "execution_count": 31,
   "id": "e8684f74",
   "metadata": {},
   "outputs": [],
   "source": [
    "gaussian_phi = ROOT.RooGaussian(\"gaussian_phi\", \"gaussian_phi\", phi, mu_phi, sigma_phi)"
   ]
  },
  {
   "cell_type": "code",
   "execution_count": 32,
   "id": "a10046d9",
   "metadata": {},
   "outputs": [
    {
     "name": "stdout",
     "output_type": "stream",
     "text": [
      "[#1] INFO:Caching -- Changing internal binning of variable 'phi' in FFT 'pdf_theta_phi_conv' from 100 to 930 to improve the precision of the numerical FFT. This can be done manually by setting an additional binning named 'cache'.\n"
     ]
    }
   ],
   "source": [
    "pdf_theta_phi_conv = ROOT.RooFFTConvPdf(\"pdf_theta_phi_conv\", \"pdf_theta_phi_conv\", phi, pdf_theta_conv, gaussian_phi)"
   ]
  },
  {
   "cell_type": "code",
   "execution_count": 33,
   "id": "6e269a72",
   "metadata": {
    "scrolled": false
   },
   "outputs": [],
   "source": [
    "pdf_theta_phi_conv.setBufferStrategy(2)"
   ]
  },
  {
   "cell_type": "code",
   "execution_count": 34,
   "id": "95d26083",
   "metadata": {},
   "outputs": [
    {
     "name": "stdout",
     "output_type": "stream",
     "text": [
      "3361.037749812007\n",
      "[#1] INFO:Eval -- RooRealVar::setRange(phi) new range named 'refrange_fft_pdf_theta_phi_conv' created with bounds [-3.14159,3.14159]\n",
      "[#1] INFO:Caching -- RooAbsCachedPdf::getCache(pdf_theta_conv) creating new cache 0x9fddd00 with pdf pdf_CONV_gaussian_theta_CACHE_Obs[phi,ctheta]_NORM_phi for nset (phi) with code 0\n",
      "[#1] INFO:Caching -- RooAbsCachedPdf::getCache(pdf_theta_phi_conv) creating new cache 0x9fc9a00 with pdf pdf_theta_conv_CONV_gaussian_phi_CACHE_Obs[phi]_NORM_ctheta_phi for nset (ctheta,phi) with code 0\n",
      "[#1] INFO:NumericIntegration -- RooRealIntegral::init(pdf_theta_conv_CONV_gaussian_phi_CACHE_Obs[phi]_NORM_ctheta_phi_Int[ctheta,phi]) using numeric integrator RooIntegrator1D to calculate Int(ctheta)\n",
      "[#1] INFO:Caching -- RooAbsCachedPdf::getCache(pdf_theta_conv) creating new cache 0xcf015b0 with pdf pdf_CONV_gaussian_theta_CACHE_Obs[phi,ctheta]_NORM_phi for nset (phi) with code 0 from preexisting content.\n",
      "[#1] INFO:Caching -- RooAbsCachedPdf::getCache(pdf_theta_phi_conv) creating new cache 0xceed760 with pdf pdf_theta_conv_CONV_gaussian_phi_CACHE_Obs[phi]_NORM_ctheta_phi for nset (ctheta,phi) with code 0\n",
      "[#1] INFO:NumericIntegration -- RooRealIntegral::init(pdf_theta_conv_CONV_gaussian_phi_CACHE_Obs[phi]_NORM_ctheta_phi_Int[ctheta,phi]) using numeric integrator RooIntegrator1D to calculate Int(ctheta)\n"
     ]
    }
   ],
   "source": [
    "tick = time.perf_counter()\n",
    "data_theta_phi_conv = pdf_theta_phi_conv.generate(ROOT.RooArgSet(ctheta, phi), 100000)\n",
    "tock = time.perf_counter()\n",
    "print(tock - tick)"
   ]
  },
  {
   "cell_type": "code",
   "execution_count": 35,
   "id": "db7dd3c0",
   "metadata": {},
   "outputs": [
    {
     "name": "stdout",
     "output_type": "stream",
     "text": [
      "[#1] INFO:DataHandling -- RooDataSet::write(pdf_theta_phi_convData) writing ASCII file theta_phi_conv_test.dat\n"
     ]
    }
   ],
   "source": [
    "data_theta_phi_conv.write(\"theta_phi_conv_test.dat\")\n",
    "df_theta_phi_conv = pd.read_csv('theta_phi_conv_test.dat', sep=\" \", header=None)\n",
    "df_theta_phi_conv.drop(columns=[2], inplace=True)\n",
    "df_theta_phi_conv.rename(columns={0: 'cos_theta', 1: 'phi'}, inplace=True)"
   ]
  },
  {
   "cell_type": "code",
   "execution_count": 36,
   "id": "a404659a",
   "metadata": {},
   "outputs": [
    {
     "data": {
      "text/html": [
       "<div>\n",
       "<style scoped>\n",
       "    .dataframe tbody tr th:only-of-type {\n",
       "        vertical-align: middle;\n",
       "    }\n",
       "\n",
       "    .dataframe tbody tr th {\n",
       "        vertical-align: top;\n",
       "    }\n",
       "\n",
       "    .dataframe thead th {\n",
       "        text-align: right;\n",
       "    }\n",
       "</style>\n",
       "<table border=\"1\" class=\"dataframe\">\n",
       "  <thead>\n",
       "    <tr style=\"text-align: right;\">\n",
       "      <th></th>\n",
       "      <th>cos_theta</th>\n",
       "      <th>phi</th>\n",
       "    </tr>\n",
       "  </thead>\n",
       "  <tbody>\n",
       "    <tr>\n",
       "      <th>0</th>\n",
       "      <td>0.827647</td>\n",
       "      <td>2.465840</td>\n",
       "    </tr>\n",
       "    <tr>\n",
       "      <th>1</th>\n",
       "      <td>-0.297857</td>\n",
       "      <td>2.081670</td>\n",
       "    </tr>\n",
       "    <tr>\n",
       "      <th>2</th>\n",
       "      <td>0.611567</td>\n",
       "      <td>1.226110</td>\n",
       "    </tr>\n",
       "    <tr>\n",
       "      <th>3</th>\n",
       "      <td>0.902566</td>\n",
       "      <td>0.141068</td>\n",
       "    </tr>\n",
       "    <tr>\n",
       "      <th>4</th>\n",
       "      <td>-0.602676</td>\n",
       "      <td>-2.895740</td>\n",
       "    </tr>\n",
       "    <tr>\n",
       "      <th>...</th>\n",
       "      <td>...</td>\n",
       "      <td>...</td>\n",
       "    </tr>\n",
       "    <tr>\n",
       "      <th>99995</th>\n",
       "      <td>-0.462799</td>\n",
       "      <td>2.414960</td>\n",
       "    </tr>\n",
       "    <tr>\n",
       "      <th>99996</th>\n",
       "      <td>-0.162771</td>\n",
       "      <td>-2.897930</td>\n",
       "    </tr>\n",
       "    <tr>\n",
       "      <th>99997</th>\n",
       "      <td>0.921845</td>\n",
       "      <td>2.522090</td>\n",
       "    </tr>\n",
       "    <tr>\n",
       "      <th>99998</th>\n",
       "      <td>-0.004698</td>\n",
       "      <td>1.253690</td>\n",
       "    </tr>\n",
       "    <tr>\n",
       "      <th>99999</th>\n",
       "      <td>0.991553</td>\n",
       "      <td>-0.872908</td>\n",
       "    </tr>\n",
       "  </tbody>\n",
       "</table>\n",
       "<p>100000 rows × 2 columns</p>\n",
       "</div>"
      ],
      "text/plain": [
       "       cos_theta       phi\n",
       "0       0.827647  2.465840\n",
       "1      -0.297857  2.081670\n",
       "2       0.611567  1.226110\n",
       "3       0.902566  0.141068\n",
       "4      -0.602676 -2.895740\n",
       "...          ...       ...\n",
       "99995  -0.462799  2.414960\n",
       "99996  -0.162771 -2.897930\n",
       "99997   0.921845  2.522090\n",
       "99998  -0.004698  1.253690\n",
       "99999   0.991553 -0.872908\n",
       "\n",
       "[100000 rows x 2 columns]"
      ]
     },
     "execution_count": 36,
     "metadata": {},
     "output_type": "execute_result"
    }
   ],
   "source": [
    "df_theta_phi_conv"
   ]
  },
  {
   "cell_type": "code",
   "execution_count": 37,
   "id": "3307f40d",
   "metadata": {},
   "outputs": [
    {
     "data": {
      "image/png": "[encoded data removed]",
      "text/plain": [
       "<Figure size 432x288 with 1 Axes>"
      ]
     },
     "metadata": {
      "needs_background": "light"
     },
     "output_type": "display_data"
    }
   ],
   "source": [
    "plt.hist(df_theta_phi_conv['cos_theta'],bins=100)\n",
    "plt.show()"
   ]
  },
  {
   "cell_type": "code",
   "execution_count": 38,
   "id": "c270b1a3",
   "metadata": {},
   "outputs": [
    {
     "data": {
      "image/png": "[encoded data removed]",
      "text/plain": [
       "<Figure size 432x288 with 1 Axes>"
      ]
     },
     "metadata": {
      "needs_background": "light"
     },
     "output_type": "display_data"
    }
   ],
   "source": [
    "plt.hist(df_theta_phi_conv['phi'],bins=100)\n",
    "plt.show()"
   ]
  },
  {
   "cell_type": "code",
   "execution_count": 39,
   "id": "b094c0c4",
   "metadata": {
    "scrolled": true
   },
   "outputs": [
    {
     "data": {
      "image/png": "[encoded data removed]",
      "text/plain": [
       "<Figure size 432x288 with 2 Axes>"
      ]
     },
     "metadata": {
      "needs_background": "light"
     },
     "output_type": "display_data"
    }
   ],
   "source": [
    "plt.hist2d(df_theta_phi_conv['cos_theta'], df_theta_phi_conv['phi'],bins=50, cmap='turbo')\n",
    "plt.xlim(-1,1)\n",
    "plt.ylim(-np.pi,np.pi)\n",
    "plt.colorbar()\n",
    "plt.show()"
   ]
  },
  {
   "cell_type": "code",
   "execution_count": null,
   "id": "eb19134b",
   "metadata": {},
   "outputs": [],
   "source": []
  },
  {
   "cell_type": "markdown",
   "id": "6cd56a85",
   "metadata": {},
   "source": [
    "This finds the value in 1D."
   ]
  },
  {
   "cell_type": "code",
   "execution_count": null,
   "id": "0c029c04",
   "metadata": {},
   "outputs": [],
   "source": [
    "#xframe = ctheta.frame()"
   ]
  },
  {
   "cell_type": "code",
   "execution_count": null,
   "id": "90a93d3b",
   "metadata": {},
   "outputs": [],
   "source": [
    "#theta_convoluted.plotOn(xframe, ROOT.RooFit.Name(\"theta_convoluted\"))"
   ]
  },
  {
   "cell_type": "code",
   "execution_count": null,
   "id": "c439e2c6",
   "metadata": {},
   "outputs": [],
   "source": [
    "#func = xframe.findObject(\"theta_convoluted\")"
   ]
  },
  {
   "cell_type": "code",
   "execution_count": null,
   "id": "de074cc8",
   "metadata": {},
   "outputs": [],
   "source": [
    "#func.Eval(0.)"
   ]
  },
  {
   "cell_type": "code",
   "execution_count": null,
   "id": "41de14a9",
   "metadata": {},
   "outputs": [],
   "source": []
  }
 ],
 "metadata": {
  "kernelspec": {
   "display_name": "Python 3",
   "language": "python",
   "name": "python3"
  },
  "language_info": {
   "codemirror_mode": {
    "name": "ipython",
    "version": 3
   },
   "file_extension": ".py",
   "mimetype": "text/x-python",
   "name": "python",
   "nbconvert_exporter": "python",
   "pygments_lexer": "ipython3",
   "version": "3.6.8"
  }
 },
 "nbformat": 4,
 "nbformat_minor": 5
}
